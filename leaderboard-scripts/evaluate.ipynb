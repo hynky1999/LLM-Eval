{
 "cells": [
  {
   "cell_type": "code",
   "execution_count": 370,
   "metadata": {},
   "outputs": [],
   "source": [
    "from pathlib import Path\n",
    "import mlflow\n",
    "\n",
    "TSP_EXPERIMENTS = {\n",
    "    603996644784169297: \"hynky-TSP-Verbal\",\n",
    "    193975243763088023: \"hynky-TSP-Culture\",\n",
    "    842945248455049410: \"hynky-TSP-Critical\",\n",
    "    996016737840831842: \"hynky-TSP-Analytical\"\n",
    "}\n",
    "\n",
    "TSP_runs = mlflow.search_runs(experiment_names=TSP_EXPERIMENTS.values())\n",
    "klokan_runs = mlflow.search_runs(experiment_names=[\"hynky-klokan-qa-train\"])\n",
    "\n",
    "TSP_runs['params.split'] = TSP_runs['params.dataset_split'].where(TSP_runs['params.dataset_split'].notnull(), TSP_runs['params.split'])"
   ]
  },
  {
   "cell_type": "code",
   "execution_count": 372,
   "metadata": {},
   "outputs": [
    {
     "data": {
      "text/plain": [
       "0       Culture\n",
       "1        Verbal\n",
       "2      Critical\n",
       "3    Analytical\n",
       "Name: params.split, dtype: object"
      ]
     },
     "execution_count": 372,
     "metadata": {},
     "output_type": "execute_result"
    }
   ],
   "source": [
    "TSP_runs[TSP_runs[\"params.model_name\"] == \"anthropic/claude-2.1\"][\"params.split\"]\n"
   ]
  },
  {
   "cell_type": "code",
   "execution_count": 373,
   "metadata": {},
   "outputs": [],
   "source": [
    "## General table\n",
    "res = TSP_runs[[\"metrics.accuracy\", \"params.split\", \"params.model_name\"]].pivot_table(index=\"params.model_name\", columns=\"params.split\", values=\"metrics.accuracy\")\n",
    "\n",
    "# Rename the params.split to task\n",
    "res = res.rename(columns={\"Analytical\": \"analytical\", \"Critical\": \"critical\", \"Culture\": \"culture\", \"Verbal\": \"verbal\"})\n",
    "\n",
    "# Join with Klokan\n",
    "klokan = klokan_runs[[\"metrics.accuracy\", \"params.model_name\"]].pivot_table(index=\"params.model_name\", values=\"metrics.accuracy\")\n",
    "klokan.rename(columns={\"metrics.accuracy\": \"klokan\"}, inplace=True)\n",
    "\n",
    "joined = res.join(klokan)\n",
    "# Rename index params.models_name to model_name\n",
    "joined.index.rename('model_name', inplace=True)\n",
    "\n"
   ]
  },
  {
   "cell_type": "code",
   "execution_count": 374,
   "metadata": {},
   "outputs": [
    {
     "data": {
      "text/html": [
       "<div>\n",
       "<style scoped>\n",
       "    .dataframe tbody tr th:only-of-type {\n",
       "        vertical-align: middle;\n",
       "    }\n",
       "\n",
       "    .dataframe tbody tr th {\n",
       "        vertical-align: top;\n",
       "    }\n",
       "\n",
       "    .dataframe thead th {\n",
       "        text-align: right;\n",
       "    }\n",
       "</style>\n",
       "<table border=\"1\" class=\"dataframe\">\n",
       "  <thead>\n",
       "    <tr style=\"text-align: right;\">\n",
       "      <th></th>\n",
       "      <th>analytical</th>\n",
       "      <th>critical</th>\n",
       "      <th>culture</th>\n",
       "      <th>verbal</th>\n",
       "      <th>klokan</th>\n",
       "    </tr>\n",
       "    <tr>\n",
       "      <th>model_name</th>\n",
       "      <th></th>\n",
       "      <th></th>\n",
       "      <th></th>\n",
       "      <th></th>\n",
       "      <th></th>\n",
       "    </tr>\n",
       "  </thead>\n",
       "  <tbody>\n",
       "    <tr>\n",
       "      <th>anthropic/claude-2.1</th>\n",
       "      <td>0.380403</td>\n",
       "      <td>0.644991</td>\n",
       "      <td>0.798177</td>\n",
       "      <td>0.633634</td>\n",
       "      <td>0.382388</td>\n",
       "    </tr>\n",
       "    <tr>\n",
       "      <th>google/gemini-pro</th>\n",
       "      <td>0.268012</td>\n",
       "      <td>0.599297</td>\n",
       "      <td>0.782552</td>\n",
       "      <td>0.576577</td>\n",
       "      <td>0.235223</td>\n",
       "    </tr>\n",
       "    <tr>\n",
       "      <th>mistralai/mixtral-8x7b-instruct</th>\n",
       "      <td>0.244957</td>\n",
       "      <td>0.483304</td>\n",
       "      <td>0.643229</td>\n",
       "      <td>0.369369</td>\n",
       "      <td>0.253317</td>\n",
       "    </tr>\n",
       "    <tr>\n",
       "      <th>openai/gpt-3.5-turbo</th>\n",
       "      <td>0.277618</td>\n",
       "      <td>0.465729</td>\n",
       "      <td>0.682292</td>\n",
       "      <td>0.408408</td>\n",
       "      <td>0.314837</td>\n",
       "    </tr>\n",
       "    <tr>\n",
       "      <th>openai/gpt-4-1106-preview</th>\n",
       "      <td>0.479347</td>\n",
       "      <td>0.766257</td>\n",
       "      <td>0.916667</td>\n",
       "      <td>0.720721</td>\n",
       "      <td>0.478890</td>\n",
       "    </tr>\n",
       "  </tbody>\n",
       "</table>\n",
       "</div>"
      ],
      "text/plain": [
       "                                 analytical  critical   culture    verbal  \\\n",
       "model_name                                                                  \n",
       "anthropic/claude-2.1               0.380403  0.644991  0.798177  0.633634   \n",
       "google/gemini-pro                  0.268012  0.599297  0.782552  0.576577   \n",
       "mistralai/mixtral-8x7b-instruct    0.244957  0.483304  0.643229  0.369369   \n",
       "openai/gpt-3.5-turbo               0.277618  0.465729  0.682292  0.408408   \n",
       "openai/gpt-4-1106-preview          0.479347  0.766257  0.916667  0.720721   \n",
       "\n",
       "                                   klokan  \n",
       "model_name                                 \n",
       "anthropic/claude-2.1             0.382388  \n",
       "google/gemini-pro                0.235223  \n",
       "mistralai/mixtral-8x7b-instruct  0.253317  \n",
       "openai/gpt-3.5-turbo             0.314837  \n",
       "openai/gpt-4-1106-preview        0.478890  "
      ]
     },
     "execution_count": 374,
     "metadata": {},
     "output_type": "execute_result"
    }
   ],
   "source": [
    "joined"
   ]
  },
  {
   "cell_type": "code",
   "execution_count": 375,
   "metadata": {},
   "outputs": [],
   "source": [
    "\n",
    "import os\n",
    "\n",
    "# Create the directory if it does not exist\n",
    "if not os.path.exists(\"leaderboard\"):\n",
    "    os.makedirs(\"leaderboard\")\n",
    "\n",
    "\n",
    "joined.to_csv(\"leaderboard/table.csv\")"
   ]
  },
  {
   "cell_type": "code",
   "execution_count": 473,
   "metadata": {},
   "outputs": [],
   "source": [
    "\n",
    "import pandas as pd\n",
    "\n",
    "# Klokan spider preparation\n",
    "\n",
    "# Function to process each artifact and calculate accuracy\n",
    "def process_artifact(artifact_info):\n",
    "    artifact_info = artifact_info.replace(\"file:\", \"\")\n",
    "    try:\n",
    "        dataset_path = Path(artifact_info)\n",
    "        if (dataset_path / \"dataset.json\").exists():\n",
    "            with open(dataset_path / \"dataset.json\", \"r\") as f:\n",
    "                x = pd.read_json(f, lines=True)\n",
    "        elif (dataset_path / \"dataset.csv\").exists():\n",
    "            x = pd.read_json(dataset_path / \"dataset.csv\", lines=True)\n",
    "        else:\n",
    "            print(f\"Neither dataset.json nor dataset.csv could be found in {dataset_path}\")\n",
    "            raise FileNotFoundError(\"Neither dataset.json nor dataset.csv could be found.\")\n",
    "    except:\n",
    "        return None\n",
    "    # Parse into a real DataFrame\n",
    "    real_df = pd.DataFrame.from_records(x[\"data\"][0], columns=x[\"columns\"][0])\n",
    "\n",
    "    # Add a column indicating whether the answer was correct\n",
    "    real_df[\"is_correct\"] = real_df.apply(lambda row: row[\"answer\"] == row[\"correct_answer\"], axis=1)\n",
    "\n",
    "    # Group by 'category' and calculate mean accuracy\n",
    "    category_accuracy = real_df.groupby(\"category\")[\"is_correct\"].mean()\n",
    "\n",
    "    return category_accuracy\n",
    "\n",
    "# Process each artifact and store the results\n",
    "all_category_accuracies = [(process_artifact(artifact[1][\"artifact_uri\"]), artifact[1].get(\"params.model_name\")) for artifact in klokan_runs.iterrows()]\n",
    "combined_accuracies = pd.concat([x[0].rename(x[1]) for x in all_category_accuracies], axis=1).T\n",
    "df = combined_accuracies\n",
    "df = df* 100\n",
    "\n",
    "# Rename the columns\n",
    "categories = [\n",
    "    \"Elementary 2-3\",\n",
    "    \"Elementary 4-5\",\n",
    "    \"Elementary 6-7\",\n",
    "    \"Elementary 8-9\",\n",
    "    \"High School 1-2\",\n",
    "    \"High School 3-4\"\n",
    "]\n",
    "\n",
    "df.columns = categories\n",
    "df.sort_index(inplace=True)\n",
    "\n",
    "df.to_csv(\"leaderboard/klokan.csv\")\n"
   ]
  },
  {
   "cell_type": "code",
   "execution_count": 474,
   "metadata": {},
   "outputs": [
    {
     "name": "stderr",
     "output_type": "stream",
     "text": [
      "/var/folders/2d/1lzfggg57wb3mqjn29gpyts40000gn/T/ipykernel_64687/3646367235.py:29: FutureWarning:\n",
      "\n",
      "Series.__getitem__ treating keys as positions is deprecated. In a future version, integer keys will always be treated as labels (consistent with DataFrame behavior). To access a value by position, use `ser.iloc[pos]`\n",
      "\n"
     ]
    },
    {
     "data": {
      "application/vnd.plotly.v1+json": {
       "config": {
        "plotlyServerURL": "https://plot.ly"
       },
       "data": [
        {
         "line": {
          "color": "#1f77b4",
          "width": 4
         },
         "name": "anthropic/claude-2.1",
         "opacity": 0.4,
         "r": [
          43.96551724137931,
          50.35971223021583,
          39.87730061349693,
          39.75155279503105,
          33.33333333333333,
          14.772727272727273,
          43.96551724137931
         ],
         "theta": [
          "Elementary 2-3",
          "Elementary 4-5",
          "Elementary 6-7",
          "Elementary 8-9",
          "High School 1-2",
          "High School 3-4",
          "Elementary 2-3"
         ],
         "type": "scatterpolar"
        },
        {
         "line": {
          "color": "#ff7f0e",
          "width": 4
         },
         "name": "google/gemini-pro",
         "opacity": 0.4,
         "r": [
          25,
          28.05755395683453,
          22.699386503067483,
          20.496894409937887,
          24.691358024691358,
          19.318181818181817,
          25
         ],
         "theta": [
          "Elementary 2-3",
          "Elementary 4-5",
          "Elementary 6-7",
          "Elementary 8-9",
          "High School 1-2",
          "High School 3-4",
          "Elementary 2-3"
         ],
         "type": "scatterpolar"
        },
        {
         "line": {
          "color": "#2ca02c",
          "width": 4
         },
         "name": "mistralai/mixtral-8x7b-instruct",
         "opacity": 0.4,
         "r": [
          34.48275862068966,
          25.899280575539567,
          25.766871165644172,
          25.465838509316768,
          20.98765432098765,
          19.318181818181817,
          34.48275862068966
         ],
         "theta": [
          "Elementary 2-3",
          "Elementary 4-5",
          "Elementary 6-7",
          "Elementary 8-9",
          "High School 1-2",
          "High School 3-4",
          "Elementary 2-3"
         ],
         "type": "scatterpolar"
        },
        {
         "line": {
          "color": "#d62728",
          "width": 4
         },
         "name": "openai/gpt-3.5-turbo",
         "opacity": 0.4,
         "r": [
          37.06896551724138,
          41.007194244604314,
          33.74233128834356,
          29.81366459627329,
          26.543209876543212,
          17.045454545454543,
          37.06896551724138
         ],
         "theta": [
          "Elementary 2-3",
          "Elementary 4-5",
          "Elementary 6-7",
          "Elementary 8-9",
          "High School 1-2",
          "High School 3-4",
          "Elementary 2-3"
         ],
         "type": "scatterpolar"
        },
        {
         "line": {
          "color": "#9467bd",
          "width": 4
         },
         "name": "openai/gpt-4-1106-preview",
         "opacity": 0.4,
         "r": [
          66.37931034482759,
          62.589928057553955,
          50.306748466257666,
          40.993788819875775,
          32.71604938271605,
          36.36363636363637,
          66.37931034482759
         ],
         "theta": [
          "Elementary 2-3",
          "Elementary 4-5",
          "Elementary 6-7",
          "Elementary 8-9",
          "High School 1-2",
          "High School 3-4",
          "Elementary 2-3"
         ],
         "type": "scatterpolar"
        }
       ],
       "layout": {
        "font": {
         "color": "#333333",
         "family": "Arial",
         "size": 16
        },
        "height": 628,
        "legend": {
         "orientation": "h",
         "x": 0.5,
         "xanchor": "center",
         "y": -0.45,
         "yanchor": "bottom"
        },
        "polar": {
         "angularaxis": {
          "direction": "clockwise",
          "gridwidth": 2,
          "rotation": 90
         },
         "radialaxis": {
          "angle": 45,
          "range": [
           0,
           100
          ],
          "tickangle": 45,
          "ticktext": [
           "0%",
           "25%",
           "50%",
           "75%",
           "100%"
          ],
          "tickvals": [
           0,
           25,
           50,
           75,
           100
          ],
          "visible": true
         }
        },
        "template": {
         "data": {
          "bar": [
           {
            "error_x": {
             "color": "#2a3f5f"
            },
            "error_y": {
             "color": "#2a3f5f"
            },
            "marker": {
             "line": {
              "color": "#E5ECF6",
              "width": 0.5
             },
             "pattern": {
              "fillmode": "overlay",
              "size": 10,
              "solidity": 0.2
             }
            },
            "type": "bar"
           }
          ],
          "barpolar": [
           {
            "marker": {
             "line": {
              "color": "#E5ECF6",
              "width": 0.5
             },
             "pattern": {
              "fillmode": "overlay",
              "size": 10,
              "solidity": 0.2
             }
            },
            "type": "barpolar"
           }
          ],
          "carpet": [
           {
            "aaxis": {
             "endlinecolor": "#2a3f5f",
             "gridcolor": "white",
             "linecolor": "white",
             "minorgridcolor": "white",
             "startlinecolor": "#2a3f5f"
            },
            "baxis": {
             "endlinecolor": "#2a3f5f",
             "gridcolor": "white",
             "linecolor": "white",
             "minorgridcolor": "white",
             "startlinecolor": "#2a3f5f"
            },
            "type": "carpet"
           }
          ],
          "choropleth": [
           {
            "colorbar": {
             "outlinewidth": 0,
             "ticks": ""
            },
            "type": "choropleth"
           }
          ],
          "contour": [
           {
            "colorbar": {
             "outlinewidth": 0,
             "ticks": ""
            },
            "colorscale": [
             [
              0,
              "#0d0887"
             ],
             [
              0.1111111111111111,
              "#46039f"
             ],
             [
              0.2222222222222222,
              "#7201a8"
             ],
             [
              0.3333333333333333,
              "#9c179e"
             ],
             [
              0.4444444444444444,
              "#bd3786"
             ],
             [
              0.5555555555555556,
              "#d8576b"
             ],
             [
              0.6666666666666666,
              "#ed7953"
             ],
             [
              0.7777777777777778,
              "#fb9f3a"
             ],
             [
              0.8888888888888888,
              "#fdca26"
             ],
             [
              1,
              "#f0f921"
             ]
            ],
            "type": "contour"
           }
          ],
          "contourcarpet": [
           {
            "colorbar": {
             "outlinewidth": 0,
             "ticks": ""
            },
            "type": "contourcarpet"
           }
          ],
          "heatmap": [
           {
            "colorbar": {
             "outlinewidth": 0,
             "ticks": ""
            },
            "colorscale": [
             [
              0,
              "#0d0887"
             ],
             [
              0.1111111111111111,
              "#46039f"
             ],
             [
              0.2222222222222222,
              "#7201a8"
             ],
             [
              0.3333333333333333,
              "#9c179e"
             ],
             [
              0.4444444444444444,
              "#bd3786"
             ],
             [
              0.5555555555555556,
              "#d8576b"
             ],
             [
              0.6666666666666666,
              "#ed7953"
             ],
             [
              0.7777777777777778,
              "#fb9f3a"
             ],
             [
              0.8888888888888888,
              "#fdca26"
             ],
             [
              1,
              "#f0f921"
             ]
            ],
            "type": "heatmap"
           }
          ],
          "heatmapgl": [
           {
            "colorbar": {
             "outlinewidth": 0,
             "ticks": ""
            },
            "colorscale": [
             [
              0,
              "#0d0887"
             ],
             [
              0.1111111111111111,
              "#46039f"
             ],
             [
              0.2222222222222222,
              "#7201a8"
             ],
             [
              0.3333333333333333,
              "#9c179e"
             ],
             [
              0.4444444444444444,
              "#bd3786"
             ],
             [
              0.5555555555555556,
              "#d8576b"
             ],
             [
              0.6666666666666666,
              "#ed7953"
             ],
             [
              0.7777777777777778,
              "#fb9f3a"
             ],
             [
              0.8888888888888888,
              "#fdca26"
             ],
             [
              1,
              "#f0f921"
             ]
            ],
            "type": "heatmapgl"
           }
          ],
          "histogram": [
           {
            "marker": {
             "pattern": {
              "fillmode": "overlay",
              "size": 10,
              "solidity": 0.2
             }
            },
            "type": "histogram"
           }
          ],
          "histogram2d": [
           {
            "colorbar": {
             "outlinewidth": 0,
             "ticks": ""
            },
            "colorscale": [
             [
              0,
              "#0d0887"
             ],
             [
              0.1111111111111111,
              "#46039f"
             ],
             [
              0.2222222222222222,
              "#7201a8"
             ],
             [
              0.3333333333333333,
              "#9c179e"
             ],
             [
              0.4444444444444444,
              "#bd3786"
             ],
             [
              0.5555555555555556,
              "#d8576b"
             ],
             [
              0.6666666666666666,
              "#ed7953"
             ],
             [
              0.7777777777777778,
              "#fb9f3a"
             ],
             [
              0.8888888888888888,
              "#fdca26"
             ],
             [
              1,
              "#f0f921"
             ]
            ],
            "type": "histogram2d"
           }
          ],
          "histogram2dcontour": [
           {
            "colorbar": {
             "outlinewidth": 0,
             "ticks": ""
            },
            "colorscale": [
             [
              0,
              "#0d0887"
             ],
             [
              0.1111111111111111,
              "#46039f"
             ],
             [
              0.2222222222222222,
              "#7201a8"
             ],
             [
              0.3333333333333333,
              "#9c179e"
             ],
             [
              0.4444444444444444,
              "#bd3786"
             ],
             [
              0.5555555555555556,
              "#d8576b"
             ],
             [
              0.6666666666666666,
              "#ed7953"
             ],
             [
              0.7777777777777778,
              "#fb9f3a"
             ],
             [
              0.8888888888888888,
              "#fdca26"
             ],
             [
              1,
              "#f0f921"
             ]
            ],
            "type": "histogram2dcontour"
           }
          ],
          "mesh3d": [
           {
            "colorbar": {
             "outlinewidth": 0,
             "ticks": ""
            },
            "type": "mesh3d"
           }
          ],
          "parcoords": [
           {
            "line": {
             "colorbar": {
              "outlinewidth": 0,
              "ticks": ""
             }
            },
            "type": "parcoords"
           }
          ],
          "pie": [
           {
            "automargin": true,
            "type": "pie"
           }
          ],
          "scatter": [
           {
            "fillpattern": {
             "fillmode": "overlay",
             "size": 10,
             "solidity": 0.2
            },
            "type": "scatter"
           }
          ],
          "scatter3d": [
           {
            "line": {
             "colorbar": {
              "outlinewidth": 0,
              "ticks": ""
             }
            },
            "marker": {
             "colorbar": {
              "outlinewidth": 0,
              "ticks": ""
             }
            },
            "type": "scatter3d"
           }
          ],
          "scattercarpet": [
           {
            "marker": {
             "colorbar": {
              "outlinewidth": 0,
              "ticks": ""
             }
            },
            "type": "scattercarpet"
           }
          ],
          "scattergeo": [
           {
            "marker": {
             "colorbar": {
              "outlinewidth": 0,
              "ticks": ""
             }
            },
            "type": "scattergeo"
           }
          ],
          "scattergl": [
           {
            "marker": {
             "colorbar": {
              "outlinewidth": 0,
              "ticks": ""
             }
            },
            "type": "scattergl"
           }
          ],
          "scattermapbox": [
           {
            "marker": {
             "colorbar": {
              "outlinewidth": 0,
              "ticks": ""
             }
            },
            "type": "scattermapbox"
           }
          ],
          "scatterpolar": [
           {
            "marker": {
             "colorbar": {
              "outlinewidth": 0,
              "ticks": ""
             }
            },
            "type": "scatterpolar"
           }
          ],
          "scatterpolargl": [
           {
            "marker": {
             "colorbar": {
              "outlinewidth": 0,
              "ticks": ""
             }
            },
            "type": "scatterpolargl"
           }
          ],
          "scatterternary": [
           {
            "marker": {
             "colorbar": {
              "outlinewidth": 0,
              "ticks": ""
             }
            },
            "type": "scatterternary"
           }
          ],
          "surface": [
           {
            "colorbar": {
             "outlinewidth": 0,
             "ticks": ""
            },
            "colorscale": [
             [
              0,
              "#0d0887"
             ],
             [
              0.1111111111111111,
              "#46039f"
             ],
             [
              0.2222222222222222,
              "#7201a8"
             ],
             [
              0.3333333333333333,
              "#9c179e"
             ],
             [
              0.4444444444444444,
              "#bd3786"
             ],
             [
              0.5555555555555556,
              "#d8576b"
             ],
             [
              0.6666666666666666,
              "#ed7953"
             ],
             [
              0.7777777777777778,
              "#fb9f3a"
             ],
             [
              0.8888888888888888,
              "#fdca26"
             ],
             [
              1,
              "#f0f921"
             ]
            ],
            "type": "surface"
           }
          ],
          "table": [
           {
            "cells": {
             "fill": {
              "color": "#EBF0F8"
             },
             "line": {
              "color": "white"
             }
            },
            "header": {
             "fill": {
              "color": "#C8D4E3"
             },
             "line": {
              "color": "white"
             }
            },
            "type": "table"
           }
          ]
         },
         "layout": {
          "annotationdefaults": {
           "arrowcolor": "#2a3f5f",
           "arrowhead": 0,
           "arrowwidth": 1
          },
          "autotypenumbers": "strict",
          "coloraxis": {
           "colorbar": {
            "outlinewidth": 0,
            "ticks": ""
           }
          },
          "colorscale": {
           "diverging": [
            [
             0,
             "#8e0152"
            ],
            [
             0.1,
             "#c51b7d"
            ],
            [
             0.2,
             "#de77ae"
            ],
            [
             0.3,
             "#f1b6da"
            ],
            [
             0.4,
             "#fde0ef"
            ],
            [
             0.5,
             "#f7f7f7"
            ],
            [
             0.6,
             "#e6f5d0"
            ],
            [
             0.7,
             "#b8e186"
            ],
            [
             0.8,
             "#7fbc41"
            ],
            [
             0.9,
             "#4d9221"
            ],
            [
             1,
             "#276419"
            ]
           ],
           "sequential": [
            [
             0,
             "#0d0887"
            ],
            [
             0.1111111111111111,
             "#46039f"
            ],
            [
             0.2222222222222222,
             "#7201a8"
            ],
            [
             0.3333333333333333,
             "#9c179e"
            ],
            [
             0.4444444444444444,
             "#bd3786"
            ],
            [
             0.5555555555555556,
             "#d8576b"
            ],
            [
             0.6666666666666666,
             "#ed7953"
            ],
            [
             0.7777777777777778,
             "#fb9f3a"
            ],
            [
             0.8888888888888888,
             "#fdca26"
            ],
            [
             1,
             "#f0f921"
            ]
           ],
           "sequentialminus": [
            [
             0,
             "#0d0887"
            ],
            [
             0.1111111111111111,
             "#46039f"
            ],
            [
             0.2222222222222222,
             "#7201a8"
            ],
            [
             0.3333333333333333,
             "#9c179e"
            ],
            [
             0.4444444444444444,
             "#bd3786"
            ],
            [
             0.5555555555555556,
             "#d8576b"
            ],
            [
             0.6666666666666666,
             "#ed7953"
            ],
            [
             0.7777777777777778,
             "#fb9f3a"
            ],
            [
             0.8888888888888888,
             "#fdca26"
            ],
            [
             1,
             "#f0f921"
            ]
           ]
          },
          "colorway": [
           "#636efa",
           "#EF553B",
           "#00cc96",
           "#ab63fa",
           "#FFA15A",
           "#19d3f3",
           "#FF6692",
           "#B6E880",
           "#FF97FF",
           "#FECB52"
          ],
          "font": {
           "color": "#2a3f5f"
          },
          "geo": {
           "bgcolor": "white",
           "lakecolor": "white",
           "landcolor": "#E5ECF6",
           "showlakes": true,
           "showland": true,
           "subunitcolor": "white"
          },
          "hoverlabel": {
           "align": "left"
          },
          "hovermode": "closest",
          "mapbox": {
           "style": "light"
          },
          "paper_bgcolor": "white",
          "plot_bgcolor": "#E5ECF6",
          "polar": {
           "angularaxis": {
            "gridcolor": "white",
            "linecolor": "white",
            "ticks": ""
           },
           "bgcolor": "#E5ECF6",
           "radialaxis": {
            "gridcolor": "white",
            "linecolor": "white",
            "ticks": ""
           }
          },
          "scene": {
           "xaxis": {
            "backgroundcolor": "#E5ECF6",
            "gridcolor": "white",
            "gridwidth": 2,
            "linecolor": "white",
            "showbackground": true,
            "ticks": "",
            "zerolinecolor": "white"
           },
           "yaxis": {
            "backgroundcolor": "#E5ECF6",
            "gridcolor": "white",
            "gridwidth": 2,
            "linecolor": "white",
            "showbackground": true,
            "ticks": "",
            "zerolinecolor": "white"
           },
           "zaxis": {
            "backgroundcolor": "#E5ECF6",
            "gridcolor": "white",
            "gridwidth": 2,
            "linecolor": "white",
            "showbackground": true,
            "ticks": "",
            "zerolinecolor": "white"
           }
          },
          "shapedefaults": {
           "line": {
            "color": "#2a3f5f"
           }
          },
          "ternary": {
           "aaxis": {
            "gridcolor": "white",
            "linecolor": "white",
            "ticks": ""
           },
           "baxis": {
            "gridcolor": "white",
            "linecolor": "white",
            "ticks": ""
           },
           "bgcolor": "#E5ECF6",
           "caxis": {
            "gridcolor": "white",
            "linecolor": "white",
            "ticks": ""
           }
          },
          "title": {
           "x": 0.05
          },
          "xaxis": {
           "automargin": true,
           "gridcolor": "white",
           "linecolor": "white",
           "ticks": "",
           "title": {
            "standoff": 15
           },
           "zerolinecolor": "white",
           "zerolinewidth": 2
          },
          "yaxis": {
           "automargin": true,
           "gridcolor": "white",
           "linecolor": "white",
           "ticks": "",
           "title": {
            "standoff": 15
           },
           "zerolinecolor": "white",
           "zerolinewidth": 2
          }
         }
        },
        "title": {
         "font": {
          "color": "#333333",
          "size": 24
         },
         "text": "Klokan-QA - Accuracy",
         "x": 0.5,
         "xanchor": "center",
         "y": 0.97,
         "yanchor": "top"
        },
        "width": 600
       }
      }
     },
     "metadata": {},
     "output_type": "display_data"
    }
   ],
   "source": [
    "import pandas as pd\n",
    "import plotly.graph_objects as go\n",
    "import pandas as pd\n",
    "\n",
    "import matplotlib.pyplot as plt\n",
    "\n",
    "# Combine all category accuracies into a single DataFrame\n",
    "\n",
    "\n",
    "categories = df.columns.tolist()\n",
    "categories = [*categories, categories[0]]  # Ensure the graph is circular by appending the start to the end\n",
    "colors = [\n",
    "    '#1f77b4',  # muted blue\n",
    "    '#ff7f0e',  # safety orange\n",
    "    '#2ca02c',  # cooked asparagus green\n",
    "    '#d62728',  # brick red\n",
    "    '#9467bd',  # muted purple\n",
    "    '#8c564b',  # chestnut brown\n",
    "    '#e377c2',  # raspberry yogurt pink\n",
    "    '#7f7f7f',  # middle gray\n",
    "    '#bcbd22',  # curry yellow-green\n",
    "    '#17becf'   # blue-teal\n",
    "]\n",
    "\n",
    "# Setting for 1000x1000\n",
    "fig_1000 = go.Figure()\n",
    "\n",
    "for i, (idx, row) in enumerate(df.iterrows()):\n",
    "    row = row.tolist() + [row[0]]  # Ensure the graph is circular by appending the start to the end\n",
    "    color = colors[i]\n",
    "    fig_1000.add_trace(go.Scatterpolar(\n",
    "        r=row,\n",
    "        theta=categories,\n",
    "        opacity=0.4,\n",
    "        name=idx,\n",
    "        line=dict(color=color, width=4),  # Adjust line width for better visibility\n",
    "    ))\n",
    "\n",
    "fig_1000.update_layout(\n",
    "    width=600,\n",
    "    height=628,\n",
    "    polar=dict(\n",
    "        angularaxis=dict(\n",
    "            gridwidth=2,  # Increase line width for better visibility\n",
    "            rotation=90,\n",
    "        direction='clockwise',\n",
    "\n",
    "        ),\n",
    "        radialaxis=dict(\n",
    "\n",
    "            visible=True,\n",
    "            range=[0, 100],\n",
    "            angle=45,\n",
    "            tickangle=45,\n",
    "            tickvals=[0, 25, 50, 75, 100],\n",
    "            ticktext=[\"0%\", \"25%\", \"50%\", \"75%\", \"100%\"],\n",
    "        ),\n",
    "    ),\n",
    "    title_text='Klokan-QA - Accuracy',\n",
    "    title_x=0.5,\n",
    "    title_y=0.97,\n",
    "    title_xanchor='center',\n",
    "    title_yanchor='top',\n",
    "    title_font_size=24,\n",
    "    title_font_color='#333333',\n",
    "    font=dict(\n",
    "        family='Arial',\n",
    "        size=16,\n",
    "        color='#333333'\n",
    "    ),\n",
    "    legend=dict(\n",
    "        orientation=\"h\",\n",
    "        yanchor=\"bottom\",\n",
    "        y=-0.45,\n",
    "        xanchor=\"center\",\n",
    "        x=0.5\n",
    "    )\n",
    ")\n",
    "\n",
    "\n",
    "\n",
    "\n"
   ]
  },
  {
   "cell_type": "code",
   "execution_count": 378,
   "metadata": {},
   "outputs": [
    {
     "name": "stderr",
     "output_type": "stream",
     "text": [
      "/var/folders/2d/1lzfggg57wb3mqjn29gpyts40000gn/T/ipykernel_64687/2138343595.py:1: FutureWarning:\n",
      "\n",
      "The provided callable <function mean at 0x103874c10> is currently using DataFrameGroupBy.mean. In a future version of pandas, the provided callable will be used directly. To keep current behavior pass the string \"mean\" instead.\n",
      "\n"
     ]
    }
   ],
   "source": [
    "df = pd.pivot_table(TSP_runs, values='metrics.accuracy', index=['params.model_name'], columns=['params.split'], aggfunc=np.mean)\n",
    "# Convert the values to percentages\n",
    "df = df * 100\n",
    "\n",
    "# Rename splits Culture -> Cultural overview\n",
    "# Analytical -> Analytical thinking\n",
    "# Verbal -> Verbal thinking\n",
    "# Critical -> Critical thinking\n",
    "\n",
    "df.rename(columns={\n",
    "    'Culture': 'Cultural',\n",
    "}, inplace=True)\n",
    "\n",
    "# Sort the rows by alpah\n",
    "# Sort the DataFrame by model name in alphabetical order\n",
    "df.sort_index(inplace=True)\n",
    "df.index.name = \"\"\n",
    "df.to_csv(\"leaderboard/tsp.csv\")\n"
   ]
  },
  {
   "cell_type": "code",
   "execution_count": null,
   "metadata": {},
   "outputs": [],
   "source": []
  },
  {
   "cell_type": "code",
   "execution_count": 471,
   "metadata": {},
   "outputs": [
    {
     "name": "stderr",
     "output_type": "stream",
     "text": [
      "/var/folders/2d/1lzfggg57wb3mqjn29gpyts40000gn/T/ipykernel_64687/2867264765.py:24: FutureWarning:\n",
      "\n",
      "Series.__getitem__ treating keys as positions is deprecated. In a future version, integer keys will always be treated as labels (consistent with DataFrame behavior). To access a value by position, use `ser.iloc[pos]`\n",
      "\n"
     ]
    },
    {
     "data": {
      "application/vnd.plotly.v1+json": {
       "config": {
        "plotlyServerURL": "https://plot.ly"
       },
       "data": [
        {
         "line": {
          "color": "#1f77b4",
          "width": 4
         },
         "name": "anthropic/claude-2.1",
         "opacity": 0.4,
         "r": [
          38.04034582132565,
          64.49912126537785,
          79.81770833333334,
          63.36336336336337,
          38.04034582132565
         ],
         "theta": [
          "Analytical",
          "Critical",
          "Cultural",
          "Verbal",
          "Analytical"
         ],
         "type": "scatterpolar"
        },
        {
         "line": {
          "color": "#ff7f0e",
          "width": 4
         },
         "name": "google/gemini-pro",
         "opacity": 0.4,
         "r": [
          26.801152737752158,
          59.929701230228474,
          78.25520833333334,
          57.65765765765766,
          26.801152737752158
         ],
         "theta": [
          "Analytical",
          "Critical",
          "Cultural",
          "Verbal",
          "Analytical"
         ],
         "type": "scatterpolar"
        },
        {
         "line": {
          "color": "#2ca02c",
          "width": 4
         },
         "name": "mistralai/mixtral-8x7b-instruct",
         "opacity": 0.4,
         "r": [
          24.495677233429394,
          48.33040421792619,
          64.32291666666666,
          36.93693693693694,
          24.495677233429394
         ],
         "theta": [
          "Analytical",
          "Critical",
          "Cultural",
          "Verbal",
          "Analytical"
         ],
         "type": "scatterpolar"
        },
        {
         "line": {
          "color": "#d62728",
          "width": 4
         },
         "name": "openai/gpt-3.5-turbo",
         "opacity": 0.4,
         "r": [
          27.761767531219984,
          46.57293497363796,
          68.22916666666666,
          40.84084084084084,
          27.761767531219984
         ],
         "theta": [
          "Analytical",
          "Critical",
          "Cultural",
          "Verbal",
          "Analytical"
         ],
         "type": "scatterpolar"
        },
        {
         "line": {
          "color": "#9467bd",
          "width": 4
         },
         "name": "openai/gpt-4-1106-preview",
         "opacity": 0.4,
         "r": [
          47.93467819404419,
          76.6256590509666,
          91.66666666666666,
          72.07207207207207,
          47.93467819404419
         ],
         "theta": [
          "Analytical",
          "Critical",
          "Cultural",
          "Verbal",
          "Analytical"
         ],
         "type": "scatterpolar"
        }
       ],
       "layout": {
        "font": {
         "color": "#333333",
         "family": "Arial",
         "size": 16
        },
        "height": 628,
        "legend": {
         "orientation": "h",
         "x": 0.5,
         "xanchor": "center",
         "y": -0.45,
         "yanchor": "bottom"
        },
        "polar": {
         "angularaxis": {
          "gridwidth": 2
         },
         "radialaxis": {
          "angle": 45,
          "range": [
           0,
           100
          ],
          "tickangle": 45,
          "ticktext": [
           "0%",
           "25%",
           "50%",
           "75%",
           "100%"
          ],
          "tickvals": [
           0,
           25,
           50,
           75,
           100
          ],
          "visible": true
         }
        },
        "template": {
         "data": {
          "bar": [
           {
            "error_x": {
             "color": "#2a3f5f"
            },
            "error_y": {
             "color": "#2a3f5f"
            },
            "marker": {
             "line": {
              "color": "#E5ECF6",
              "width": 0.5
             },
             "pattern": {
              "fillmode": "overlay",
              "size": 10,
              "solidity": 0.2
             }
            },
            "type": "bar"
           }
          ],
          "barpolar": [
           {
            "marker": {
             "line": {
              "color": "#E5ECF6",
              "width": 0.5
             },
             "pattern": {
              "fillmode": "overlay",
              "size": 10,
              "solidity": 0.2
             }
            },
            "type": "barpolar"
           }
          ],
          "carpet": [
           {
            "aaxis": {
             "endlinecolor": "#2a3f5f",
             "gridcolor": "white",
             "linecolor": "white",
             "minorgridcolor": "white",
             "startlinecolor": "#2a3f5f"
            },
            "baxis": {
             "endlinecolor": "#2a3f5f",
             "gridcolor": "white",
             "linecolor": "white",
             "minorgridcolor": "white",
             "startlinecolor": "#2a3f5f"
            },
            "type": "carpet"
           }
          ],
          "choropleth": [
           {
            "colorbar": {
             "outlinewidth": 0,
             "ticks": ""
            },
            "type": "choropleth"
           }
          ],
          "contour": [
           {
            "colorbar": {
             "outlinewidth": 0,
             "ticks": ""
            },
            "colorscale": [
             [
              0,
              "#0d0887"
             ],
             [
              0.1111111111111111,
              "#46039f"
             ],
             [
              0.2222222222222222,
              "#7201a8"
             ],
             [
              0.3333333333333333,
              "#9c179e"
             ],
             [
              0.4444444444444444,
              "#bd3786"
             ],
             [
              0.5555555555555556,
              "#d8576b"
             ],
             [
              0.6666666666666666,
              "#ed7953"
             ],
             [
              0.7777777777777778,
              "#fb9f3a"
             ],
             [
              0.8888888888888888,
              "#fdca26"
             ],
             [
              1,
              "#f0f921"
             ]
            ],
            "type": "contour"
           }
          ],
          "contourcarpet": [
           {
            "colorbar": {
             "outlinewidth": 0,
             "ticks": ""
            },
            "type": "contourcarpet"
           }
          ],
          "heatmap": [
           {
            "colorbar": {
             "outlinewidth": 0,
             "ticks": ""
            },
            "colorscale": [
             [
              0,
              "#0d0887"
             ],
             [
              0.1111111111111111,
              "#46039f"
             ],
             [
              0.2222222222222222,
              "#7201a8"
             ],
             [
              0.3333333333333333,
              "#9c179e"
             ],
             [
              0.4444444444444444,
              "#bd3786"
             ],
             [
              0.5555555555555556,
              "#d8576b"
             ],
             [
              0.6666666666666666,
              "#ed7953"
             ],
             [
              0.7777777777777778,
              "#fb9f3a"
             ],
             [
              0.8888888888888888,
              "#fdca26"
             ],
             [
              1,
              "#f0f921"
             ]
            ],
            "type": "heatmap"
           }
          ],
          "heatmapgl": [
           {
            "colorbar": {
             "outlinewidth": 0,
             "ticks": ""
            },
            "colorscale": [
             [
              0,
              "#0d0887"
             ],
             [
              0.1111111111111111,
              "#46039f"
             ],
             [
              0.2222222222222222,
              "#7201a8"
             ],
             [
              0.3333333333333333,
              "#9c179e"
             ],
             [
              0.4444444444444444,
              "#bd3786"
             ],
             [
              0.5555555555555556,
              "#d8576b"
             ],
             [
              0.6666666666666666,
              "#ed7953"
             ],
             [
              0.7777777777777778,
              "#fb9f3a"
             ],
             [
              0.8888888888888888,
              "#fdca26"
             ],
             [
              1,
              "#f0f921"
             ]
            ],
            "type": "heatmapgl"
           }
          ],
          "histogram": [
           {
            "marker": {
             "pattern": {
              "fillmode": "overlay",
              "size": 10,
              "solidity": 0.2
             }
            },
            "type": "histogram"
           }
          ],
          "histogram2d": [
           {
            "colorbar": {
             "outlinewidth": 0,
             "ticks": ""
            },
            "colorscale": [
             [
              0,
              "#0d0887"
             ],
             [
              0.1111111111111111,
              "#46039f"
             ],
             [
              0.2222222222222222,
              "#7201a8"
             ],
             [
              0.3333333333333333,
              "#9c179e"
             ],
             [
              0.4444444444444444,
              "#bd3786"
             ],
             [
              0.5555555555555556,
              "#d8576b"
             ],
             [
              0.6666666666666666,
              "#ed7953"
             ],
             [
              0.7777777777777778,
              "#fb9f3a"
             ],
             [
              0.8888888888888888,
              "#fdca26"
             ],
             [
              1,
              "#f0f921"
             ]
            ],
            "type": "histogram2d"
           }
          ],
          "histogram2dcontour": [
           {
            "colorbar": {
             "outlinewidth": 0,
             "ticks": ""
            },
            "colorscale": [
             [
              0,
              "#0d0887"
             ],
             [
              0.1111111111111111,
              "#46039f"
             ],
             [
              0.2222222222222222,
              "#7201a8"
             ],
             [
              0.3333333333333333,
              "#9c179e"
             ],
             [
              0.4444444444444444,
              "#bd3786"
             ],
             [
              0.5555555555555556,
              "#d8576b"
             ],
             [
              0.6666666666666666,
              "#ed7953"
             ],
             [
              0.7777777777777778,
              "#fb9f3a"
             ],
             [
              0.8888888888888888,
              "#fdca26"
             ],
             [
              1,
              "#f0f921"
             ]
            ],
            "type": "histogram2dcontour"
           }
          ],
          "mesh3d": [
           {
            "colorbar": {
             "outlinewidth": 0,
             "ticks": ""
            },
            "type": "mesh3d"
           }
          ],
          "parcoords": [
           {
            "line": {
             "colorbar": {
              "outlinewidth": 0,
              "ticks": ""
             }
            },
            "type": "parcoords"
           }
          ],
          "pie": [
           {
            "automargin": true,
            "type": "pie"
           }
          ],
          "scatter": [
           {
            "fillpattern": {
             "fillmode": "overlay",
             "size": 10,
             "solidity": 0.2
            },
            "type": "scatter"
           }
          ],
          "scatter3d": [
           {
            "line": {
             "colorbar": {
              "outlinewidth": 0,
              "ticks": ""
             }
            },
            "marker": {
             "colorbar": {
              "outlinewidth": 0,
              "ticks": ""
             }
            },
            "type": "scatter3d"
           }
          ],
          "scattercarpet": [
           {
            "marker": {
             "colorbar": {
              "outlinewidth": 0,
              "ticks": ""
             }
            },
            "type": "scattercarpet"
           }
          ],
          "scattergeo": [
           {
            "marker": {
             "colorbar": {
              "outlinewidth": 0,
              "ticks": ""
             }
            },
            "type": "scattergeo"
           }
          ],
          "scattergl": [
           {
            "marker": {
             "colorbar": {
              "outlinewidth": 0,
              "ticks": ""
             }
            },
            "type": "scattergl"
           }
          ],
          "scattermapbox": [
           {
            "marker": {
             "colorbar": {
              "outlinewidth": 0,
              "ticks": ""
             }
            },
            "type": "scattermapbox"
           }
          ],
          "scatterpolar": [
           {
            "marker": {
             "colorbar": {
              "outlinewidth": 0,
              "ticks": ""
             }
            },
            "type": "scatterpolar"
           }
          ],
          "scatterpolargl": [
           {
            "marker": {
             "colorbar": {
              "outlinewidth": 0,
              "ticks": ""
             }
            },
            "type": "scatterpolargl"
           }
          ],
          "scatterternary": [
           {
            "marker": {
             "colorbar": {
              "outlinewidth": 0,
              "ticks": ""
             }
            },
            "type": "scatterternary"
           }
          ],
          "surface": [
           {
            "colorbar": {
             "outlinewidth": 0,
             "ticks": ""
            },
            "colorscale": [
             [
              0,
              "#0d0887"
             ],
             [
              0.1111111111111111,
              "#46039f"
             ],
             [
              0.2222222222222222,
              "#7201a8"
             ],
             [
              0.3333333333333333,
              "#9c179e"
             ],
             [
              0.4444444444444444,
              "#bd3786"
             ],
             [
              0.5555555555555556,
              "#d8576b"
             ],
             [
              0.6666666666666666,
              "#ed7953"
             ],
             [
              0.7777777777777778,
              "#fb9f3a"
             ],
             [
              0.8888888888888888,
              "#fdca26"
             ],
             [
              1,
              "#f0f921"
             ]
            ],
            "type": "surface"
           }
          ],
          "table": [
           {
            "cells": {
             "fill": {
              "color": "#EBF0F8"
             },
             "line": {
              "color": "white"
             }
            },
            "header": {
             "fill": {
              "color": "#C8D4E3"
             },
             "line": {
              "color": "white"
             }
            },
            "type": "table"
           }
          ]
         },
         "layout": {
          "annotationdefaults": {
           "arrowcolor": "#2a3f5f",
           "arrowhead": 0,
           "arrowwidth": 1
          },
          "autotypenumbers": "strict",
          "coloraxis": {
           "colorbar": {
            "outlinewidth": 0,
            "ticks": ""
           }
          },
          "colorscale": {
           "diverging": [
            [
             0,
             "#8e0152"
            ],
            [
             0.1,
             "#c51b7d"
            ],
            [
             0.2,
             "#de77ae"
            ],
            [
             0.3,
             "#f1b6da"
            ],
            [
             0.4,
             "#fde0ef"
            ],
            [
             0.5,
             "#f7f7f7"
            ],
            [
             0.6,
             "#e6f5d0"
            ],
            [
             0.7,
             "#b8e186"
            ],
            [
             0.8,
             "#7fbc41"
            ],
            [
             0.9,
             "#4d9221"
            ],
            [
             1,
             "#276419"
            ]
           ],
           "sequential": [
            [
             0,
             "#0d0887"
            ],
            [
             0.1111111111111111,
             "#46039f"
            ],
            [
             0.2222222222222222,
             "#7201a8"
            ],
            [
             0.3333333333333333,
             "#9c179e"
            ],
            [
             0.4444444444444444,
             "#bd3786"
            ],
            [
             0.5555555555555556,
             "#d8576b"
            ],
            [
             0.6666666666666666,
             "#ed7953"
            ],
            [
             0.7777777777777778,
             "#fb9f3a"
            ],
            [
             0.8888888888888888,
             "#fdca26"
            ],
            [
             1,
             "#f0f921"
            ]
           ],
           "sequentialminus": [
            [
             0,
             "#0d0887"
            ],
            [
             0.1111111111111111,
             "#46039f"
            ],
            [
             0.2222222222222222,
             "#7201a8"
            ],
            [
             0.3333333333333333,
             "#9c179e"
            ],
            [
             0.4444444444444444,
             "#bd3786"
            ],
            [
             0.5555555555555556,
             "#d8576b"
            ],
            [
             0.6666666666666666,
             "#ed7953"
            ],
            [
             0.7777777777777778,
             "#fb9f3a"
            ],
            [
             0.8888888888888888,
             "#fdca26"
            ],
            [
             1,
             "#f0f921"
            ]
           ]
          },
          "colorway": [
           "#636efa",
           "#EF553B",
           "#00cc96",
           "#ab63fa",
           "#FFA15A",
           "#19d3f3",
           "#FF6692",
           "#B6E880",
           "#FF97FF",
           "#FECB52"
          ],
          "font": {
           "color": "#2a3f5f"
          },
          "geo": {
           "bgcolor": "white",
           "lakecolor": "white",
           "landcolor": "#E5ECF6",
           "showlakes": true,
           "showland": true,
           "subunitcolor": "white"
          },
          "hoverlabel": {
           "align": "left"
          },
          "hovermode": "closest",
          "mapbox": {
           "style": "light"
          },
          "paper_bgcolor": "white",
          "plot_bgcolor": "#E5ECF6",
          "polar": {
           "angularaxis": {
            "gridcolor": "white",
            "linecolor": "white",
            "ticks": ""
           },
           "bgcolor": "#E5ECF6",
           "radialaxis": {
            "gridcolor": "white",
            "linecolor": "white",
            "ticks": ""
           }
          },
          "scene": {
           "xaxis": {
            "backgroundcolor": "#E5ECF6",
            "gridcolor": "white",
            "gridwidth": 2,
            "linecolor": "white",
            "showbackground": true,
            "ticks": "",
            "zerolinecolor": "white"
           },
           "yaxis": {
            "backgroundcolor": "#E5ECF6",
            "gridcolor": "white",
            "gridwidth": 2,
            "linecolor": "white",
            "showbackground": true,
            "ticks": "",
            "zerolinecolor": "white"
           },
           "zaxis": {
            "backgroundcolor": "#E5ECF6",
            "gridcolor": "white",
            "gridwidth": 2,
            "linecolor": "white",
            "showbackground": true,
            "ticks": "",
            "zerolinecolor": "white"
           }
          },
          "shapedefaults": {
           "line": {
            "color": "#2a3f5f"
           }
          },
          "ternary": {
           "aaxis": {
            "gridcolor": "white",
            "linecolor": "white",
            "ticks": ""
           },
           "baxis": {
            "gridcolor": "white",
            "linecolor": "white",
            "ticks": ""
           },
           "bgcolor": "#E5ECF6",
           "caxis": {
            "gridcolor": "white",
            "linecolor": "white",
            "ticks": ""
           }
          },
          "title": {
           "x": 0.05
          },
          "xaxis": {
           "automargin": true,
           "gridcolor": "white",
           "linecolor": "white",
           "ticks": "",
           "title": {
            "standoff": 15
           },
           "zerolinecolor": "white",
           "zerolinewidth": 2
          },
          "yaxis": {
           "automargin": true,
           "gridcolor": "white",
           "linecolor": "white",
           "ticks": "",
           "title": {
            "standoff": 15
           },
           "zerolinecolor": "white",
           "zerolinewidth": 2
          }
         }
        },
        "title": {
         "font": {
          "color": "#333333",
          "size": 24
         },
         "text": "TSP-QA - Accuracy",
         "x": 0.5,
         "xanchor": "center",
         "y": 0.97,
         "yanchor": "top"
        },
        "width": 600
       }
      }
     },
     "metadata": {},
     "output_type": "display_data"
    }
   ],
   "source": [
    "import plotly.graph_objects as go\n",
    "import pandas as pd\n",
    "\n",
    "\n",
    "categories = df.columns.tolist()\n",
    "categories = [*categories, categories[0]]  # Ensure the graph is circular by appending the start to the end\n",
    "colors = [\n",
    "    '#1f77b4',  # muted blue\n",
    "    '#ff7f0e',  # safety orange\n",
    "    '#2ca02c',  # cooked asparagus green\n",
    "    '#d62728',  # brick red\n",
    "    '#9467bd',  # muted purple\n",
    "    '#8c564b',  # chestnut brown\n",
    "    '#e377c2',  # raspberry yogurt pink\n",
    "    '#7f7f7f',  # middle gray\n",
    "    '#bcbd22',  # curry yellow-green\n",
    "    '#17becf'   # blue-teal\n",
    "]\n",
    "\n",
    "# Setting for 1000x1000\n",
    "fig_1000 = go.Figure()\n",
    "\n",
    "for i, (idx, row) in enumerate(df.iterrows()):\n",
    "    row = row.tolist() + [row[0]]  # Ensure the graph is circular by appending the start to the end\n",
    "    color = colors[i]\n",
    "    fig_1000.add_trace(go.Scatterpolar(\n",
    "        r=row,\n",
    "        theta=categories,\n",
    "        opacity=0.4,\n",
    "        name=idx,\n",
    "        line=dict(color=color, width=4),  # Adjust line width for better visibility\n",
    "    ))\n",
    "\n",
    "fig_1000.update_layout(\n",
    "    width=600,\n",
    "    height=628,\n",
    "    polar=dict(\n",
    "        angularaxis=dict(\n",
    "            gridwidth=2,  # Increase line width for better visibility\n",
    "        ),\n",
    "        radialaxis=dict(\n",
    "            visible=True,\n",
    "            range=[0, 100],\n",
    "            angle=45,\n",
    "            tickangle=45,\n",
    "            tickvals=[0, 25, 50, 75, 100],\n",
    "            ticktext=[\"0%\", \"25%\", \"50%\", \"75%\", \"100%\"],\n",
    "        ),\n",
    "    ),\n",
    "    title_text='TSP-QA - Accuracy',\n",
    "    title_x=0.5,\n",
    "    title_y=0.97,\n",
    "    title_xanchor='center',\n",
    "    title_yanchor='top',\n",
    "    title_font_size=24,\n",
    "    title_font_color='#333333',\n",
    "    font=dict(\n",
    "        family='Arial',\n",
    "        size=16,\n",
    "        color='#333333'\n",
    "    ),\n",
    "    legend=dict(\n",
    "        orientation=\"h\",\n",
    "        yanchor=\"bottom\",\n",
    "        y=-0.45,\n",
    "        xanchor=\"center\",\n",
    "        x=0.5\n",
    "    )\n",
    ")\n",
    "\n"
   ]
  },
  {
   "cell_type": "code",
   "execution_count": 380,
   "metadata": {},
   "outputs": [],
   "source": [
    "from datasets import  load_dataset\n",
    "\n",
    "x = load_dataset(\"hynky/TSP\")"
   ]
  },
  {
   "cell_type": "code",
   "execution_count": 446,
   "metadata": {},
   "outputs": [],
   "source": [
    "q_names = []\n",
    "vals = []\n",
    "for dst in x.values():\n",
    "    lst = [\n",
    "        x+y for x,y in zip(dst[\"questionName\"], dst[\"file\"])\n",
    "    ]\n",
    "    q_names.extend(lst)\n",
    "    vals.extend(dst)\n",
    "\n"
   ]
  },
  {
   "cell_type": "code",
   "execution_count": 450,
   "metadata": {},
   "outputs": [
    {
     "name": "stdout",
     "output_type": "stream",
     "text": [
      "['TSP 2010 - varianta 03, otázka č. 4 / 70./Users/hynekkdylicek/Projects/MUNI-TSP/downloads/tsp2010_v03.qdefx', 'TSP 2010 - varianta 03, otázka č. 2 / 70./Users/hynekkdylicek/Projects/MUNI-TSP/downloads/tsp2010_v03.qdefx', 'TSP 2010 - varianta 03, otázka č. 3 / 70./Users/hynekkdylicek/Projects/MUNI-TSP/downloads/tsp2010_v03.qdefx']\n",
      "[1381, 1399, 1435, 1489, 1533, 1558]\n"
     ]
    }
   ],
   "source": [
    "import numpy as np\n",
    "\n",
    "# get non uniques ones\n",
    "\n",
    "from collections import Counter\n",
    "name_counts = Counter(q_names)\n",
    "non_unique_names = [name for name, count in name_counts.items() if count > 1]\n",
    "print(non_unique_names)\n",
    "\n",
    "# Get indexes of non unique names\n",
    "non_unique_indexes = [i for i, name in enumerate(q_names) if name in non_unique_names]\n",
    "print(non_unique_indexes)\n"
   ]
  },
  {
   "cell_type": "code",
   "execution_count": 469,
   "metadata": {},
   "outputs": [
    {
     "data": {
      "text/plain": [
       "{'question': 'Vyberte nesprávné tvrzení.',\n",
       " 'questionTopic': 'Kritické myšlení',\n",
       " 'questionName': 'TSP 2010 - varianta 03, otázka č. 2 / 70.',\n",
       " 'file': '/Users/hynekkdylicek/Projects/MUNI-TSP/downloads/tsp2010_v03.qdefx',\n",
       " 'correct_answer': 'A',\n",
       " 'answers.A': 'Z ustanovení vyplývá, že před výpovědí nájmu bez přivolení soudu musí pronajímatel doručit nájemci písemnou výstrahu.',\n",
       " 'answers.B': 'Z ustanovení vyplývá, že za okolností stanovených Občanským zákoníkem má nájemce při výpovědi z nájmu nárok na náhradní bydlení.',\n",
       " 'answers.C': 'Ustanovení připouští, že nájemce může dostat výpověď z nájmu bez přivolení soudu také v případě, že dluží platby za užívání bytu za leden, červenec a září.',\n",
       " 'answers.D': 'Ustanovení připouští, že občané mohou bez vážných důvodů užívat dva a více bytů.',\n",
       " 'answers.E': 'Ustanovení připouští, že výpověď z nájmu lze podat i z jiných než uvedených důvodů.',\n",
       " '__index_level_0__': 1869}"
      ]
     },
     "execution_count": 469,
     "metadata": {},
     "output_type": "execute_result"
    }
   ],
   "source": [
    "vals[1399]"
   ]
  },
  {
   "cell_type": "code",
   "execution_count": 468,
   "metadata": {},
   "outputs": [
    {
     "data": {
      "text/plain": [
       "{'question': 'Zpráva z Internetu o podpoře v nezaměstnanosti: „Do 50 let náleží nezaměstnanému podpora 6 měsíců, od 50 do 55 let pak 9 měsíců a starší 55 let mohou pobírat podporu až 12 měsíců. V prvních dvou měsících je vyplácena podpora 80 % z průměrného čistého výdělku, od třetího měsíce pak 55 % z průměrného čistého výdělku. Podpora v nezaměstnanosti má strop 13 307 Kč měsíčně.“ Vyberte správné tvrzení.',\n",
       " 'questionTopic': 'Kritické myšlení',\n",
       " 'questionName': 'TSP 2010 - varianta 03, otázka č. 2 / 70.',\n",
       " 'file': '/Users/hynekkdylicek/Projects/MUNI-TSP/downloads/tsp2010_v03.qdefx',\n",
       " 'correct_answer': 'D',\n",
       " 'answers.A': 'Maximální celková částka podpory vyplacená během nezaměstnanosti je pro všechny nezaměstnané stejná.',\n",
       " 'answers.B': 'Čím je věk občana nižší, tím nižší celková částka podpory mu bude v případě nezaměstnanosti vyplacena.',\n",
       " 'answers.C': 'Z ustanovení nelze činit závěry, neboť z něj není patrné, co přesně se rozumí průměrným čistým výdělkem.',\n",
       " 'answers.D': 'Dva občané s různým průměrným čistým výdělkem mohou v nezaměstnanosti každý měsíc pobírat stejnou podporu.',\n",
       " 'answers.E': 'Dvaapadesátiletý občan může být nezaměstnaným nejdéle po dobu třičtvrtě roku.',\n",
       " '__index_level_0__': 2639}"
      ]
     },
     "execution_count": 468,
     "metadata": {},
     "output_type": "execute_result"
    }
   ],
   "source": [
    "vals[1558]"
   ]
  }
 ],
 "metadata": {
  "kernelspec": {
   "display_name": "dev",
   "language": "python",
   "name": "python3"
  },
  "language_info": {
   "codemirror_mode": {
    "name": "ipython",
    "version": 3
   },
   "file_extension": ".py",
   "mimetype": "text/x-python",
   "name": "python",
   "nbconvert_exporter": "python",
   "pygments_lexer": "ipython3",
   "version": "3.10.13"
  }
 },
 "nbformat": 4,
 "nbformat_minor": 2
}
