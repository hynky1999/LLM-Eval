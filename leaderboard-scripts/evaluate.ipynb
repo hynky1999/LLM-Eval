{
 "cells": [
  {
   "cell_type": "code",
   "execution_count": 2,
   "metadata": {},
   "outputs": [],
   "source": [
    "from pathlib import Path\n",
    "import mlflow\n",
    "\n",
    "TSP_EXPERIMENTS = {\n",
    "    603996644784169297: \"hynky-TSP-Verbal\",\n",
    "    193975243763088023: \"hynky-TSP-Culture\",\n",
    "    842945248455049410: \"hynky-TSP-Critical\",\n",
    "    996016737840831842: \"hynky-TSP-Analytical\"\n",
    "}\n",
    "\n",
    "mlflow.set_tracking_uri(\"../mlruns\")\n",
    "\n",
    "TSP_runs = mlflow.search_runs(experiment_names=TSP_EXPERIMENTS.values())\n",
    "klokan_runs = mlflow.search_runs(experiment_names=[\"hynky-klokan-qa-train\"])\n",
    "\n",
    "# TSP_runs['params.split'] = TSP_runs['params.dataset_split'].where(TSP_runs['params.dataset_split'].notnull(), TSP_runs['params.split'])"
   ]
  },
  {
   "cell_type": "code",
   "execution_count": 3,
   "metadata": {},
   "outputs": [
    {
     "data": {
      "text/html": [
       "<div>\n",
       "<style scoped>\n",
       "    .dataframe tbody tr th:only-of-type {\n",
       "        vertical-align: middle;\n",
       "    }\n",
       "\n",
       "    .dataframe tbody tr th {\n",
       "        vertical-align: top;\n",
       "    }\n",
       "\n",
       "    .dataframe thead th {\n",
       "        text-align: right;\n",
       "    }\n",
       "</style>\n",
       "<table border=\"1\" class=\"dataframe\">\n",
       "  <thead>\n",
       "    <tr style=\"text-align: right;\">\n",
       "      <th></th>\n",
       "      <th>run_id</th>\n",
       "      <th>experiment_id</th>\n",
       "      <th>status</th>\n",
       "      <th>artifact_uri</th>\n",
       "      <th>start_time</th>\n",
       "      <th>end_time</th>\n",
       "      <th>metrics.accuracy</th>\n",
       "      <th>params.metrics</th>\n",
       "      <th>params.model_name</th>\n",
       "      <th>params.prompts</th>\n",
       "      <th>...</th>\n",
       "      <th>params.model_max_tokens</th>\n",
       "      <th>params.dataset_size</th>\n",
       "      <th>params.outputs</th>\n",
       "      <th>params.model_type</th>\n",
       "      <th>tags.mlflow.source.type</th>\n",
       "      <th>tags.mlflow.source.name</th>\n",
       "      <th>tags.mlflow.user</th>\n",
       "      <th>tags.mlflow.runName</th>\n",
       "      <th>tags.mlflow.source.git.commit</th>\n",
       "      <th>tags.mlflow.loggedArtifacts</th>\n",
       "    </tr>\n",
       "  </thead>\n",
       "  <tbody>\n",
       "    <tr>\n",
       "      <th>0</th>\n",
       "      <td>189e155fa98f4769b3285ac25a2de327</td>\n",
       "      <td>603996644784169297</td>\n",
       "      <td>FINISHED</td>\n",
       "      <td>file:///Users/hynky/Projects/LLM-Eval/mlruns/6...</td>\n",
       "      <td>2024-03-16 22:39:15.293000+00:00</td>\n",
       "      <td>2024-03-16 22:47:04.688000+00:00</td>\n",
       "      <td>0.612613</td>\n",
       "      <td>[{'name': 'accuracy', 'inputs': ['correct_answ...</td>\n",
       "      <td>anthropic/claude-3-sonnet</td>\n",
       "      <td>{'system_prompt_path': 'prompts/qa/system/cz_s...</td>\n",
       "      <td>...</td>\n",
       "      <td>2048</td>\n",
       "      <td>None</td>\n",
       "      <td>[{'key': 'answer', 'transform': {'name': 'extr...</td>\n",
       "      <td>openrouter</td>\n",
       "      <td>LOCAL</td>\n",
       "      <td>/Users/hynky/Projects/LLM-Eval/czeval/run.py</td>\n",
       "      <td>hynky</td>\n",
       "      <td>hynky-TSP-Verbal-anthropic/claude-3-sonnet-Q&amp;A...</td>\n",
       "      <td>f762d328b9575483962ec75da6b5da98a466ab66</td>\n",
       "      <td>[{\"path\": \"dataset.json\", \"type\": \"table\"}]</td>\n",
       "    </tr>\n",
       "    <tr>\n",
       "      <th>1</th>\n",
       "      <td>e12b53d696e94ab08c18d28c7295a27c</td>\n",
       "      <td>603996644784169297</td>\n",
       "      <td>FINISHED</td>\n",
       "      <td>file:///Users/hynky/Projects/LLM-Eval/mlruns/6...</td>\n",
       "      <td>2024-03-16 22:33:03.676000+00:00</td>\n",
       "      <td>2024-03-16 22:39:12.361000+00:00</td>\n",
       "      <td>0.627628</td>\n",
       "      <td>[{'name': 'accuracy', 'inputs': ['correct_answ...</td>\n",
       "      <td>mistralai/mistral-large</td>\n",
       "      <td>{'system_prompt_path': 'prompts/qa/system/cz_s...</td>\n",
       "      <td>...</td>\n",
       "      <td>2048</td>\n",
       "      <td>None</td>\n",
       "      <td>[{'key': 'answer', 'transform': {'name': 'extr...</td>\n",
       "      <td>openrouter</td>\n",
       "      <td>LOCAL</td>\n",
       "      <td>/Users/hynky/Projects/LLM-Eval/czeval/run.py</td>\n",
       "      <td>hynky</td>\n",
       "      <td>hynky-TSP-Verbal-mistralai/mistral-large-Q&amp;A-2...</td>\n",
       "      <td>f762d328b9575483962ec75da6b5da98a466ab66</td>\n",
       "      <td>[{\"path\": \"dataset.json\", \"type\": \"table\"}]</td>\n",
       "    </tr>\n",
       "    <tr>\n",
       "      <th>2</th>\n",
       "      <td>58b0c092fdc44b999fe433e34f99e9b4</td>\n",
       "      <td>193975243763088023</td>\n",
       "      <td>FINISHED</td>\n",
       "      <td>file:///Users/hynky/Projects/LLM-Eval/mlruns/1...</td>\n",
       "      <td>2024-03-16 22:25:47.717000+00:00</td>\n",
       "      <td>2024-03-16 22:39:13.839000+00:00</td>\n",
       "      <td>0.834635</td>\n",
       "      <td>[{'name': 'accuracy', 'inputs': ['correct_answ...</td>\n",
       "      <td>anthropic/claude-3-sonnet</td>\n",
       "      <td>{'system_prompt_path': 'prompts/qa/system/cz_s...</td>\n",
       "      <td>...</td>\n",
       "      <td>2048</td>\n",
       "      <td>None</td>\n",
       "      <td>[{'key': 'answer', 'transform': {'name': 'extr...</td>\n",
       "      <td>openrouter</td>\n",
       "      <td>LOCAL</td>\n",
       "      <td>/Users/hynky/Projects/LLM-Eval/czeval/run.py</td>\n",
       "      <td>hynky</td>\n",
       "      <td>hynky-TSP-Culture-anthropic/claude-3-sonnet-Q&amp;...</td>\n",
       "      <td>f762d328b9575483962ec75da6b5da98a466ab66</td>\n",
       "      <td>[{\"path\": \"dataset.json\", \"type\": \"table\"}]</td>\n",
       "    </tr>\n",
       "    <tr>\n",
       "      <th>3</th>\n",
       "      <td>8702ced25e9b4674894e01dca21365af</td>\n",
       "      <td>193975243763088023</td>\n",
       "      <td>FINISHED</td>\n",
       "      <td>file:///Users/hynky/Projects/LLM-Eval/mlruns/1...</td>\n",
       "      <td>2024-03-16 22:19:31.318000+00:00</td>\n",
       "      <td>2024-03-16 22:33:02.074000+00:00</td>\n",
       "      <td>0.859375</td>\n",
       "      <td>[{'name': 'accuracy', 'inputs': ['correct_answ...</td>\n",
       "      <td>mistralai/mistral-large</td>\n",
       "      <td>{'system_prompt_path': 'prompts/qa/system/cz_s...</td>\n",
       "      <td>...</td>\n",
       "      <td>2048</td>\n",
       "      <td>None</td>\n",
       "      <td>[{'key': 'answer', 'transform': {'name': 'extr...</td>\n",
       "      <td>openrouter</td>\n",
       "      <td>LOCAL</td>\n",
       "      <td>/Users/hynky/Projects/LLM-Eval/czeval/run.py</td>\n",
       "      <td>hynky</td>\n",
       "      <td>hynky-TSP-Culture-mistralai/mistral-large-Q&amp;A-...</td>\n",
       "      <td>f762d328b9575483962ec75da6b5da98a466ab66</td>\n",
       "      <td>[{\"path\": \"dataset.json\", \"type\": \"table\"}]</td>\n",
       "    </tr>\n",
       "    <tr>\n",
       "      <th>4</th>\n",
       "      <td>141b39b7f9114aaab345fdffaa6b38ba</td>\n",
       "      <td>842945248455049410</td>\n",
       "      <td>FINISHED</td>\n",
       "      <td>file:///Users/hynky/Projects/LLM-Eval/mlruns/8...</td>\n",
       "      <td>2024-03-16 22:15:14.233000+00:00</td>\n",
       "      <td>2024-03-16 22:25:46.165000+00:00</td>\n",
       "      <td>0.688928</td>\n",
       "      <td>[{'name': 'accuracy', 'inputs': ['correct_answ...</td>\n",
       "      <td>anthropic/claude-3-sonnet</td>\n",
       "      <td>{'system_prompt_path': 'prompts/qa/system/cz_s...</td>\n",
       "      <td>...</td>\n",
       "      <td>2048</td>\n",
       "      <td>None</td>\n",
       "      <td>[{'key': 'answer', 'transform': {'name': 'extr...</td>\n",
       "      <td>openrouter</td>\n",
       "      <td>LOCAL</td>\n",
       "      <td>/Users/hynky/Projects/LLM-Eval/czeval/run.py</td>\n",
       "      <td>hynky</td>\n",
       "      <td>hynky-TSP-Critical-anthropic/claude-3-sonnet-Q...</td>\n",
       "      <td>f762d328b9575483962ec75da6b5da98a466ab66</td>\n",
       "      <td>[{\"path\": \"dataset.json\", \"type\": \"table\"}]</td>\n",
       "    </tr>\n",
       "    <tr>\n",
       "      <th>5</th>\n",
       "      <td>7266a53284cf43e9880d6a899ee1a8a0</td>\n",
       "      <td>842945248455049410</td>\n",
       "      <td>FINISHED</td>\n",
       "      <td>file:///Users/hynky/Projects/LLM-Eval/mlruns/8...</td>\n",
       "      <td>2024-03-16 22:09:28.007000+00:00</td>\n",
       "      <td>2024-03-16 22:19:30.030000+00:00</td>\n",
       "      <td>0.667838</td>\n",
       "      <td>[{'name': 'accuracy', 'inputs': ['correct_answ...</td>\n",
       "      <td>mistralai/mistral-large</td>\n",
       "      <td>{'system_prompt_path': 'prompts/qa/system/cz_s...</td>\n",
       "      <td>...</td>\n",
       "      <td>2048</td>\n",
       "      <td>None</td>\n",
       "      <td>[{'key': 'answer', 'transform': {'name': 'extr...</td>\n",
       "      <td>openrouter</td>\n",
       "      <td>LOCAL</td>\n",
       "      <td>/Users/hynky/Projects/LLM-Eval/czeval/run.py</td>\n",
       "      <td>hynky</td>\n",
       "      <td>hynky-TSP-Critical-mistralai/mistral-large-Q&amp;A...</td>\n",
       "      <td>f762d328b9575483962ec75da6b5da98a466ab66</td>\n",
       "      <td>[{\"path\": \"dataset.json\", \"type\": \"table\"}]</td>\n",
       "    </tr>\n",
       "    <tr>\n",
       "      <th>6</th>\n",
       "      <td>f1225fa2214942348a6a7b7cfb04907a</td>\n",
       "      <td>603996644784169297</td>\n",
       "      <td>FINISHED</td>\n",
       "      <td>file:///Users/hynky/Projects/LLM-Eval/mlruns/6...</td>\n",
       "      <td>2024-03-16 22:02:31.098000+00:00</td>\n",
       "      <td>2024-03-16 22:03:54.961000+00:00</td>\n",
       "      <td>0.228228</td>\n",
       "      <td>[{'name': 'accuracy', 'inputs': ['correct_answ...</td>\n",
       "      <td>google/gemma-7b-it</td>\n",
       "      <td>{'system_prompt_path': 'prompts/qa/system/cz_s...</td>\n",
       "      <td>...</td>\n",
       "      <td>2048</td>\n",
       "      <td>None</td>\n",
       "      <td>[{'key': 'answer', 'transform': {'name': 'extr...</td>\n",
       "      <td>openrouter</td>\n",
       "      <td>LOCAL</td>\n",
       "      <td>/Users/hynky/Projects/LLM-Eval/czeval/run.py</td>\n",
       "      <td>hynky</td>\n",
       "      <td>hynky-TSP-Verbal-google/gemma-7b-it-Q&amp;A-2024-0...</td>\n",
       "      <td>f762d328b9575483962ec75da6b5da98a466ab66</td>\n",
       "      <td>[{\"path\": \"dataset.json\", \"type\": \"table\"}]</td>\n",
       "    </tr>\n",
       "    <tr>\n",
       "      <th>7</th>\n",
       "      <td>98d0fddebbec406ba70358d6a3fae26c</td>\n",
       "      <td>193975243763088023</td>\n",
       "      <td>FINISHED</td>\n",
       "      <td>file:///Users/hynky/Projects/LLM-Eval/mlruns/1...</td>\n",
       "      <td>2024-03-16 21:59:37.235000+00:00</td>\n",
       "      <td>2024-03-16 22:02:29.773000+00:00</td>\n",
       "      <td>0.229167</td>\n",
       "      <td>[{'name': 'accuracy', 'inputs': ['correct_answ...</td>\n",
       "      <td>google/gemma-7b-it</td>\n",
       "      <td>{'system_prompt_path': 'prompts/qa/system/cz_s...</td>\n",
       "      <td>...</td>\n",
       "      <td>2048</td>\n",
       "      <td>None</td>\n",
       "      <td>[{'key': 'answer', 'transform': {'name': 'extr...</td>\n",
       "      <td>openrouter</td>\n",
       "      <td>LOCAL</td>\n",
       "      <td>/Users/hynky/Projects/LLM-Eval/czeval/run.py</td>\n",
       "      <td>hynky</td>\n",
       "      <td>hynky-TSP-Culture-google/gemma-7b-it-Q&amp;A-2024-...</td>\n",
       "      <td>f762d328b9575483962ec75da6b5da98a466ab66</td>\n",
       "      <td>[{\"path\": \"dataset.json\", \"type\": \"table\"}]</td>\n",
       "    </tr>\n",
       "    <tr>\n",
       "      <th>8</th>\n",
       "      <td>7f45734c4eed449f902d1ea902016ced</td>\n",
       "      <td>842945248455049410</td>\n",
       "      <td>FINISHED</td>\n",
       "      <td>file:///Users/hynky/Projects/LLM-Eval/mlruns/8...</td>\n",
       "      <td>2024-03-16 21:57:22.978000+00:00</td>\n",
       "      <td>2024-03-16 21:59:35.821000+00:00</td>\n",
       "      <td>0.279438</td>\n",
       "      <td>[{'name': 'accuracy', 'inputs': ['correct_answ...</td>\n",
       "      <td>google/gemma-7b-it</td>\n",
       "      <td>{'system_prompt_path': 'prompts/qa/system/cz_s...</td>\n",
       "      <td>...</td>\n",
       "      <td>2048</td>\n",
       "      <td>None</td>\n",
       "      <td>[{'key': 'answer', 'transform': {'name': 'extr...</td>\n",
       "      <td>openrouter</td>\n",
       "      <td>LOCAL</td>\n",
       "      <td>/Users/hynky/Projects/LLM-Eval/czeval/run.py</td>\n",
       "      <td>hynky</td>\n",
       "      <td>hynky-TSP-Critical-google/gemma-7b-it-Q&amp;A-2024...</td>\n",
       "      <td>f762d328b9575483962ec75da6b5da98a466ab66</td>\n",
       "      <td>[{\"path\": \"dataset.json\", \"type\": \"table\"}]</td>\n",
       "    </tr>\n",
       "    <tr>\n",
       "      <th>9</th>\n",
       "      <td>1f1dda85a36a4c329fc84d906cb6e894</td>\n",
       "      <td>996016737840831842</td>\n",
       "      <td>FINISHED</td>\n",
       "      <td>file:///Users/hynky/Projects/LLM-Eval/mlruns/9...</td>\n",
       "      <td>2024-03-16 21:57:13.147000+00:00</td>\n",
       "      <td>2024-03-16 22:15:11.790000+00:00</td>\n",
       "      <td>0.378482</td>\n",
       "      <td>[{'name': 'accuracy', 'inputs': ['correct_answ...</td>\n",
       "      <td>anthropic/claude-3-sonnet</td>\n",
       "      <td>{'system_prompt_path': 'prompts/qa/system/cz_s...</td>\n",
       "      <td>...</td>\n",
       "      <td>2048</td>\n",
       "      <td>None</td>\n",
       "      <td>[{'key': 'answer', 'transform': {'name': 'extr...</td>\n",
       "      <td>openrouter</td>\n",
       "      <td>LOCAL</td>\n",
       "      <td>/Users/hynky/Projects/LLM-Eval/czeval/run.py</td>\n",
       "      <td>hynky</td>\n",
       "      <td>hynky-TSP-Analytical-anthropic/claude-3-sonnet...</td>\n",
       "      <td>f762d328b9575483962ec75da6b5da98a466ab66</td>\n",
       "      <td>[{\"path\": \"dataset.json\", \"type\": \"table\"}]</td>\n",
       "    </tr>\n",
       "    <tr>\n",
       "      <th>10</th>\n",
       "      <td>0a8f93c57641466189b30aee71ae1fdd</td>\n",
       "      <td>603996644784169297</td>\n",
       "      <td>FINISHED</td>\n",
       "      <td>file:///Users/hynky/Projects/LLM-Eval/mlruns/6...</td>\n",
       "      <td>2024-03-16 21:55:17.173000+00:00</td>\n",
       "      <td>2024-03-16 21:57:13.820000+00:00</td>\n",
       "      <td>0.624625</td>\n",
       "      <td>[{'name': 'accuracy', 'inputs': ['correct_answ...</td>\n",
       "      <td>anthropic/claude-3-haiku</td>\n",
       "      <td>{'system_prompt_path': 'prompts/qa/system/cz_s...</td>\n",
       "      <td>...</td>\n",
       "      <td>2048</td>\n",
       "      <td>None</td>\n",
       "      <td>[{'key': 'answer', 'transform': {'name': 'extr...</td>\n",
       "      <td>openrouter</td>\n",
       "      <td>LOCAL</td>\n",
       "      <td>/Users/hynky/Projects/LLM-Eval/czeval/run.py</td>\n",
       "      <td>hynky</td>\n",
       "      <td>hynky-TSP-Verbal-anthropic/claude-3-haiku-Q&amp;A-...</td>\n",
       "      <td>f762d328b9575483962ec75da6b5da98a466ab66</td>\n",
       "      <td>[{\"path\": \"dataset.json\", \"type\": \"table\"}]</td>\n",
       "    </tr>\n",
       "    <tr>\n",
       "      <th>11</th>\n",
       "      <td>10ab19b3f7964826960ab1af5ab0dca9</td>\n",
       "      <td>996016737840831842</td>\n",
       "      <td>FINISHED</td>\n",
       "      <td>file:///Users/hynky/Projects/LLM-Eval/mlruns/9...</td>\n",
       "      <td>2024-03-16 21:53:33.940000+00:00</td>\n",
       "      <td>2024-03-16 21:57:21.502000+00:00</td>\n",
       "      <td>0.221902</td>\n",
       "      <td>[{'name': 'accuracy', 'inputs': ['correct_answ...</td>\n",
       "      <td>google/gemma-7b-it</td>\n",
       "      <td>{'system_prompt_path': 'prompts/qa/system/cz_s...</td>\n",
       "      <td>...</td>\n",
       "      <td>2048</td>\n",
       "      <td>None</td>\n",
       "      <td>[{'key': 'answer', 'transform': {'name': 'extr...</td>\n",
       "      <td>openrouter</td>\n",
       "      <td>LOCAL</td>\n",
       "      <td>/Users/hynky/Projects/LLM-Eval/czeval/run.py</td>\n",
       "      <td>hynky</td>\n",
       "      <td>hynky-TSP-Analytical-google/gemma-7b-it-Q&amp;A-20...</td>\n",
       "      <td>f762d328b9575483962ec75da6b5da98a466ab66</td>\n",
       "      <td>[{\"path\": \"dataset.json\", \"type\": \"table\"}]</td>\n",
       "    </tr>\n",
       "    <tr>\n",
       "      <th>12</th>\n",
       "      <td>3cbbf03d2baf4250b25ffbe24235ffb7</td>\n",
       "      <td>193975243763088023</td>\n",
       "      <td>FINISHED</td>\n",
       "      <td>file:///Users/hynky/Projects/LLM-Eval/mlruns/1...</td>\n",
       "      <td>2024-03-16 21:51:35.114000+00:00</td>\n",
       "      <td>2024-03-16 21:55:15.597000+00:00</td>\n",
       "      <td>0.816406</td>\n",
       "      <td>[{'name': 'accuracy', 'inputs': ['correct_answ...</td>\n",
       "      <td>anthropic/claude-3-haiku</td>\n",
       "      <td>{'system_prompt_path': 'prompts/qa/system/cz_s...</td>\n",
       "      <td>...</td>\n",
       "      <td>2048</td>\n",
       "      <td>None</td>\n",
       "      <td>[{'key': 'answer', 'transform': {'name': 'extr...</td>\n",
       "      <td>openrouter</td>\n",
       "      <td>LOCAL</td>\n",
       "      <td>/Users/hynky/Projects/LLM-Eval/czeval/run.py</td>\n",
       "      <td>hynky</td>\n",
       "      <td>hynky-TSP-Culture-anthropic/claude-3-haiku-Q&amp;A...</td>\n",
       "      <td>f762d328b9575483962ec75da6b5da98a466ab66</td>\n",
       "      <td>[{\"path\": \"dataset.json\", \"type\": \"table\"}]</td>\n",
       "    </tr>\n",
       "    <tr>\n",
       "      <th>13</th>\n",
       "      <td>5f09ca545a534f7e94861328697ccbfc</td>\n",
       "      <td>996016737840831842</td>\n",
       "      <td>FINISHED</td>\n",
       "      <td>file:///Users/hynky/Projects/LLM-Eval/mlruns/9...</td>\n",
       "      <td>2024-03-16 21:51:18.888000+00:00</td>\n",
       "      <td>2024-03-16 22:09:26.563000+00:00</td>\n",
       "      <td>0.385207</td>\n",
       "      <td>[{'name': 'accuracy', 'inputs': ['correct_answ...</td>\n",
       "      <td>mistralai/mistral-large</td>\n",
       "      <td>{'system_prompt_path': 'prompts/qa/system/cz_s...</td>\n",
       "      <td>...</td>\n",
       "      <td>2048</td>\n",
       "      <td>None</td>\n",
       "      <td>[{'key': 'answer', 'transform': {'name': 'extr...</td>\n",
       "      <td>openrouter</td>\n",
       "      <td>LOCAL</td>\n",
       "      <td>/Users/hynky/Projects/LLM-Eval/czeval/run.py</td>\n",
       "      <td>hynky</td>\n",
       "      <td>hynky-TSP-Analytical-mistralai/mistral-large-Q...</td>\n",
       "      <td>f762d328b9575483962ec75da6b5da98a466ab66</td>\n",
       "      <td>[{\"path\": \"dataset.json\", \"type\": \"table\"}]</td>\n",
       "    </tr>\n",
       "    <tr>\n",
       "      <th>14</th>\n",
       "      <td>3b17feea368e4536b15e85bc6c7504d0</td>\n",
       "      <td>842945248455049410</td>\n",
       "      <td>FINISHED</td>\n",
       "      <td>file:///Users/hynky/Projects/LLM-Eval/mlruns/8...</td>\n",
       "      <td>2024-03-16 21:48:52.330000+00:00</td>\n",
       "      <td>2024-03-16 21:51:33.888000+00:00</td>\n",
       "      <td>0.604569</td>\n",
       "      <td>[{'name': 'accuracy', 'inputs': ['correct_answ...</td>\n",
       "      <td>anthropic/claude-3-haiku</td>\n",
       "      <td>{'system_prompt_path': 'prompts/qa/system/cz_s...</td>\n",
       "      <td>...</td>\n",
       "      <td>2048</td>\n",
       "      <td>None</td>\n",
       "      <td>[{'key': 'answer', 'transform': {'name': 'extr...</td>\n",
       "      <td>openrouter</td>\n",
       "      <td>LOCAL</td>\n",
       "      <td>/Users/hynky/Projects/LLM-Eval/czeval/run.py</td>\n",
       "      <td>hynky</td>\n",
       "      <td>hynky-TSP-Critical-anthropic/claude-3-haiku-Q&amp;...</td>\n",
       "      <td>f762d328b9575483962ec75da6b5da98a466ab66</td>\n",
       "      <td>[{\"path\": \"dataset.json\", \"type\": \"table\"}]</td>\n",
       "    </tr>\n",
       "    <tr>\n",
       "      <th>15</th>\n",
       "      <td>508a82b97c9d4e8c93e278787c5b81c8</td>\n",
       "      <td>996016737840831842</td>\n",
       "      <td>FINISHED</td>\n",
       "      <td>file:///Users/hynky/Projects/LLM-Eval/mlruns/9...</td>\n",
       "      <td>2024-03-16 21:44:14.103000+00:00</td>\n",
       "      <td>2024-03-16 21:48:51.083000+00:00</td>\n",
       "      <td>0.332373</td>\n",
       "      <td>[{'name': 'accuracy', 'inputs': ['correct_answ...</td>\n",
       "      <td>anthropic/claude-3-haiku</td>\n",
       "      <td>{'system_prompt_path': 'prompts/qa/system/cz_s...</td>\n",
       "      <td>...</td>\n",
       "      <td>2048</td>\n",
       "      <td>None</td>\n",
       "      <td>[{'key': 'answer', 'transform': {'name': 'extr...</td>\n",
       "      <td>openrouter</td>\n",
       "      <td>LOCAL</td>\n",
       "      <td>/Users/hynky/Projects/LLM-Eval/czeval/run.py</td>\n",
       "      <td>hynky</td>\n",
       "      <td>hynky-TSP-Analytical-anthropic/claude-3-haiku-...</td>\n",
       "      <td>f762d328b9575483962ec75da6b5da98a466ab66</td>\n",
       "      <td>[{\"path\": \"dataset.json\", \"type\": \"table\"}]</td>\n",
       "    </tr>\n",
       "    <tr>\n",
       "      <th>16</th>\n",
       "      <td>42bdf205dd224f45803d6281ecb9b5e3</td>\n",
       "      <td>603996644784169297</td>\n",
       "      <td>FINISHED</td>\n",
       "      <td>file:///Users/hynky/Projects/LLM-Eval/mlruns/6...</td>\n",
       "      <td>2024-03-16 21:19:57.428000+00:00</td>\n",
       "      <td>2024-03-16 21:26:10.481000+00:00</td>\n",
       "      <td>0.801802</td>\n",
       "      <td>[{'name': 'accuracy', 'inputs': ['correct_answ...</td>\n",
       "      <td>anthropic/claude-3-opus</td>\n",
       "      <td>{'system_prompt_path': 'prompts/qa/system/cz_s...</td>\n",
       "      <td>...</td>\n",
       "      <td>2048</td>\n",
       "      <td>None</td>\n",
       "      <td>[{'key': 'answer', 'transform': {'name': 'extr...</td>\n",
       "      <td>openrouter</td>\n",
       "      <td>LOCAL</td>\n",
       "      <td>/Users/hynky/Projects/LLM-Eval/czeval/run.py</td>\n",
       "      <td>hynky</td>\n",
       "      <td>hynky-TSP-Verbal-anthropic/claude-3-opus-Q&amp;A-2...</td>\n",
       "      <td>f762d328b9575483962ec75da6b5da98a466ab66</td>\n",
       "      <td>[{\"path\": \"dataset.json\", \"type\": \"table\"}]</td>\n",
       "    </tr>\n",
       "    <tr>\n",
       "      <th>17</th>\n",
       "      <td>047365f3996449ba831d320ef95a5256</td>\n",
       "      <td>193975243763088023</td>\n",
       "      <td>FINISHED</td>\n",
       "      <td>file:///Users/hynky/Projects/LLM-Eval/mlruns/1...</td>\n",
       "      <td>2024-03-16 21:06:28.060000+00:00</td>\n",
       "      <td>2024-03-16 21:19:56.011000+00:00</td>\n",
       "      <td>0.924479</td>\n",
       "      <td>[{'name': 'accuracy', 'inputs': ['correct_answ...</td>\n",
       "      <td>anthropic/claude-3-opus</td>\n",
       "      <td>{'system_prompt_path': 'prompts/qa/system/cz_s...</td>\n",
       "      <td>...</td>\n",
       "      <td>2048</td>\n",
       "      <td>None</td>\n",
       "      <td>[{'key': 'answer', 'transform': {'name': 'extr...</td>\n",
       "      <td>openrouter</td>\n",
       "      <td>LOCAL</td>\n",
       "      <td>/Users/hynky/Projects/LLM-Eval/czeval/run.py</td>\n",
       "      <td>hynky</td>\n",
       "      <td>hynky-TSP-Culture-anthropic/claude-3-opus-Q&amp;A-...</td>\n",
       "      <td>f762d328b9575483962ec75da6b5da98a466ab66</td>\n",
       "      <td>[{\"path\": \"dataset.json\", \"type\": \"table\"}]</td>\n",
       "    </tr>\n",
       "    <tr>\n",
       "      <th>18</th>\n",
       "      <td>bc6e58e5bc2e4fa987236e5c44cd94fb</td>\n",
       "      <td>842945248455049410</td>\n",
       "      <td>FINISHED</td>\n",
       "      <td>file:///Users/hynky/Projects/LLM-Eval/mlruns/8...</td>\n",
       "      <td>2024-03-16 20:55:01.185000+00:00</td>\n",
       "      <td>2024-03-16 21:06:26.427000+00:00</td>\n",
       "      <td>0.764499</td>\n",
       "      <td>[{'name': 'accuracy', 'inputs': ['correct_answ...</td>\n",
       "      <td>anthropic/claude-3-opus</td>\n",
       "      <td>{'system_prompt_path': 'prompts/qa/system/cz_s...</td>\n",
       "      <td>...</td>\n",
       "      <td>2048</td>\n",
       "      <td>None</td>\n",
       "      <td>[{'key': 'answer', 'transform': {'name': 'extr...</td>\n",
       "      <td>openrouter</td>\n",
       "      <td>LOCAL</td>\n",
       "      <td>/Users/hynky/Projects/LLM-Eval/czeval/run.py</td>\n",
       "      <td>hynky</td>\n",
       "      <td>hynky-TSP-Critical-anthropic/claude-3-opus-Q&amp;A...</td>\n",
       "      <td>f762d328b9575483962ec75da6b5da98a466ab66</td>\n",
       "      <td>[{\"path\": \"dataset.json\", \"type\": \"table\"}]</td>\n",
       "    </tr>\n",
       "    <tr>\n",
       "      <th>19</th>\n",
       "      <td>a18d2aeabb4d4768b6786209b8684452</td>\n",
       "      <td>996016737840831842</td>\n",
       "      <td>FINISHED</td>\n",
       "      <td>file:///Users/hynky/Projects/LLM-Eval/mlruns/9...</td>\n",
       "      <td>2024-03-16 20:36:50.771000+00:00</td>\n",
       "      <td>2024-03-16 20:54:59.243000+00:00</td>\n",
       "      <td>0.472622</td>\n",
       "      <td>[{'name': 'accuracy', 'inputs': ['correct_answ...</td>\n",
       "      <td>anthropic/claude-3-opus</td>\n",
       "      <td>{'system_prompt_path': 'prompts/qa/system/cz_s...</td>\n",
       "      <td>...</td>\n",
       "      <td>2048</td>\n",
       "      <td>None</td>\n",
       "      <td>[{'key': 'answer', 'transform': {'name': 'extr...</td>\n",
       "      <td>openrouter</td>\n",
       "      <td>LOCAL</td>\n",
       "      <td>/Users/hynky/Projects/LLM-Eval/czeval/run.py</td>\n",
       "      <td>hynky</td>\n",
       "      <td>hynky-TSP-Analytical-anthropic/claude-3-opus-Q...</td>\n",
       "      <td>f762d328b9575483962ec75da6b5da98a466ab66</td>\n",
       "      <td>[{\"path\": \"dataset.json\", \"type\": \"table\"}]</td>\n",
       "    </tr>\n",
       "    <tr>\n",
       "      <th>20</th>\n",
       "      <td>9eb1679390e14725af09ca039e6df7c7</td>\n",
       "      <td>603996644784169297</td>\n",
       "      <td>FINISHED</td>\n",
       "      <td>file:///Users/hynky/Projects/LLM-Eval/mlruns/6...</td>\n",
       "      <td>2024-03-16 20:28:09.522000+00:00</td>\n",
       "      <td>2024-03-16 20:29:52.182000+00:00</td>\n",
       "      <td>0.726727</td>\n",
       "      <td>[{'name': 'accuracy', 'inputs': ['correct_answ...</td>\n",
       "      <td>openai/gpt-4-1106-preview</td>\n",
       "      <td>{'system_prompt_path': 'prompts/qa/system/cz_s...</td>\n",
       "      <td>...</td>\n",
       "      <td>2048</td>\n",
       "      <td>None</td>\n",
       "      <td>[{'key': 'answer', 'transform': {'name': 'extr...</td>\n",
       "      <td>openrouter</td>\n",
       "      <td>LOCAL</td>\n",
       "      <td>/Users/hynky/Projects/LLM-Eval/czeval/run.py</td>\n",
       "      <td>hynky</td>\n",
       "      <td>hynky-TSP-Verbal-openai/gpt-4-1106-preview-Q&amp;A...</td>\n",
       "      <td>f762d328b9575483962ec75da6b5da98a466ab66</td>\n",
       "      <td>[{\"path\": \"dataset.json\", \"type\": \"table\"}]</td>\n",
       "    </tr>\n",
       "    <tr>\n",
       "      <th>21</th>\n",
       "      <td>ca2bf8bce3a64732a4a6adece7ac1cbc</td>\n",
       "      <td>193975243763088023</td>\n",
       "      <td>FINISHED</td>\n",
       "      <td>file:///Users/hynky/Projects/LLM-Eval/mlruns/1...</td>\n",
       "      <td>2024-03-16 20:23:58.407000+00:00</td>\n",
       "      <td>2024-03-16 20:28:07.988000+00:00</td>\n",
       "      <td>0.902344</td>\n",
       "      <td>[{'name': 'accuracy', 'inputs': ['correct_answ...</td>\n",
       "      <td>openai/gpt-4-1106-preview</td>\n",
       "      <td>{'system_prompt_path': 'prompts/qa/system/cz_s...</td>\n",
       "      <td>...</td>\n",
       "      <td>2048</td>\n",
       "      <td>None</td>\n",
       "      <td>[{'key': 'answer', 'transform': {'name': 'extr...</td>\n",
       "      <td>openrouter</td>\n",
       "      <td>LOCAL</td>\n",
       "      <td>/Users/hynky/Projects/LLM-Eval/czeval/run.py</td>\n",
       "      <td>hynky</td>\n",
       "      <td>hynky-TSP-Culture-openai/gpt-4-1106-preview-Q&amp;...</td>\n",
       "      <td>f762d328b9575483962ec75da6b5da98a466ab66</td>\n",
       "      <td>[{\"path\": \"dataset.json\", \"type\": \"table\"}]</td>\n",
       "    </tr>\n",
       "    <tr>\n",
       "      <th>22</th>\n",
       "      <td>e770ce1550704c04a5b327c776248057</td>\n",
       "      <td>842945248455049410</td>\n",
       "      <td>FINISHED</td>\n",
       "      <td>file:///Users/hynky/Projects/LLM-Eval/mlruns/8...</td>\n",
       "      <td>2024-03-16 20:21:11.160000+00:00</td>\n",
       "      <td>2024-03-16 20:23:56.932000+00:00</td>\n",
       "      <td>0.706503</td>\n",
       "      <td>[{'name': 'accuracy', 'inputs': ['correct_answ...</td>\n",
       "      <td>openai/gpt-4-1106-preview</td>\n",
       "      <td>{'system_prompt_path': 'prompts/qa/system/cz_s...</td>\n",
       "      <td>...</td>\n",
       "      <td>2048</td>\n",
       "      <td>None</td>\n",
       "      <td>[{'key': 'answer', 'transform': {'name': 'extr...</td>\n",
       "      <td>openrouter</td>\n",
       "      <td>LOCAL</td>\n",
       "      <td>/Users/hynky/Projects/LLM-Eval/czeval/run.py</td>\n",
       "      <td>hynky</td>\n",
       "      <td>hynky-TSP-Critical-openai/gpt-4-1106-preview-Q...</td>\n",
       "      <td>f762d328b9575483962ec75da6b5da98a466ab66</td>\n",
       "      <td>[{\"path\": \"dataset.json\", \"type\": \"table\"}]</td>\n",
       "    </tr>\n",
       "    <tr>\n",
       "      <th>23</th>\n",
       "      <td>e06f7aaf548a4b77896e36f140081f36</td>\n",
       "      <td>996016737840831842</td>\n",
       "      <td>FINISHED</td>\n",
       "      <td>file:///Users/hynky/Projects/LLM-Eval/mlruns/9...</td>\n",
       "      <td>2024-03-16 20:15:39.541000+00:00</td>\n",
       "      <td>2024-03-16 20:21:09.613000+00:00</td>\n",
       "      <td>0.515850</td>\n",
       "      <td>[{'name': 'accuracy', 'inputs': ['correct_answ...</td>\n",
       "      <td>openai/gpt-4-1106-preview</td>\n",
       "      <td>{'system_prompt_path': 'prompts/qa/system/cz_s...</td>\n",
       "      <td>...</td>\n",
       "      <td>2048</td>\n",
       "      <td>None</td>\n",
       "      <td>[{'key': 'answer', 'transform': {'name': 'extr...</td>\n",
       "      <td>openrouter</td>\n",
       "      <td>LOCAL</td>\n",
       "      <td>/Users/hynky/Projects/LLM-Eval/czeval/run.py</td>\n",
       "      <td>hynky</td>\n",
       "      <td>hynky-TSP-Analytical-openai/gpt-4-1106-preview...</td>\n",
       "      <td>f762d328b9575483962ec75da6b5da98a466ab66</td>\n",
       "      <td>[{\"path\": \"dataset.json\", \"type\": \"table\"}]</td>\n",
       "    </tr>\n",
       "    <tr>\n",
       "      <th>24</th>\n",
       "      <td>514d20a6cb814ccca8ec130633f4fb51</td>\n",
       "      <td>603996644784169297</td>\n",
       "      <td>FINISHED</td>\n",
       "      <td>file:///Users/hynky/Projects/LLM-Eval/mlruns/6...</td>\n",
       "      <td>2024-03-16 20:02:10.126000+00:00</td>\n",
       "      <td>2024-03-16 20:05:34.900000+00:00</td>\n",
       "      <td>0.504505</td>\n",
       "      <td>[{'name': 'accuracy', 'inputs': ['correct_answ...</td>\n",
       "      <td>mistralai/mistral-medium</td>\n",
       "      <td>{'system_prompt_path': 'prompts/qa/system/cz_s...</td>\n",
       "      <td>...</td>\n",
       "      <td>2048</td>\n",
       "      <td>None</td>\n",
       "      <td>[{'key': 'answer', 'transform': {'name': 'extr...</td>\n",
       "      <td>openrouter</td>\n",
       "      <td>LOCAL</td>\n",
       "      <td>/Users/hynky/Projects/LLM-Eval/czeval/run.py</td>\n",
       "      <td>hynky</td>\n",
       "      <td>hynky-TSP-Verbal-mistralai/mistral-medium-Q&amp;A-...</td>\n",
       "      <td>f762d328b9575483962ec75da6b5da98a466ab66</td>\n",
       "      <td>[{\"path\": \"dataset.json\", \"type\": \"table\"}]</td>\n",
       "    </tr>\n",
       "    <tr>\n",
       "      <th>25</th>\n",
       "      <td>dcc898679eaf406b9529cdd5e7a7e68c</td>\n",
       "      <td>193975243763088023</td>\n",
       "      <td>FINISHED</td>\n",
       "      <td>file:///Users/hynky/Projects/LLM-Eval/mlruns/1...</td>\n",
       "      <td>2024-03-16 19:56:56.751000+00:00</td>\n",
       "      <td>2024-03-16 20:02:08.886000+00:00</td>\n",
       "      <td>0.773438</td>\n",
       "      <td>[{'name': 'accuracy', 'inputs': ['correct_answ...</td>\n",
       "      <td>mistralai/mistral-medium</td>\n",
       "      <td>{'system_prompt_path': 'prompts/qa/system/cz_s...</td>\n",
       "      <td>...</td>\n",
       "      <td>2048</td>\n",
       "      <td>None</td>\n",
       "      <td>[{'key': 'answer', 'transform': {'name': 'extr...</td>\n",
       "      <td>openrouter</td>\n",
       "      <td>LOCAL</td>\n",
       "      <td>/Users/hynky/Projects/LLM-Eval/czeval/run.py</td>\n",
       "      <td>hynky</td>\n",
       "      <td>hynky-TSP-Culture-mistralai/mistral-medium-Q&amp;A...</td>\n",
       "      <td>f762d328b9575483962ec75da6b5da98a466ab66</td>\n",
       "      <td>[{\"path\": \"dataset.json\", \"type\": \"table\"}]</td>\n",
       "    </tr>\n",
       "    <tr>\n",
       "      <th>26</th>\n",
       "      <td>9e85e204949c42fe8897a68a039e892b</td>\n",
       "      <td>842945248455049410</td>\n",
       "      <td>FINISHED</td>\n",
       "      <td>file:///Users/hynky/Projects/LLM-Eval/mlruns/8...</td>\n",
       "      <td>2024-03-16 19:52:59.815000+00:00</td>\n",
       "      <td>2024-03-16 19:56:55.405000+00:00</td>\n",
       "      <td>0.595782</td>\n",
       "      <td>[{'name': 'accuracy', 'inputs': ['correct_answ...</td>\n",
       "      <td>mistralai/mistral-medium</td>\n",
       "      <td>{'system_prompt_path': 'prompts/qa/system/cz_s...</td>\n",
       "      <td>...</td>\n",
       "      <td>2048</td>\n",
       "      <td>None</td>\n",
       "      <td>[{'key': 'answer', 'transform': {'name': 'extr...</td>\n",
       "      <td>openrouter</td>\n",
       "      <td>LOCAL</td>\n",
       "      <td>/Users/hynky/Projects/LLM-Eval/czeval/run.py</td>\n",
       "      <td>hynky</td>\n",
       "      <td>hynky-TSP-Critical-mistralai/mistral-medium-Q&amp;...</td>\n",
       "      <td>f762d328b9575483962ec75da6b5da98a466ab66</td>\n",
       "      <td>[{\"path\": \"dataset.json\", \"type\": \"table\"}]</td>\n",
       "    </tr>\n",
       "    <tr>\n",
       "      <th>27</th>\n",
       "      <td>16dcd07ecb84456ea6fd3d47b8344064</td>\n",
       "      <td>996016737840831842</td>\n",
       "      <td>FINISHED</td>\n",
       "      <td>file:///Users/hynky/Projects/LLM-Eval/mlruns/9...</td>\n",
       "      <td>2024-03-16 19:45:20.664000+00:00</td>\n",
       "      <td>2024-03-16 19:52:58.507000+00:00</td>\n",
       "      <td>0.312200</td>\n",
       "      <td>[{'name': 'accuracy', 'inputs': ['correct_answ...</td>\n",
       "      <td>mistralai/mistral-medium</td>\n",
       "      <td>{'system_prompt_path': 'prompts/qa/system/cz_s...</td>\n",
       "      <td>...</td>\n",
       "      <td>2048</td>\n",
       "      <td>None</td>\n",
       "      <td>[{'key': 'answer', 'transform': {'name': 'extr...</td>\n",
       "      <td>openrouter</td>\n",
       "      <td>LOCAL</td>\n",
       "      <td>/Users/hynky/Projects/LLM-Eval/czeval/run.py</td>\n",
       "      <td>hynky</td>\n",
       "      <td>hynky-TSP-Analytical-mistralai/mistral-medium-...</td>\n",
       "      <td>f762d328b9575483962ec75da6b5da98a466ab66</td>\n",
       "      <td>[{\"path\": \"dataset.json\", \"type\": \"table\"}]</td>\n",
       "    </tr>\n",
       "    <tr>\n",
       "      <th>28</th>\n",
       "      <td>81747e5cec6047f091f037bdfbdb6166</td>\n",
       "      <td>603996644784169297</td>\n",
       "      <td>FINISHED</td>\n",
       "      <td>file:///Users/hynky/Projects/LLM-Eval/mlruns/6...</td>\n",
       "      <td>2024-03-16 19:39:58.586000+00:00</td>\n",
       "      <td>2024-03-16 19:41:24.444000+00:00</td>\n",
       "      <td>0.435435</td>\n",
       "      <td>[{'name': 'accuracy', 'inputs': ['correct_answ...</td>\n",
       "      <td>mistralai/mixtral-8x7b-instruct</td>\n",
       "      <td>{'system_prompt_path': 'prompts/qa/system/cz_s...</td>\n",
       "      <td>...</td>\n",
       "      <td>2048</td>\n",
       "      <td>None</td>\n",
       "      <td>[{'key': 'answer', 'transform': {'name': 'extr...</td>\n",
       "      <td>openrouter</td>\n",
       "      <td>LOCAL</td>\n",
       "      <td>/Users/hynky/Projects/LLM-Eval/czeval/run.py</td>\n",
       "      <td>hynky</td>\n",
       "      <td>hynky-TSP-Verbal-mistralai/mixtral-8x7b-instru...</td>\n",
       "      <td>f762d328b9575483962ec75da6b5da98a466ab66</td>\n",
       "      <td>[{\"path\": \"dataset.json\", \"type\": \"table\"}]</td>\n",
       "    </tr>\n",
       "    <tr>\n",
       "      <th>29</th>\n",
       "      <td>0dd40ece7fca4407aa36765574ecfb5d</td>\n",
       "      <td>193975243763088023</td>\n",
       "      <td>FINISHED</td>\n",
       "      <td>file:///Users/hynky/Projects/LLM-Eval/mlruns/1...</td>\n",
       "      <td>2024-03-16 19:37:05.859000+00:00</td>\n",
       "      <td>2024-03-16 19:39:57.189000+00:00</td>\n",
       "      <td>0.712240</td>\n",
       "      <td>[{'name': 'accuracy', 'inputs': ['correct_answ...</td>\n",
       "      <td>mistralai/mixtral-8x7b-instruct</td>\n",
       "      <td>{'system_prompt_path': 'prompts/qa/system/cz_s...</td>\n",
       "      <td>...</td>\n",
       "      <td>2048</td>\n",
       "      <td>None</td>\n",
       "      <td>[{'key': 'answer', 'transform': {'name': 'extr...</td>\n",
       "      <td>openrouter</td>\n",
       "      <td>LOCAL</td>\n",
       "      <td>/Users/hynky/Projects/LLM-Eval/czeval/run.py</td>\n",
       "      <td>hynky</td>\n",
       "      <td>hynky-TSP-Culture-mistralai/mixtral-8x7b-instr...</td>\n",
       "      <td>f762d328b9575483962ec75da6b5da98a466ab66</td>\n",
       "      <td>[{\"path\": \"dataset.json\", \"type\": \"table\"}]</td>\n",
       "    </tr>\n",
       "    <tr>\n",
       "      <th>30</th>\n",
       "      <td>e6021c5e74bf435c9640dce24d61bdb6</td>\n",
       "      <td>842945248455049410</td>\n",
       "      <td>FINISHED</td>\n",
       "      <td>file:///Users/hynky/Projects/LLM-Eval/mlruns/8...</td>\n",
       "      <td>2024-03-16 19:34:49.570000+00:00</td>\n",
       "      <td>2024-03-16 19:37:04.625000+00:00</td>\n",
       "      <td>0.511424</td>\n",
       "      <td>[{'name': 'accuracy', 'inputs': ['correct_answ...</td>\n",
       "      <td>mistralai/mixtral-8x7b-instruct</td>\n",
       "      <td>{'system_prompt_path': 'prompts/qa/system/cz_s...</td>\n",
       "      <td>...</td>\n",
       "      <td>2048</td>\n",
       "      <td>None</td>\n",
       "      <td>[{'key': 'answer', 'transform': {'name': 'extr...</td>\n",
       "      <td>openrouter</td>\n",
       "      <td>LOCAL</td>\n",
       "      <td>/Users/hynky/Projects/LLM-Eval/czeval/run.py</td>\n",
       "      <td>hynky</td>\n",
       "      <td>hynky-TSP-Critical-mistralai/mixtral-8x7b-inst...</td>\n",
       "      <td>f762d328b9575483962ec75da6b5da98a466ab66</td>\n",
       "      <td>[{\"path\": \"dataset.json\", \"type\": \"table\"}]</td>\n",
       "    </tr>\n",
       "    <tr>\n",
       "      <th>31</th>\n",
       "      <td>9b821017a5074ab5b4f212f04be12de7</td>\n",
       "      <td>996016737840831842</td>\n",
       "      <td>FINISHED</td>\n",
       "      <td>file:///Users/hynky/Projects/LLM-Eval/mlruns/9...</td>\n",
       "      <td>2024-03-16 19:30:36.405000+00:00</td>\n",
       "      <td>2024-03-16 19:34:48.239000+00:00</td>\n",
       "      <td>0.252642</td>\n",
       "      <td>[{'name': 'accuracy', 'inputs': ['correct_answ...</td>\n",
       "      <td>mistralai/mixtral-8x7b-instruct</td>\n",
       "      <td>{'system_prompt_path': 'prompts/qa/system/cz_s...</td>\n",
       "      <td>...</td>\n",
       "      <td>2048</td>\n",
       "      <td>None</td>\n",
       "      <td>[{'key': 'answer', 'transform': {'name': 'extr...</td>\n",
       "      <td>openrouter</td>\n",
       "      <td>LOCAL</td>\n",
       "      <td>/Users/hynky/Projects/LLM-Eval/czeval/run.py</td>\n",
       "      <td>hynky</td>\n",
       "      <td>hynky-TSP-Analytical-mistralai/mixtral-8x7b-in...</td>\n",
       "      <td>f762d328b9575483962ec75da6b5da98a466ab66</td>\n",
       "      <td>[{\"path\": \"dataset.json\", \"type\": \"table\"}]</td>\n",
       "    </tr>\n",
       "    <tr>\n",
       "      <th>32</th>\n",
       "      <td>8699f1eb99d144c4ac986faa0b50304a</td>\n",
       "      <td>603996644784169297</td>\n",
       "      <td>FINISHED</td>\n",
       "      <td>file:///Users/hynky/Projects/LLM-Eval/mlruns/6...</td>\n",
       "      <td>2024-03-16 19:27:40.301000+00:00</td>\n",
       "      <td>2024-03-16 19:30:07.378000+00:00</td>\n",
       "      <td>0.447447</td>\n",
       "      <td>[{'name': 'accuracy', 'inputs': ['correct_answ...</td>\n",
       "      <td>openai/gpt-3.5-turbo</td>\n",
       "      <td>{'system_prompt_path': 'prompts/qa/system/cz_s...</td>\n",
       "      <td>...</td>\n",
       "      <td>2048</td>\n",
       "      <td>None</td>\n",
       "      <td>[{'key': 'answer', 'transform': {'name': 'extr...</td>\n",
       "      <td>openrouter</td>\n",
       "      <td>LOCAL</td>\n",
       "      <td>/Users/hynky/Projects/LLM-Eval/czeval/run.py</td>\n",
       "      <td>hynky</td>\n",
       "      <td>hynky-TSP-Verbal-openai/gpt-3.5-turbo-Q&amp;A-2024...</td>\n",
       "      <td>f762d328b9575483962ec75da6b5da98a466ab66</td>\n",
       "      <td>[{\"path\": \"dataset.json\", \"type\": \"table\"}]</td>\n",
       "    </tr>\n",
       "    <tr>\n",
       "      <th>33</th>\n",
       "      <td>0f88414f3e6a472c987005686eab1a96</td>\n",
       "      <td>193975243763088023</td>\n",
       "      <td>FINISHED</td>\n",
       "      <td>file:///Users/hynky/Projects/LLM-Eval/mlruns/1...</td>\n",
       "      <td>2024-03-16 19:25:50.266000+00:00</td>\n",
       "      <td>2024-03-16 19:27:38.998000+00:00</td>\n",
       "      <td>0.721354</td>\n",
       "      <td>[{'name': 'accuracy', 'inputs': ['correct_answ...</td>\n",
       "      <td>openai/gpt-3.5-turbo</td>\n",
       "      <td>{'system_prompt_path': 'prompts/qa/system/cz_s...</td>\n",
       "      <td>...</td>\n",
       "      <td>2048</td>\n",
       "      <td>None</td>\n",
       "      <td>[{'key': 'answer', 'transform': {'name': 'extr...</td>\n",
       "      <td>openrouter</td>\n",
       "      <td>LOCAL</td>\n",
       "      <td>/Users/hynky/Projects/LLM-Eval/czeval/run.py</td>\n",
       "      <td>hynky</td>\n",
       "      <td>hynky-TSP-Culture-openai/gpt-3.5-turbo-Q&amp;A-202...</td>\n",
       "      <td>f762d328b9575483962ec75da6b5da98a466ab66</td>\n",
       "      <td>[{\"path\": \"dataset.json\", \"type\": \"table\"}]</td>\n",
       "    </tr>\n",
       "    <tr>\n",
       "      <th>34</th>\n",
       "      <td>34c160f0f3c04e3e8e193f177a52f9f4</td>\n",
       "      <td>842945248455049410</td>\n",
       "      <td>FINISHED</td>\n",
       "      <td>file:///Users/hynky/Projects/LLM-Eval/mlruns/8...</td>\n",
       "      <td>2024-03-16 19:24:16.900000+00:00</td>\n",
       "      <td>2024-03-16 19:25:49.077000+00:00</td>\n",
       "      <td>0.499121</td>\n",
       "      <td>[{'name': 'accuracy', 'inputs': ['correct_answ...</td>\n",
       "      <td>openai/gpt-3.5-turbo</td>\n",
       "      <td>{'system_prompt_path': 'prompts/qa/system/cz_s...</td>\n",
       "      <td>...</td>\n",
       "      <td>2048</td>\n",
       "      <td>None</td>\n",
       "      <td>[{'key': 'answer', 'transform': {'name': 'extr...</td>\n",
       "      <td>openrouter</td>\n",
       "      <td>LOCAL</td>\n",
       "      <td>/Users/hynky/Projects/LLM-Eval/czeval/run.py</td>\n",
       "      <td>hynky</td>\n",
       "      <td>hynky-TSP-Critical-openai/gpt-3.5-turbo-Q&amp;A-20...</td>\n",
       "      <td>f762d328b9575483962ec75da6b5da98a466ab66</td>\n",
       "      <td>[{\"path\": \"dataset.json\", \"type\": \"table\"}]</td>\n",
       "    </tr>\n",
       "    <tr>\n",
       "      <th>35</th>\n",
       "      <td>c65ce2b065fa4bfdac3ae8b4b07210a6</td>\n",
       "      <td>996016737840831842</td>\n",
       "      <td>FINISHED</td>\n",
       "      <td>file:///Users/hynky/Projects/LLM-Eval/mlruns/9...</td>\n",
       "      <td>2024-03-16 19:21:38.929000+00:00</td>\n",
       "      <td>2024-03-16 19:24:15.469000+00:00</td>\n",
       "      <td>0.304515</td>\n",
       "      <td>[{'name': 'accuracy', 'inputs': ['correct_answ...</td>\n",
       "      <td>openai/gpt-3.5-turbo</td>\n",
       "      <td>{'system_prompt_path': 'prompts/qa/system/cz_s...</td>\n",
       "      <td>...</td>\n",
       "      <td>2048</td>\n",
       "      <td>None</td>\n",
       "      <td>[{'key': 'answer', 'transform': {'name': 'extr...</td>\n",
       "      <td>openrouter</td>\n",
       "      <td>LOCAL</td>\n",
       "      <td>/Users/hynky/Projects/LLM-Eval/czeval/run.py</td>\n",
       "      <td>hynky</td>\n",
       "      <td>hynky-TSP-Analytical-openai/gpt-3.5-turbo-Q&amp;A-...</td>\n",
       "      <td>f762d328b9575483962ec75da6b5da98a466ab66</td>\n",
       "      <td>[{\"path\": \"dataset.json\", \"type\": \"table\"}]</td>\n",
       "    </tr>\n",
       "    <tr>\n",
       "      <th>36</th>\n",
       "      <td>2e457016f8a54dac9a40d001cb3fcfaf</td>\n",
       "      <td>603996644784169297</td>\n",
       "      <td>FINISHED</td>\n",
       "      <td>file:///Users/hynky/Projects/LLM-Eval/mlruns/6...</td>\n",
       "      <td>2024-03-16 19:19:32.025000+00:00</td>\n",
       "      <td>2024-03-16 19:20:39.944000+00:00</td>\n",
       "      <td>0.609610</td>\n",
       "      <td>[{'name': 'accuracy', 'inputs': ['correct_answ...</td>\n",
       "      <td>google/gemini-pro</td>\n",
       "      <td>{'system_prompt_path': 'prompts/qa/system/cz_s...</td>\n",
       "      <td>...</td>\n",
       "      <td>2048</td>\n",
       "      <td>None</td>\n",
       "      <td>[{'key': 'answer', 'transform': {'name': 'extr...</td>\n",
       "      <td>openrouter</td>\n",
       "      <td>LOCAL</td>\n",
       "      <td>/Users/hynky/Projects/LLM-Eval/czeval/run.py</td>\n",
       "      <td>hynky</td>\n",
       "      <td>hynky-TSP-Verbal-google/gemini-pro-Q&amp;A-2024-03...</td>\n",
       "      <td>f762d328b9575483962ec75da6b5da98a466ab66</td>\n",
       "      <td>[{\"path\": \"dataset.json\", \"type\": \"table\"}]</td>\n",
       "    </tr>\n",
       "    <tr>\n",
       "      <th>37</th>\n",
       "      <td>f4125f0209644e3981a25f3580650829</td>\n",
       "      <td>193975243763088023</td>\n",
       "      <td>FINISHED</td>\n",
       "      <td>file:///Users/hynky/Projects/LLM-Eval/mlruns/1...</td>\n",
       "      <td>2024-03-16 19:17:06.811000+00:00</td>\n",
       "      <td>2024-03-16 19:19:30.691000+00:00</td>\n",
       "      <td>0.807292</td>\n",
       "      <td>[{'name': 'accuracy', 'inputs': ['correct_answ...</td>\n",
       "      <td>google/gemini-pro</td>\n",
       "      <td>{'system_prompt_path': 'prompts/qa/system/cz_s...</td>\n",
       "      <td>...</td>\n",
       "      <td>2048</td>\n",
       "      <td>None</td>\n",
       "      <td>[{'key': 'answer', 'transform': {'name': 'extr...</td>\n",
       "      <td>openrouter</td>\n",
       "      <td>LOCAL</td>\n",
       "      <td>/Users/hynky/Projects/LLM-Eval/czeval/run.py</td>\n",
       "      <td>hynky</td>\n",
       "      <td>hynky-TSP-Culture-google/gemini-pro-Q&amp;A-2024-0...</td>\n",
       "      <td>f762d328b9575483962ec75da6b5da98a466ab66</td>\n",
       "      <td>[{\"path\": \"dataset.json\", \"type\": \"table\"}]</td>\n",
       "    </tr>\n",
       "    <tr>\n",
       "      <th>38</th>\n",
       "      <td>77d0aabe88994e98beed809c11da8c0c</td>\n",
       "      <td>842945248455049410</td>\n",
       "      <td>FINISHED</td>\n",
       "      <td>file:///Users/hynky/Projects/LLM-Eval/mlruns/8...</td>\n",
       "      <td>2024-03-16 19:15:13.900000+00:00</td>\n",
       "      <td>2024-03-16 19:17:05.222000+00:00</td>\n",
       "      <td>0.609842</td>\n",
       "      <td>[{'name': 'accuracy', 'inputs': ['correct_answ...</td>\n",
       "      <td>google/gemini-pro</td>\n",
       "      <td>{'system_prompt_path': 'prompts/qa/system/cz_s...</td>\n",
       "      <td>...</td>\n",
       "      <td>2048</td>\n",
       "      <td>None</td>\n",
       "      <td>[{'key': 'answer', 'transform': {'name': 'extr...</td>\n",
       "      <td>openrouter</td>\n",
       "      <td>LOCAL</td>\n",
       "      <td>/Users/hynky/Projects/LLM-Eval/czeval/run.py</td>\n",
       "      <td>hynky</td>\n",
       "      <td>hynky-TSP-Critical-google/gemini-pro-Q&amp;A-2024-...</td>\n",
       "      <td>f762d328b9575483962ec75da6b5da98a466ab66</td>\n",
       "      <td>[{\"path\": \"dataset.json\", \"type\": \"table\"}]</td>\n",
       "    </tr>\n",
       "    <tr>\n",
       "      <th>39</th>\n",
       "      <td>fc6d4ef4ec31430889ffd5f9a657beaf</td>\n",
       "      <td>996016737840831842</td>\n",
       "      <td>FINISHED</td>\n",
       "      <td>file:///Users/hynky/Projects/LLM-Eval/mlruns/9...</td>\n",
       "      <td>2024-03-16 19:10:37.809000+00:00</td>\n",
       "      <td>2024-03-16 19:15:12.570000+00:00</td>\n",
       "      <td>0.289145</td>\n",
       "      <td>[{'name': 'accuracy', 'inputs': ['correct_answ...</td>\n",
       "      <td>google/gemini-pro</td>\n",
       "      <td>{'system_prompt_path': 'prompts/qa/system/cz_s...</td>\n",
       "      <td>...</td>\n",
       "      <td>2048</td>\n",
       "      <td>None</td>\n",
       "      <td>[{'key': 'answer', 'transform': {'name': 'extr...</td>\n",
       "      <td>openrouter</td>\n",
       "      <td>LOCAL</td>\n",
       "      <td>/Users/hynky/Projects/LLM-Eval/czeval/run.py</td>\n",
       "      <td>hynky</td>\n",
       "      <td>hynky-TSP-Analytical-google/gemini-pro-Q&amp;A-202...</td>\n",
       "      <td>f762d328b9575483962ec75da6b5da98a466ab66</td>\n",
       "      <td>[{\"path\": \"dataset.json\", \"type\": \"table\"}]</td>\n",
       "    </tr>\n",
       "    <tr>\n",
       "      <th>40</th>\n",
       "      <td>c57cfee3f9e1427394df064ddca11047</td>\n",
       "      <td>603996644784169297</td>\n",
       "      <td>FINISHED</td>\n",
       "      <td>file:///Users/hynky/Projects/LLM-Eval/mlruns/6...</td>\n",
       "      <td>2024-03-16 18:54:30.418000+00:00</td>\n",
       "      <td>2024-03-16 18:55:50.752000+00:00</td>\n",
       "      <td>0.444444</td>\n",
       "      <td>[{'name': 'accuracy', 'inputs': ['correct_answ...</td>\n",
       "      <td>cohere/command-r</td>\n",
       "      <td>{'system_prompt_path': 'prompts/qa/system/cz_s...</td>\n",
       "      <td>...</td>\n",
       "      <td>2048</td>\n",
       "      <td>None</td>\n",
       "      <td>[{'key': 'answer', 'transform': {'name': 'extr...</td>\n",
       "      <td>openrouter</td>\n",
       "      <td>LOCAL</td>\n",
       "      <td>/Users/hynky/Projects/LLM-Eval/czeval/run.py</td>\n",
       "      <td>hynky</td>\n",
       "      <td>hynky-TSP-Verbal-cohere/command-r-Q&amp;A-2024-03-...</td>\n",
       "      <td>f762d328b9575483962ec75da6b5da98a466ab66</td>\n",
       "      <td>[{\"path\": \"dataset.json\", \"type\": \"table\"}]</td>\n",
       "    </tr>\n",
       "    <tr>\n",
       "      <th>41</th>\n",
       "      <td>24c71abadffa43e7b2410c5fc1f0b12f</td>\n",
       "      <td>193975243763088023</td>\n",
       "      <td>FINISHED</td>\n",
       "      <td>file:///Users/hynky/Projects/LLM-Eval/mlruns/1...</td>\n",
       "      <td>2024-03-16 18:51:41.751000+00:00</td>\n",
       "      <td>2024-03-16 18:54:29.016000+00:00</td>\n",
       "      <td>0.704427</td>\n",
       "      <td>[{'name': 'accuracy', 'inputs': ['correct_answ...</td>\n",
       "      <td>cohere/command-r</td>\n",
       "      <td>{'system_prompt_path': 'prompts/qa/system/cz_s...</td>\n",
       "      <td>...</td>\n",
       "      <td>2048</td>\n",
       "      <td>None</td>\n",
       "      <td>[{'key': 'answer', 'transform': {'name': 'extr...</td>\n",
       "      <td>openrouter</td>\n",
       "      <td>LOCAL</td>\n",
       "      <td>/Users/hynky/Projects/LLM-Eval/czeval/run.py</td>\n",
       "      <td>hynky</td>\n",
       "      <td>hynky-TSP-Culture-cohere/command-r-Q&amp;A-2024-03...</td>\n",
       "      <td>f762d328b9575483962ec75da6b5da98a466ab66</td>\n",
       "      <td>[{\"path\": \"dataset.json\", \"type\": \"table\"}]</td>\n",
       "    </tr>\n",
       "    <tr>\n",
       "      <th>42</th>\n",
       "      <td>62a2e2bfc15642c2a7fcf1e347c96ea7</td>\n",
       "      <td>842945248455049410</td>\n",
       "      <td>FINISHED</td>\n",
       "      <td>file:///Users/hynky/Projects/LLM-Eval/mlruns/8...</td>\n",
       "      <td>2024-03-16 18:48:06.291000+00:00</td>\n",
       "      <td>2024-03-16 18:51:40.466000+00:00</td>\n",
       "      <td>0.534271</td>\n",
       "      <td>[{'name': 'accuracy', 'inputs': ['correct_answ...</td>\n",
       "      <td>cohere/command-r</td>\n",
       "      <td>{'system_prompt_path': 'prompts/qa/system/cz_s...</td>\n",
       "      <td>...</td>\n",
       "      <td>2048</td>\n",
       "      <td>None</td>\n",
       "      <td>[{'key': 'answer', 'transform': {'name': 'extr...</td>\n",
       "      <td>openrouter</td>\n",
       "      <td>LOCAL</td>\n",
       "      <td>/Users/hynky/Projects/LLM-Eval/czeval/run.py</td>\n",
       "      <td>hynky</td>\n",
       "      <td>hynky-TSP-Critical-cohere/command-r-Q&amp;A-2024-0...</td>\n",
       "      <td>f762d328b9575483962ec75da6b5da98a466ab66</td>\n",
       "      <td>[{\"path\": \"dataset.json\", \"type\": \"table\"}]</td>\n",
       "    </tr>\n",
       "    <tr>\n",
       "      <th>43</th>\n",
       "      <td>a05b43ff2dfa47dc937d8e2be1590608</td>\n",
       "      <td>996016737840831842</td>\n",
       "      <td>FINISHED</td>\n",
       "      <td>file:///Users/hynky/Projects/LLM-Eval/mlruns/9...</td>\n",
       "      <td>2024-03-16 18:43:50.087000+00:00</td>\n",
       "      <td>2024-03-16 18:48:05.055000+00:00</td>\n",
       "      <td>0.278578</td>\n",
       "      <td>[{'name': 'accuracy', 'inputs': ['correct_answ...</td>\n",
       "      <td>cohere/command-r</td>\n",
       "      <td>{'system_prompt_path': 'prompts/qa/system/cz_s...</td>\n",
       "      <td>...</td>\n",
       "      <td>2048</td>\n",
       "      <td>None</td>\n",
       "      <td>[{'key': 'answer', 'transform': {'name': 'extr...</td>\n",
       "      <td>openrouter</td>\n",
       "      <td>LOCAL</td>\n",
       "      <td>/Users/hynky/Projects/LLM-Eval/czeval/run.py</td>\n",
       "      <td>hynky</td>\n",
       "      <td>hynky-TSP-Analytical-cohere/command-r-Q&amp;A-2024...</td>\n",
       "      <td>f762d328b9575483962ec75da6b5da98a466ab66</td>\n",
       "      <td>[{\"path\": \"dataset.json\", \"type\": \"table\"}]</td>\n",
       "    </tr>\n",
       "    <tr>\n",
       "      <th>44</th>\n",
       "      <td>e9dff4165dbb4598901c2142481cd8e4</td>\n",
       "      <td>193975243763088023</td>\n",
       "      <td>FINISHED</td>\n",
       "      <td>file:///Users/hynky/Projects/LLM-Eval/mlruns/1...</td>\n",
       "      <td>2024-02-18 16:13:46.250000+00:00</td>\n",
       "      <td>2024-02-18 16:34:39.195000+00:00</td>\n",
       "      <td>0.798177</td>\n",
       "      <td>[{'name': 'accuracy', 'inputs': ['correct_answ...</td>\n",
       "      <td>anthropic/claude-2.1</td>\n",
       "      <td>{'system_prompt_path': 'prompts/qa/system/cz_s...</td>\n",
       "      <td>...</td>\n",
       "      <td>None</td>\n",
       "      <td>None</td>\n",
       "      <td>[{'key': 'answer', 'transform': {'name': 'extr...</td>\n",
       "      <td>openrouter</td>\n",
       "      <td>LOCAL</td>\n",
       "      <td>/Users/hynky/Projects/LLM-Eval/czeval/run.py</td>\n",
       "      <td>hynekkdylicek</td>\n",
       "      <td>hynky-TSP-Culture-anthropic/claude-2.1-Q&amp;A-202...</td>\n",
       "      <td>6ec2624cf5385595ec6f00cc98c4c66302918cd4</td>\n",
       "      <td>[{\"path\": \"dataset.json\", \"type\": \"table\"}]</td>\n",
       "    </tr>\n",
       "    <tr>\n",
       "      <th>45</th>\n",
       "      <td>f0d7e79dd0b745dc851f1af2fa9c0589</td>\n",
       "      <td>603996644784169297</td>\n",
       "      <td>FINISHED</td>\n",
       "      <td>file:///Users/hynky/Projects/LLM-Eval/mlruns/6...</td>\n",
       "      <td>2024-02-18 14:12:12.406000+00:00</td>\n",
       "      <td>2024-02-18 14:16:05.395000+00:00</td>\n",
       "      <td>0.633634</td>\n",
       "      <td>[{'name': 'accuracy', 'inputs': ['correct_answ...</td>\n",
       "      <td>anthropic/claude-2.1</td>\n",
       "      <td>{'system_prompt_path': 'prompts/qa/system/cz_s...</td>\n",
       "      <td>...</td>\n",
       "      <td>None</td>\n",
       "      <td>None</td>\n",
       "      <td>[{'key': 'answer', 'transform': {'name': 'extr...</td>\n",
       "      <td>openrouter</td>\n",
       "      <td>LOCAL</td>\n",
       "      <td>/Users/hynky/Projects/LLM-Eval/czeval/run.py</td>\n",
       "      <td>hynekkdylicek</td>\n",
       "      <td>hynky-TSP-Verbal-anthropic/claude-2.1-Q&amp;A-2024...</td>\n",
       "      <td>6ec2624cf5385595ec6f00cc98c4c66302918cd4</td>\n",
       "      <td>[{\"path\": \"dataset.json\", \"type\": \"table\"}]</td>\n",
       "    </tr>\n",
       "    <tr>\n",
       "      <th>46</th>\n",
       "      <td>112b3b19e29c4f729c23b9662099120a</td>\n",
       "      <td>842945248455049410</td>\n",
       "      <td>FINISHED</td>\n",
       "      <td>file:///Users/hynky/Projects/LLM-Eval/mlruns/8...</td>\n",
       "      <td>2024-02-18 13:48:31.634000+00:00</td>\n",
       "      <td>2024-02-18 13:55:06.455000+00:00</td>\n",
       "      <td>0.644991</td>\n",
       "      <td>[{'name': 'accuracy', 'inputs': ['correct_answ...</td>\n",
       "      <td>anthropic/claude-2.1</td>\n",
       "      <td>{'system_prompt_path': 'prompts/qa/system/cz_s...</td>\n",
       "      <td>...</td>\n",
       "      <td>None</td>\n",
       "      <td>None</td>\n",
       "      <td>[{'key': 'answer', 'transform': {'name': 'extr...</td>\n",
       "      <td>openrouter</td>\n",
       "      <td>LOCAL</td>\n",
       "      <td>/Users/hynky/Projects/LLM-Eval/czeval/run.py</td>\n",
       "      <td>hynekkdylicek</td>\n",
       "      <td>hynky-TSP-Critical-anthropic/claude-2.1-Q&amp;A-20...</td>\n",
       "      <td>6ec2624cf5385595ec6f00cc98c4c66302918cd4</td>\n",
       "      <td>[{\"path\": \"dataset.json\", \"type\": \"table\"}]</td>\n",
       "    </tr>\n",
       "    <tr>\n",
       "      <th>47</th>\n",
       "      <td>8fe48d83c65a4776915ec17521098789</td>\n",
       "      <td>996016737840831842</td>\n",
       "      <td>FINISHED</td>\n",
       "      <td>file:///Users/hynky/Projects/LLM-Eval/mlruns/9...</td>\n",
       "      <td>2024-02-18 13:37:54.534000+00:00</td>\n",
       "      <td>2024-02-18 13:48:30.189000+00:00</td>\n",
       "      <td>0.380403</td>\n",
       "      <td>[{'name': 'accuracy', 'inputs': ['correct_answ...</td>\n",
       "      <td>anthropic/claude-2.1</td>\n",
       "      <td>{'system_prompt_path': 'prompts/qa/system/cz_s...</td>\n",
       "      <td>...</td>\n",
       "      <td>None</td>\n",
       "      <td>None</td>\n",
       "      <td>[{'key': 'answer', 'transform': {'name': 'extr...</td>\n",
       "      <td>openrouter</td>\n",
       "      <td>LOCAL</td>\n",
       "      <td>/Users/hynky/Projects/LLM-Eval/czeval/run.py</td>\n",
       "      <td>hynekkdylicek</td>\n",
       "      <td>hynky-TSP-Analytical-anthropic/claude-2.1-Q&amp;A-...</td>\n",
       "      <td>6ec2624cf5385595ec6f00cc98c4c66302918cd4</td>\n",
       "      <td>[{\"path\": \"dataset.json\", \"type\": \"table\"}]</td>\n",
       "    </tr>\n",
       "  </tbody>\n",
       "</table>\n",
       "<p>48 rows × 25 columns</p>\n",
       "</div>"
      ],
      "text/plain": [
       "                              run_id       experiment_id    status  \\\n",
       "0   189e155fa98f4769b3285ac25a2de327  603996644784169297  FINISHED   \n",
       "1   e12b53d696e94ab08c18d28c7295a27c  603996644784169297  FINISHED   \n",
       "2   58b0c092fdc44b999fe433e34f99e9b4  193975243763088023  FINISHED   \n",
       "3   8702ced25e9b4674894e01dca21365af  193975243763088023  FINISHED   \n",
       "4   141b39b7f9114aaab345fdffaa6b38ba  842945248455049410  FINISHED   \n",
       "5   7266a53284cf43e9880d6a899ee1a8a0  842945248455049410  FINISHED   \n",
       "6   f1225fa2214942348a6a7b7cfb04907a  603996644784169297  FINISHED   \n",
       "7   98d0fddebbec406ba70358d6a3fae26c  193975243763088023  FINISHED   \n",
       "8   7f45734c4eed449f902d1ea902016ced  842945248455049410  FINISHED   \n",
       "9   1f1dda85a36a4c329fc84d906cb6e894  996016737840831842  FINISHED   \n",
       "10  0a8f93c57641466189b30aee71ae1fdd  603996644784169297  FINISHED   \n",
       "11  10ab19b3f7964826960ab1af5ab0dca9  996016737840831842  FINISHED   \n",
       "12  3cbbf03d2baf4250b25ffbe24235ffb7  193975243763088023  FINISHED   \n",
       "13  5f09ca545a534f7e94861328697ccbfc  996016737840831842  FINISHED   \n",
       "14  3b17feea368e4536b15e85bc6c7504d0  842945248455049410  FINISHED   \n",
       "15  508a82b97c9d4e8c93e278787c5b81c8  996016737840831842  FINISHED   \n",
       "16  42bdf205dd224f45803d6281ecb9b5e3  603996644784169297  FINISHED   \n",
       "17  047365f3996449ba831d320ef95a5256  193975243763088023  FINISHED   \n",
       "18  bc6e58e5bc2e4fa987236e5c44cd94fb  842945248455049410  FINISHED   \n",
       "19  a18d2aeabb4d4768b6786209b8684452  996016737840831842  FINISHED   \n",
       "20  9eb1679390e14725af09ca039e6df7c7  603996644784169297  FINISHED   \n",
       "21  ca2bf8bce3a64732a4a6adece7ac1cbc  193975243763088023  FINISHED   \n",
       "22  e770ce1550704c04a5b327c776248057  842945248455049410  FINISHED   \n",
       "23  e06f7aaf548a4b77896e36f140081f36  996016737840831842  FINISHED   \n",
       "24  514d20a6cb814ccca8ec130633f4fb51  603996644784169297  FINISHED   \n",
       "25  dcc898679eaf406b9529cdd5e7a7e68c  193975243763088023  FINISHED   \n",
       "26  9e85e204949c42fe8897a68a039e892b  842945248455049410  FINISHED   \n",
       "27  16dcd07ecb84456ea6fd3d47b8344064  996016737840831842  FINISHED   \n",
       "28  81747e5cec6047f091f037bdfbdb6166  603996644784169297  FINISHED   \n",
       "29  0dd40ece7fca4407aa36765574ecfb5d  193975243763088023  FINISHED   \n",
       "30  e6021c5e74bf435c9640dce24d61bdb6  842945248455049410  FINISHED   \n",
       "31  9b821017a5074ab5b4f212f04be12de7  996016737840831842  FINISHED   \n",
       "32  8699f1eb99d144c4ac986faa0b50304a  603996644784169297  FINISHED   \n",
       "33  0f88414f3e6a472c987005686eab1a96  193975243763088023  FINISHED   \n",
       "34  34c160f0f3c04e3e8e193f177a52f9f4  842945248455049410  FINISHED   \n",
       "35  c65ce2b065fa4bfdac3ae8b4b07210a6  996016737840831842  FINISHED   \n",
       "36  2e457016f8a54dac9a40d001cb3fcfaf  603996644784169297  FINISHED   \n",
       "37  f4125f0209644e3981a25f3580650829  193975243763088023  FINISHED   \n",
       "38  77d0aabe88994e98beed809c11da8c0c  842945248455049410  FINISHED   \n",
       "39  fc6d4ef4ec31430889ffd5f9a657beaf  996016737840831842  FINISHED   \n",
       "40  c57cfee3f9e1427394df064ddca11047  603996644784169297  FINISHED   \n",
       "41  24c71abadffa43e7b2410c5fc1f0b12f  193975243763088023  FINISHED   \n",
       "42  62a2e2bfc15642c2a7fcf1e347c96ea7  842945248455049410  FINISHED   \n",
       "43  a05b43ff2dfa47dc937d8e2be1590608  996016737840831842  FINISHED   \n",
       "44  e9dff4165dbb4598901c2142481cd8e4  193975243763088023  FINISHED   \n",
       "45  f0d7e79dd0b745dc851f1af2fa9c0589  603996644784169297  FINISHED   \n",
       "46  112b3b19e29c4f729c23b9662099120a  842945248455049410  FINISHED   \n",
       "47  8fe48d83c65a4776915ec17521098789  996016737840831842  FINISHED   \n",
       "\n",
       "                                         artifact_uri  \\\n",
       "0   file:///Users/hynky/Projects/LLM-Eval/mlruns/6...   \n",
       "1   file:///Users/hynky/Projects/LLM-Eval/mlruns/6...   \n",
       "2   file:///Users/hynky/Projects/LLM-Eval/mlruns/1...   \n",
       "3   file:///Users/hynky/Projects/LLM-Eval/mlruns/1...   \n",
       "4   file:///Users/hynky/Projects/LLM-Eval/mlruns/8...   \n",
       "5   file:///Users/hynky/Projects/LLM-Eval/mlruns/8...   \n",
       "6   file:///Users/hynky/Projects/LLM-Eval/mlruns/6...   \n",
       "7   file:///Users/hynky/Projects/LLM-Eval/mlruns/1...   \n",
       "8   file:///Users/hynky/Projects/LLM-Eval/mlruns/8...   \n",
       "9   file:///Users/hynky/Projects/LLM-Eval/mlruns/9...   \n",
       "10  file:///Users/hynky/Projects/LLM-Eval/mlruns/6...   \n",
       "11  file:///Users/hynky/Projects/LLM-Eval/mlruns/9...   \n",
       "12  file:///Users/hynky/Projects/LLM-Eval/mlruns/1...   \n",
       "13  file:///Users/hynky/Projects/LLM-Eval/mlruns/9...   \n",
       "14  file:///Users/hynky/Projects/LLM-Eval/mlruns/8...   \n",
       "15  file:///Users/hynky/Projects/LLM-Eval/mlruns/9...   \n",
       "16  file:///Users/hynky/Projects/LLM-Eval/mlruns/6...   \n",
       "17  file:///Users/hynky/Projects/LLM-Eval/mlruns/1...   \n",
       "18  file:///Users/hynky/Projects/LLM-Eval/mlruns/8...   \n",
       "19  file:///Users/hynky/Projects/LLM-Eval/mlruns/9...   \n",
       "20  file:///Users/hynky/Projects/LLM-Eval/mlruns/6...   \n",
       "21  file:///Users/hynky/Projects/LLM-Eval/mlruns/1...   \n",
       "22  file:///Users/hynky/Projects/LLM-Eval/mlruns/8...   \n",
       "23  file:///Users/hynky/Projects/LLM-Eval/mlruns/9...   \n",
       "24  file:///Users/hynky/Projects/LLM-Eval/mlruns/6...   \n",
       "25  file:///Users/hynky/Projects/LLM-Eval/mlruns/1...   \n",
       "26  file:///Users/hynky/Projects/LLM-Eval/mlruns/8...   \n",
       "27  file:///Users/hynky/Projects/LLM-Eval/mlruns/9...   \n",
       "28  file:///Users/hynky/Projects/LLM-Eval/mlruns/6...   \n",
       "29  file:///Users/hynky/Projects/LLM-Eval/mlruns/1...   \n",
       "30  file:///Users/hynky/Projects/LLM-Eval/mlruns/8...   \n",
       "31  file:///Users/hynky/Projects/LLM-Eval/mlruns/9...   \n",
       "32  file:///Users/hynky/Projects/LLM-Eval/mlruns/6...   \n",
       "33  file:///Users/hynky/Projects/LLM-Eval/mlruns/1...   \n",
       "34  file:///Users/hynky/Projects/LLM-Eval/mlruns/8...   \n",
       "35  file:///Users/hynky/Projects/LLM-Eval/mlruns/9...   \n",
       "36  file:///Users/hynky/Projects/LLM-Eval/mlruns/6...   \n",
       "37  file:///Users/hynky/Projects/LLM-Eval/mlruns/1...   \n",
       "38  file:///Users/hynky/Projects/LLM-Eval/mlruns/8...   \n",
       "39  file:///Users/hynky/Projects/LLM-Eval/mlruns/9...   \n",
       "40  file:///Users/hynky/Projects/LLM-Eval/mlruns/6...   \n",
       "41  file:///Users/hynky/Projects/LLM-Eval/mlruns/1...   \n",
       "42  file:///Users/hynky/Projects/LLM-Eval/mlruns/8...   \n",
       "43  file:///Users/hynky/Projects/LLM-Eval/mlruns/9...   \n",
       "44  file:///Users/hynky/Projects/LLM-Eval/mlruns/1...   \n",
       "45  file:///Users/hynky/Projects/LLM-Eval/mlruns/6...   \n",
       "46  file:///Users/hynky/Projects/LLM-Eval/mlruns/8...   \n",
       "47  file:///Users/hynky/Projects/LLM-Eval/mlruns/9...   \n",
       "\n",
       "                         start_time                         end_time  \\\n",
       "0  2024-03-16 22:39:15.293000+00:00 2024-03-16 22:47:04.688000+00:00   \n",
       "1  2024-03-16 22:33:03.676000+00:00 2024-03-16 22:39:12.361000+00:00   \n",
       "2  2024-03-16 22:25:47.717000+00:00 2024-03-16 22:39:13.839000+00:00   \n",
       "3  2024-03-16 22:19:31.318000+00:00 2024-03-16 22:33:02.074000+00:00   \n",
       "4  2024-03-16 22:15:14.233000+00:00 2024-03-16 22:25:46.165000+00:00   \n",
       "5  2024-03-16 22:09:28.007000+00:00 2024-03-16 22:19:30.030000+00:00   \n",
       "6  2024-03-16 22:02:31.098000+00:00 2024-03-16 22:03:54.961000+00:00   \n",
       "7  2024-03-16 21:59:37.235000+00:00 2024-03-16 22:02:29.773000+00:00   \n",
       "8  2024-03-16 21:57:22.978000+00:00 2024-03-16 21:59:35.821000+00:00   \n",
       "9  2024-03-16 21:57:13.147000+00:00 2024-03-16 22:15:11.790000+00:00   \n",
       "10 2024-03-16 21:55:17.173000+00:00 2024-03-16 21:57:13.820000+00:00   \n",
       "11 2024-03-16 21:53:33.940000+00:00 2024-03-16 21:57:21.502000+00:00   \n",
       "12 2024-03-16 21:51:35.114000+00:00 2024-03-16 21:55:15.597000+00:00   \n",
       "13 2024-03-16 21:51:18.888000+00:00 2024-03-16 22:09:26.563000+00:00   \n",
       "14 2024-03-16 21:48:52.330000+00:00 2024-03-16 21:51:33.888000+00:00   \n",
       "15 2024-03-16 21:44:14.103000+00:00 2024-03-16 21:48:51.083000+00:00   \n",
       "16 2024-03-16 21:19:57.428000+00:00 2024-03-16 21:26:10.481000+00:00   \n",
       "17 2024-03-16 21:06:28.060000+00:00 2024-03-16 21:19:56.011000+00:00   \n",
       "18 2024-03-16 20:55:01.185000+00:00 2024-03-16 21:06:26.427000+00:00   \n",
       "19 2024-03-16 20:36:50.771000+00:00 2024-03-16 20:54:59.243000+00:00   \n",
       "20 2024-03-16 20:28:09.522000+00:00 2024-03-16 20:29:52.182000+00:00   \n",
       "21 2024-03-16 20:23:58.407000+00:00 2024-03-16 20:28:07.988000+00:00   \n",
       "22 2024-03-16 20:21:11.160000+00:00 2024-03-16 20:23:56.932000+00:00   \n",
       "23 2024-03-16 20:15:39.541000+00:00 2024-03-16 20:21:09.613000+00:00   \n",
       "24 2024-03-16 20:02:10.126000+00:00 2024-03-16 20:05:34.900000+00:00   \n",
       "25 2024-03-16 19:56:56.751000+00:00 2024-03-16 20:02:08.886000+00:00   \n",
       "26 2024-03-16 19:52:59.815000+00:00 2024-03-16 19:56:55.405000+00:00   \n",
       "27 2024-03-16 19:45:20.664000+00:00 2024-03-16 19:52:58.507000+00:00   \n",
       "28 2024-03-16 19:39:58.586000+00:00 2024-03-16 19:41:24.444000+00:00   \n",
       "29 2024-03-16 19:37:05.859000+00:00 2024-03-16 19:39:57.189000+00:00   \n",
       "30 2024-03-16 19:34:49.570000+00:00 2024-03-16 19:37:04.625000+00:00   \n",
       "31 2024-03-16 19:30:36.405000+00:00 2024-03-16 19:34:48.239000+00:00   \n",
       "32 2024-03-16 19:27:40.301000+00:00 2024-03-16 19:30:07.378000+00:00   \n",
       "33 2024-03-16 19:25:50.266000+00:00 2024-03-16 19:27:38.998000+00:00   \n",
       "34 2024-03-16 19:24:16.900000+00:00 2024-03-16 19:25:49.077000+00:00   \n",
       "35 2024-03-16 19:21:38.929000+00:00 2024-03-16 19:24:15.469000+00:00   \n",
       "36 2024-03-16 19:19:32.025000+00:00 2024-03-16 19:20:39.944000+00:00   \n",
       "37 2024-03-16 19:17:06.811000+00:00 2024-03-16 19:19:30.691000+00:00   \n",
       "38 2024-03-16 19:15:13.900000+00:00 2024-03-16 19:17:05.222000+00:00   \n",
       "39 2024-03-16 19:10:37.809000+00:00 2024-03-16 19:15:12.570000+00:00   \n",
       "40 2024-03-16 18:54:30.418000+00:00 2024-03-16 18:55:50.752000+00:00   \n",
       "41 2024-03-16 18:51:41.751000+00:00 2024-03-16 18:54:29.016000+00:00   \n",
       "42 2024-03-16 18:48:06.291000+00:00 2024-03-16 18:51:40.466000+00:00   \n",
       "43 2024-03-16 18:43:50.087000+00:00 2024-03-16 18:48:05.055000+00:00   \n",
       "44 2024-02-18 16:13:46.250000+00:00 2024-02-18 16:34:39.195000+00:00   \n",
       "45 2024-02-18 14:12:12.406000+00:00 2024-02-18 14:16:05.395000+00:00   \n",
       "46 2024-02-18 13:48:31.634000+00:00 2024-02-18 13:55:06.455000+00:00   \n",
       "47 2024-02-18 13:37:54.534000+00:00 2024-02-18 13:48:30.189000+00:00   \n",
       "\n",
       "    metrics.accuracy                                     params.metrics  \\\n",
       "0           0.612613  [{'name': 'accuracy', 'inputs': ['correct_answ...   \n",
       "1           0.627628  [{'name': 'accuracy', 'inputs': ['correct_answ...   \n",
       "2           0.834635  [{'name': 'accuracy', 'inputs': ['correct_answ...   \n",
       "3           0.859375  [{'name': 'accuracy', 'inputs': ['correct_answ...   \n",
       "4           0.688928  [{'name': 'accuracy', 'inputs': ['correct_answ...   \n",
       "5           0.667838  [{'name': 'accuracy', 'inputs': ['correct_answ...   \n",
       "6           0.228228  [{'name': 'accuracy', 'inputs': ['correct_answ...   \n",
       "7           0.229167  [{'name': 'accuracy', 'inputs': ['correct_answ...   \n",
       "8           0.279438  [{'name': 'accuracy', 'inputs': ['correct_answ...   \n",
       "9           0.378482  [{'name': 'accuracy', 'inputs': ['correct_answ...   \n",
       "10          0.624625  [{'name': 'accuracy', 'inputs': ['correct_answ...   \n",
       "11          0.221902  [{'name': 'accuracy', 'inputs': ['correct_answ...   \n",
       "12          0.816406  [{'name': 'accuracy', 'inputs': ['correct_answ...   \n",
       "13          0.385207  [{'name': 'accuracy', 'inputs': ['correct_answ...   \n",
       "14          0.604569  [{'name': 'accuracy', 'inputs': ['correct_answ...   \n",
       "15          0.332373  [{'name': 'accuracy', 'inputs': ['correct_answ...   \n",
       "16          0.801802  [{'name': 'accuracy', 'inputs': ['correct_answ...   \n",
       "17          0.924479  [{'name': 'accuracy', 'inputs': ['correct_answ...   \n",
       "18          0.764499  [{'name': 'accuracy', 'inputs': ['correct_answ...   \n",
       "19          0.472622  [{'name': 'accuracy', 'inputs': ['correct_answ...   \n",
       "20          0.726727  [{'name': 'accuracy', 'inputs': ['correct_answ...   \n",
       "21          0.902344  [{'name': 'accuracy', 'inputs': ['correct_answ...   \n",
       "22          0.706503  [{'name': 'accuracy', 'inputs': ['correct_answ...   \n",
       "23          0.515850  [{'name': 'accuracy', 'inputs': ['correct_answ...   \n",
       "24          0.504505  [{'name': 'accuracy', 'inputs': ['correct_answ...   \n",
       "25          0.773438  [{'name': 'accuracy', 'inputs': ['correct_answ...   \n",
       "26          0.595782  [{'name': 'accuracy', 'inputs': ['correct_answ...   \n",
       "27          0.312200  [{'name': 'accuracy', 'inputs': ['correct_answ...   \n",
       "28          0.435435  [{'name': 'accuracy', 'inputs': ['correct_answ...   \n",
       "29          0.712240  [{'name': 'accuracy', 'inputs': ['correct_answ...   \n",
       "30          0.511424  [{'name': 'accuracy', 'inputs': ['correct_answ...   \n",
       "31          0.252642  [{'name': 'accuracy', 'inputs': ['correct_answ...   \n",
       "32          0.447447  [{'name': 'accuracy', 'inputs': ['correct_answ...   \n",
       "33          0.721354  [{'name': 'accuracy', 'inputs': ['correct_answ...   \n",
       "34          0.499121  [{'name': 'accuracy', 'inputs': ['correct_answ...   \n",
       "35          0.304515  [{'name': 'accuracy', 'inputs': ['correct_answ...   \n",
       "36          0.609610  [{'name': 'accuracy', 'inputs': ['correct_answ...   \n",
       "37          0.807292  [{'name': 'accuracy', 'inputs': ['correct_answ...   \n",
       "38          0.609842  [{'name': 'accuracy', 'inputs': ['correct_answ...   \n",
       "39          0.289145  [{'name': 'accuracy', 'inputs': ['correct_answ...   \n",
       "40          0.444444  [{'name': 'accuracy', 'inputs': ['correct_answ...   \n",
       "41          0.704427  [{'name': 'accuracy', 'inputs': ['correct_answ...   \n",
       "42          0.534271  [{'name': 'accuracy', 'inputs': ['correct_answ...   \n",
       "43          0.278578  [{'name': 'accuracy', 'inputs': ['correct_answ...   \n",
       "44          0.798177  [{'name': 'accuracy', 'inputs': ['correct_answ...   \n",
       "45          0.633634  [{'name': 'accuracy', 'inputs': ['correct_answ...   \n",
       "46          0.644991  [{'name': 'accuracy', 'inputs': ['correct_answ...   \n",
       "47          0.380403  [{'name': 'accuracy', 'inputs': ['correct_answ...   \n",
       "\n",
       "                  params.model_name  \\\n",
       "0         anthropic/claude-3-sonnet   \n",
       "1           mistralai/mistral-large   \n",
       "2         anthropic/claude-3-sonnet   \n",
       "3           mistralai/mistral-large   \n",
       "4         anthropic/claude-3-sonnet   \n",
       "5           mistralai/mistral-large   \n",
       "6                google/gemma-7b-it   \n",
       "7                google/gemma-7b-it   \n",
       "8                google/gemma-7b-it   \n",
       "9         anthropic/claude-3-sonnet   \n",
       "10         anthropic/claude-3-haiku   \n",
       "11               google/gemma-7b-it   \n",
       "12         anthropic/claude-3-haiku   \n",
       "13          mistralai/mistral-large   \n",
       "14         anthropic/claude-3-haiku   \n",
       "15         anthropic/claude-3-haiku   \n",
       "16          anthropic/claude-3-opus   \n",
       "17          anthropic/claude-3-opus   \n",
       "18          anthropic/claude-3-opus   \n",
       "19          anthropic/claude-3-opus   \n",
       "20        openai/gpt-4-1106-preview   \n",
       "21        openai/gpt-4-1106-preview   \n",
       "22        openai/gpt-4-1106-preview   \n",
       "23        openai/gpt-4-1106-preview   \n",
       "24         mistralai/mistral-medium   \n",
       "25         mistralai/mistral-medium   \n",
       "26         mistralai/mistral-medium   \n",
       "27         mistralai/mistral-medium   \n",
       "28  mistralai/mixtral-8x7b-instruct   \n",
       "29  mistralai/mixtral-8x7b-instruct   \n",
       "30  mistralai/mixtral-8x7b-instruct   \n",
       "31  mistralai/mixtral-8x7b-instruct   \n",
       "32             openai/gpt-3.5-turbo   \n",
       "33             openai/gpt-3.5-turbo   \n",
       "34             openai/gpt-3.5-turbo   \n",
       "35             openai/gpt-3.5-turbo   \n",
       "36                google/gemini-pro   \n",
       "37                google/gemini-pro   \n",
       "38                google/gemini-pro   \n",
       "39                google/gemini-pro   \n",
       "40                 cohere/command-r   \n",
       "41                 cohere/command-r   \n",
       "42                 cohere/command-r   \n",
       "43                 cohere/command-r   \n",
       "44             anthropic/claude-2.1   \n",
       "45             anthropic/claude-2.1   \n",
       "46             anthropic/claude-2.1   \n",
       "47             anthropic/claude-2.1   \n",
       "\n",
       "                                       params.prompts  ...  \\\n",
       "0   {'system_prompt_path': 'prompts/qa/system/cz_s...  ...   \n",
       "1   {'system_prompt_path': 'prompts/qa/system/cz_s...  ...   \n",
       "2   {'system_prompt_path': 'prompts/qa/system/cz_s...  ...   \n",
       "3   {'system_prompt_path': 'prompts/qa/system/cz_s...  ...   \n",
       "4   {'system_prompt_path': 'prompts/qa/system/cz_s...  ...   \n",
       "5   {'system_prompt_path': 'prompts/qa/system/cz_s...  ...   \n",
       "6   {'system_prompt_path': 'prompts/qa/system/cz_s...  ...   \n",
       "7   {'system_prompt_path': 'prompts/qa/system/cz_s...  ...   \n",
       "8   {'system_prompt_path': 'prompts/qa/system/cz_s...  ...   \n",
       "9   {'system_prompt_path': 'prompts/qa/system/cz_s...  ...   \n",
       "10  {'system_prompt_path': 'prompts/qa/system/cz_s...  ...   \n",
       "11  {'system_prompt_path': 'prompts/qa/system/cz_s...  ...   \n",
       "12  {'system_prompt_path': 'prompts/qa/system/cz_s...  ...   \n",
       "13  {'system_prompt_path': 'prompts/qa/system/cz_s...  ...   \n",
       "14  {'system_prompt_path': 'prompts/qa/system/cz_s...  ...   \n",
       "15  {'system_prompt_path': 'prompts/qa/system/cz_s...  ...   \n",
       "16  {'system_prompt_path': 'prompts/qa/system/cz_s...  ...   \n",
       "17  {'system_prompt_path': 'prompts/qa/system/cz_s...  ...   \n",
       "18  {'system_prompt_path': 'prompts/qa/system/cz_s...  ...   \n",
       "19  {'system_prompt_path': 'prompts/qa/system/cz_s...  ...   \n",
       "20  {'system_prompt_path': 'prompts/qa/system/cz_s...  ...   \n",
       "21  {'system_prompt_path': 'prompts/qa/system/cz_s...  ...   \n",
       "22  {'system_prompt_path': 'prompts/qa/system/cz_s...  ...   \n",
       "23  {'system_prompt_path': 'prompts/qa/system/cz_s...  ...   \n",
       "24  {'system_prompt_path': 'prompts/qa/system/cz_s...  ...   \n",
       "25  {'system_prompt_path': 'prompts/qa/system/cz_s...  ...   \n",
       "26  {'system_prompt_path': 'prompts/qa/system/cz_s...  ...   \n",
       "27  {'system_prompt_path': 'prompts/qa/system/cz_s...  ...   \n",
       "28  {'system_prompt_path': 'prompts/qa/system/cz_s...  ...   \n",
       "29  {'system_prompt_path': 'prompts/qa/system/cz_s...  ...   \n",
       "30  {'system_prompt_path': 'prompts/qa/system/cz_s...  ...   \n",
       "31  {'system_prompt_path': 'prompts/qa/system/cz_s...  ...   \n",
       "32  {'system_prompt_path': 'prompts/qa/system/cz_s...  ...   \n",
       "33  {'system_prompt_path': 'prompts/qa/system/cz_s...  ...   \n",
       "34  {'system_prompt_path': 'prompts/qa/system/cz_s...  ...   \n",
       "35  {'system_prompt_path': 'prompts/qa/system/cz_s...  ...   \n",
       "36  {'system_prompt_path': 'prompts/qa/system/cz_s...  ...   \n",
       "37  {'system_prompt_path': 'prompts/qa/system/cz_s...  ...   \n",
       "38  {'system_prompt_path': 'prompts/qa/system/cz_s...  ...   \n",
       "39  {'system_prompt_path': 'prompts/qa/system/cz_s...  ...   \n",
       "40  {'system_prompt_path': 'prompts/qa/system/cz_s...  ...   \n",
       "41  {'system_prompt_path': 'prompts/qa/system/cz_s...  ...   \n",
       "42  {'system_prompt_path': 'prompts/qa/system/cz_s...  ...   \n",
       "43  {'system_prompt_path': 'prompts/qa/system/cz_s...  ...   \n",
       "44  {'system_prompt_path': 'prompts/qa/system/cz_s...  ...   \n",
       "45  {'system_prompt_path': 'prompts/qa/system/cz_s...  ...   \n",
       "46  {'system_prompt_path': 'prompts/qa/system/cz_s...  ...   \n",
       "47  {'system_prompt_path': 'prompts/qa/system/cz_s...  ...   \n",
       "\n",
       "   params.model_max_tokens params.dataset_size  \\\n",
       "0                     2048                None   \n",
       "1                     2048                None   \n",
       "2                     2048                None   \n",
       "3                     2048                None   \n",
       "4                     2048                None   \n",
       "5                     2048                None   \n",
       "6                     2048                None   \n",
       "7                     2048                None   \n",
       "8                     2048                None   \n",
       "9                     2048                None   \n",
       "10                    2048                None   \n",
       "11                    2048                None   \n",
       "12                    2048                None   \n",
       "13                    2048                None   \n",
       "14                    2048                None   \n",
       "15                    2048                None   \n",
       "16                    2048                None   \n",
       "17                    2048                None   \n",
       "18                    2048                None   \n",
       "19                    2048                None   \n",
       "20                    2048                None   \n",
       "21                    2048                None   \n",
       "22                    2048                None   \n",
       "23                    2048                None   \n",
       "24                    2048                None   \n",
       "25                    2048                None   \n",
       "26                    2048                None   \n",
       "27                    2048                None   \n",
       "28                    2048                None   \n",
       "29                    2048                None   \n",
       "30                    2048                None   \n",
       "31                    2048                None   \n",
       "32                    2048                None   \n",
       "33                    2048                None   \n",
       "34                    2048                None   \n",
       "35                    2048                None   \n",
       "36                    2048                None   \n",
       "37                    2048                None   \n",
       "38                    2048                None   \n",
       "39                    2048                None   \n",
       "40                    2048                None   \n",
       "41                    2048                None   \n",
       "42                    2048                None   \n",
       "43                    2048                None   \n",
       "44                    None                None   \n",
       "45                    None                None   \n",
       "46                    None                None   \n",
       "47                    None                None   \n",
       "\n",
       "                                       params.outputs params.model_type  \\\n",
       "0   [{'key': 'answer', 'transform': {'name': 'extr...        openrouter   \n",
       "1   [{'key': 'answer', 'transform': {'name': 'extr...        openrouter   \n",
       "2   [{'key': 'answer', 'transform': {'name': 'extr...        openrouter   \n",
       "3   [{'key': 'answer', 'transform': {'name': 'extr...        openrouter   \n",
       "4   [{'key': 'answer', 'transform': {'name': 'extr...        openrouter   \n",
       "5   [{'key': 'answer', 'transform': {'name': 'extr...        openrouter   \n",
       "6   [{'key': 'answer', 'transform': {'name': 'extr...        openrouter   \n",
       "7   [{'key': 'answer', 'transform': {'name': 'extr...        openrouter   \n",
       "8   [{'key': 'answer', 'transform': {'name': 'extr...        openrouter   \n",
       "9   [{'key': 'answer', 'transform': {'name': 'extr...        openrouter   \n",
       "10  [{'key': 'answer', 'transform': {'name': 'extr...        openrouter   \n",
       "11  [{'key': 'answer', 'transform': {'name': 'extr...        openrouter   \n",
       "12  [{'key': 'answer', 'transform': {'name': 'extr...        openrouter   \n",
       "13  [{'key': 'answer', 'transform': {'name': 'extr...        openrouter   \n",
       "14  [{'key': 'answer', 'transform': {'name': 'extr...        openrouter   \n",
       "15  [{'key': 'answer', 'transform': {'name': 'extr...        openrouter   \n",
       "16  [{'key': 'answer', 'transform': {'name': 'extr...        openrouter   \n",
       "17  [{'key': 'answer', 'transform': {'name': 'extr...        openrouter   \n",
       "18  [{'key': 'answer', 'transform': {'name': 'extr...        openrouter   \n",
       "19  [{'key': 'answer', 'transform': {'name': 'extr...        openrouter   \n",
       "20  [{'key': 'answer', 'transform': {'name': 'extr...        openrouter   \n",
       "21  [{'key': 'answer', 'transform': {'name': 'extr...        openrouter   \n",
       "22  [{'key': 'answer', 'transform': {'name': 'extr...        openrouter   \n",
       "23  [{'key': 'answer', 'transform': {'name': 'extr...        openrouter   \n",
       "24  [{'key': 'answer', 'transform': {'name': 'extr...        openrouter   \n",
       "25  [{'key': 'answer', 'transform': {'name': 'extr...        openrouter   \n",
       "26  [{'key': 'answer', 'transform': {'name': 'extr...        openrouter   \n",
       "27  [{'key': 'answer', 'transform': {'name': 'extr...        openrouter   \n",
       "28  [{'key': 'answer', 'transform': {'name': 'extr...        openrouter   \n",
       "29  [{'key': 'answer', 'transform': {'name': 'extr...        openrouter   \n",
       "30  [{'key': 'answer', 'transform': {'name': 'extr...        openrouter   \n",
       "31  [{'key': 'answer', 'transform': {'name': 'extr...        openrouter   \n",
       "32  [{'key': 'answer', 'transform': {'name': 'extr...        openrouter   \n",
       "33  [{'key': 'answer', 'transform': {'name': 'extr...        openrouter   \n",
       "34  [{'key': 'answer', 'transform': {'name': 'extr...        openrouter   \n",
       "35  [{'key': 'answer', 'transform': {'name': 'extr...        openrouter   \n",
       "36  [{'key': 'answer', 'transform': {'name': 'extr...        openrouter   \n",
       "37  [{'key': 'answer', 'transform': {'name': 'extr...        openrouter   \n",
       "38  [{'key': 'answer', 'transform': {'name': 'extr...        openrouter   \n",
       "39  [{'key': 'answer', 'transform': {'name': 'extr...        openrouter   \n",
       "40  [{'key': 'answer', 'transform': {'name': 'extr...        openrouter   \n",
       "41  [{'key': 'answer', 'transform': {'name': 'extr...        openrouter   \n",
       "42  [{'key': 'answer', 'transform': {'name': 'extr...        openrouter   \n",
       "43  [{'key': 'answer', 'transform': {'name': 'extr...        openrouter   \n",
       "44  [{'key': 'answer', 'transform': {'name': 'extr...        openrouter   \n",
       "45  [{'key': 'answer', 'transform': {'name': 'extr...        openrouter   \n",
       "46  [{'key': 'answer', 'transform': {'name': 'extr...        openrouter   \n",
       "47  [{'key': 'answer', 'transform': {'name': 'extr...        openrouter   \n",
       "\n",
       "   tags.mlflow.source.type                       tags.mlflow.source.name  \\\n",
       "0                    LOCAL  /Users/hynky/Projects/LLM-Eval/czeval/run.py   \n",
       "1                    LOCAL  /Users/hynky/Projects/LLM-Eval/czeval/run.py   \n",
       "2                    LOCAL  /Users/hynky/Projects/LLM-Eval/czeval/run.py   \n",
       "3                    LOCAL  /Users/hynky/Projects/LLM-Eval/czeval/run.py   \n",
       "4                    LOCAL  /Users/hynky/Projects/LLM-Eval/czeval/run.py   \n",
       "5                    LOCAL  /Users/hynky/Projects/LLM-Eval/czeval/run.py   \n",
       "6                    LOCAL  /Users/hynky/Projects/LLM-Eval/czeval/run.py   \n",
       "7                    LOCAL  /Users/hynky/Projects/LLM-Eval/czeval/run.py   \n",
       "8                    LOCAL  /Users/hynky/Projects/LLM-Eval/czeval/run.py   \n",
       "9                    LOCAL  /Users/hynky/Projects/LLM-Eval/czeval/run.py   \n",
       "10                   LOCAL  /Users/hynky/Projects/LLM-Eval/czeval/run.py   \n",
       "11                   LOCAL  /Users/hynky/Projects/LLM-Eval/czeval/run.py   \n",
       "12                   LOCAL  /Users/hynky/Projects/LLM-Eval/czeval/run.py   \n",
       "13                   LOCAL  /Users/hynky/Projects/LLM-Eval/czeval/run.py   \n",
       "14                   LOCAL  /Users/hynky/Projects/LLM-Eval/czeval/run.py   \n",
       "15                   LOCAL  /Users/hynky/Projects/LLM-Eval/czeval/run.py   \n",
       "16                   LOCAL  /Users/hynky/Projects/LLM-Eval/czeval/run.py   \n",
       "17                   LOCAL  /Users/hynky/Projects/LLM-Eval/czeval/run.py   \n",
       "18                   LOCAL  /Users/hynky/Projects/LLM-Eval/czeval/run.py   \n",
       "19                   LOCAL  /Users/hynky/Projects/LLM-Eval/czeval/run.py   \n",
       "20                   LOCAL  /Users/hynky/Projects/LLM-Eval/czeval/run.py   \n",
       "21                   LOCAL  /Users/hynky/Projects/LLM-Eval/czeval/run.py   \n",
       "22                   LOCAL  /Users/hynky/Projects/LLM-Eval/czeval/run.py   \n",
       "23                   LOCAL  /Users/hynky/Projects/LLM-Eval/czeval/run.py   \n",
       "24                   LOCAL  /Users/hynky/Projects/LLM-Eval/czeval/run.py   \n",
       "25                   LOCAL  /Users/hynky/Projects/LLM-Eval/czeval/run.py   \n",
       "26                   LOCAL  /Users/hynky/Projects/LLM-Eval/czeval/run.py   \n",
       "27                   LOCAL  /Users/hynky/Projects/LLM-Eval/czeval/run.py   \n",
       "28                   LOCAL  /Users/hynky/Projects/LLM-Eval/czeval/run.py   \n",
       "29                   LOCAL  /Users/hynky/Projects/LLM-Eval/czeval/run.py   \n",
       "30                   LOCAL  /Users/hynky/Projects/LLM-Eval/czeval/run.py   \n",
       "31                   LOCAL  /Users/hynky/Projects/LLM-Eval/czeval/run.py   \n",
       "32                   LOCAL  /Users/hynky/Projects/LLM-Eval/czeval/run.py   \n",
       "33                   LOCAL  /Users/hynky/Projects/LLM-Eval/czeval/run.py   \n",
       "34                   LOCAL  /Users/hynky/Projects/LLM-Eval/czeval/run.py   \n",
       "35                   LOCAL  /Users/hynky/Projects/LLM-Eval/czeval/run.py   \n",
       "36                   LOCAL  /Users/hynky/Projects/LLM-Eval/czeval/run.py   \n",
       "37                   LOCAL  /Users/hynky/Projects/LLM-Eval/czeval/run.py   \n",
       "38                   LOCAL  /Users/hynky/Projects/LLM-Eval/czeval/run.py   \n",
       "39                   LOCAL  /Users/hynky/Projects/LLM-Eval/czeval/run.py   \n",
       "40                   LOCAL  /Users/hynky/Projects/LLM-Eval/czeval/run.py   \n",
       "41                   LOCAL  /Users/hynky/Projects/LLM-Eval/czeval/run.py   \n",
       "42                   LOCAL  /Users/hynky/Projects/LLM-Eval/czeval/run.py   \n",
       "43                   LOCAL  /Users/hynky/Projects/LLM-Eval/czeval/run.py   \n",
       "44                   LOCAL  /Users/hynky/Projects/LLM-Eval/czeval/run.py   \n",
       "45                   LOCAL  /Users/hynky/Projects/LLM-Eval/czeval/run.py   \n",
       "46                   LOCAL  /Users/hynky/Projects/LLM-Eval/czeval/run.py   \n",
       "47                   LOCAL  /Users/hynky/Projects/LLM-Eval/czeval/run.py   \n",
       "\n",
       "   tags.mlflow.user                                tags.mlflow.runName  \\\n",
       "0             hynky  hynky-TSP-Verbal-anthropic/claude-3-sonnet-Q&A...   \n",
       "1             hynky  hynky-TSP-Verbal-mistralai/mistral-large-Q&A-2...   \n",
       "2             hynky  hynky-TSP-Culture-anthropic/claude-3-sonnet-Q&...   \n",
       "3             hynky  hynky-TSP-Culture-mistralai/mistral-large-Q&A-...   \n",
       "4             hynky  hynky-TSP-Critical-anthropic/claude-3-sonnet-Q...   \n",
       "5             hynky  hynky-TSP-Critical-mistralai/mistral-large-Q&A...   \n",
       "6             hynky  hynky-TSP-Verbal-google/gemma-7b-it-Q&A-2024-0...   \n",
       "7             hynky  hynky-TSP-Culture-google/gemma-7b-it-Q&A-2024-...   \n",
       "8             hynky  hynky-TSP-Critical-google/gemma-7b-it-Q&A-2024...   \n",
       "9             hynky  hynky-TSP-Analytical-anthropic/claude-3-sonnet...   \n",
       "10            hynky  hynky-TSP-Verbal-anthropic/claude-3-haiku-Q&A-...   \n",
       "11            hynky  hynky-TSP-Analytical-google/gemma-7b-it-Q&A-20...   \n",
       "12            hynky  hynky-TSP-Culture-anthropic/claude-3-haiku-Q&A...   \n",
       "13            hynky  hynky-TSP-Analytical-mistralai/mistral-large-Q...   \n",
       "14            hynky  hynky-TSP-Critical-anthropic/claude-3-haiku-Q&...   \n",
       "15            hynky  hynky-TSP-Analytical-anthropic/claude-3-haiku-...   \n",
       "16            hynky  hynky-TSP-Verbal-anthropic/claude-3-opus-Q&A-2...   \n",
       "17            hynky  hynky-TSP-Culture-anthropic/claude-3-opus-Q&A-...   \n",
       "18            hynky  hynky-TSP-Critical-anthropic/claude-3-opus-Q&A...   \n",
       "19            hynky  hynky-TSP-Analytical-anthropic/claude-3-opus-Q...   \n",
       "20            hynky  hynky-TSP-Verbal-openai/gpt-4-1106-preview-Q&A...   \n",
       "21            hynky  hynky-TSP-Culture-openai/gpt-4-1106-preview-Q&...   \n",
       "22            hynky  hynky-TSP-Critical-openai/gpt-4-1106-preview-Q...   \n",
       "23            hynky  hynky-TSP-Analytical-openai/gpt-4-1106-preview...   \n",
       "24            hynky  hynky-TSP-Verbal-mistralai/mistral-medium-Q&A-...   \n",
       "25            hynky  hynky-TSP-Culture-mistralai/mistral-medium-Q&A...   \n",
       "26            hynky  hynky-TSP-Critical-mistralai/mistral-medium-Q&...   \n",
       "27            hynky  hynky-TSP-Analytical-mistralai/mistral-medium-...   \n",
       "28            hynky  hynky-TSP-Verbal-mistralai/mixtral-8x7b-instru...   \n",
       "29            hynky  hynky-TSP-Culture-mistralai/mixtral-8x7b-instr...   \n",
       "30            hynky  hynky-TSP-Critical-mistralai/mixtral-8x7b-inst...   \n",
       "31            hynky  hynky-TSP-Analytical-mistralai/mixtral-8x7b-in...   \n",
       "32            hynky  hynky-TSP-Verbal-openai/gpt-3.5-turbo-Q&A-2024...   \n",
       "33            hynky  hynky-TSP-Culture-openai/gpt-3.5-turbo-Q&A-202...   \n",
       "34            hynky  hynky-TSP-Critical-openai/gpt-3.5-turbo-Q&A-20...   \n",
       "35            hynky  hynky-TSP-Analytical-openai/gpt-3.5-turbo-Q&A-...   \n",
       "36            hynky  hynky-TSP-Verbal-google/gemini-pro-Q&A-2024-03...   \n",
       "37            hynky  hynky-TSP-Culture-google/gemini-pro-Q&A-2024-0...   \n",
       "38            hynky  hynky-TSP-Critical-google/gemini-pro-Q&A-2024-...   \n",
       "39            hynky  hynky-TSP-Analytical-google/gemini-pro-Q&A-202...   \n",
       "40            hynky  hynky-TSP-Verbal-cohere/command-r-Q&A-2024-03-...   \n",
       "41            hynky  hynky-TSP-Culture-cohere/command-r-Q&A-2024-03...   \n",
       "42            hynky  hynky-TSP-Critical-cohere/command-r-Q&A-2024-0...   \n",
       "43            hynky  hynky-TSP-Analytical-cohere/command-r-Q&A-2024...   \n",
       "44    hynekkdylicek  hynky-TSP-Culture-anthropic/claude-2.1-Q&A-202...   \n",
       "45    hynekkdylicek  hynky-TSP-Verbal-anthropic/claude-2.1-Q&A-2024...   \n",
       "46    hynekkdylicek  hynky-TSP-Critical-anthropic/claude-2.1-Q&A-20...   \n",
       "47    hynekkdylicek  hynky-TSP-Analytical-anthropic/claude-2.1-Q&A-...   \n",
       "\n",
       "               tags.mlflow.source.git.commit  \\\n",
       "0   f762d328b9575483962ec75da6b5da98a466ab66   \n",
       "1   f762d328b9575483962ec75da6b5da98a466ab66   \n",
       "2   f762d328b9575483962ec75da6b5da98a466ab66   \n",
       "3   f762d328b9575483962ec75da6b5da98a466ab66   \n",
       "4   f762d328b9575483962ec75da6b5da98a466ab66   \n",
       "5   f762d328b9575483962ec75da6b5da98a466ab66   \n",
       "6   f762d328b9575483962ec75da6b5da98a466ab66   \n",
       "7   f762d328b9575483962ec75da6b5da98a466ab66   \n",
       "8   f762d328b9575483962ec75da6b5da98a466ab66   \n",
       "9   f762d328b9575483962ec75da6b5da98a466ab66   \n",
       "10  f762d328b9575483962ec75da6b5da98a466ab66   \n",
       "11  f762d328b9575483962ec75da6b5da98a466ab66   \n",
       "12  f762d328b9575483962ec75da6b5da98a466ab66   \n",
       "13  f762d328b9575483962ec75da6b5da98a466ab66   \n",
       "14  f762d328b9575483962ec75da6b5da98a466ab66   \n",
       "15  f762d328b9575483962ec75da6b5da98a466ab66   \n",
       "16  f762d328b9575483962ec75da6b5da98a466ab66   \n",
       "17  f762d328b9575483962ec75da6b5da98a466ab66   \n",
       "18  f762d328b9575483962ec75da6b5da98a466ab66   \n",
       "19  f762d328b9575483962ec75da6b5da98a466ab66   \n",
       "20  f762d328b9575483962ec75da6b5da98a466ab66   \n",
       "21  f762d328b9575483962ec75da6b5da98a466ab66   \n",
       "22  f762d328b9575483962ec75da6b5da98a466ab66   \n",
       "23  f762d328b9575483962ec75da6b5da98a466ab66   \n",
       "24  f762d328b9575483962ec75da6b5da98a466ab66   \n",
       "25  f762d328b9575483962ec75da6b5da98a466ab66   \n",
       "26  f762d328b9575483962ec75da6b5da98a466ab66   \n",
       "27  f762d328b9575483962ec75da6b5da98a466ab66   \n",
       "28  f762d328b9575483962ec75da6b5da98a466ab66   \n",
       "29  f762d328b9575483962ec75da6b5da98a466ab66   \n",
       "30  f762d328b9575483962ec75da6b5da98a466ab66   \n",
       "31  f762d328b9575483962ec75da6b5da98a466ab66   \n",
       "32  f762d328b9575483962ec75da6b5da98a466ab66   \n",
       "33  f762d328b9575483962ec75da6b5da98a466ab66   \n",
       "34  f762d328b9575483962ec75da6b5da98a466ab66   \n",
       "35  f762d328b9575483962ec75da6b5da98a466ab66   \n",
       "36  f762d328b9575483962ec75da6b5da98a466ab66   \n",
       "37  f762d328b9575483962ec75da6b5da98a466ab66   \n",
       "38  f762d328b9575483962ec75da6b5da98a466ab66   \n",
       "39  f762d328b9575483962ec75da6b5da98a466ab66   \n",
       "40  f762d328b9575483962ec75da6b5da98a466ab66   \n",
       "41  f762d328b9575483962ec75da6b5da98a466ab66   \n",
       "42  f762d328b9575483962ec75da6b5da98a466ab66   \n",
       "43  f762d328b9575483962ec75da6b5da98a466ab66   \n",
       "44  6ec2624cf5385595ec6f00cc98c4c66302918cd4   \n",
       "45  6ec2624cf5385595ec6f00cc98c4c66302918cd4   \n",
       "46  6ec2624cf5385595ec6f00cc98c4c66302918cd4   \n",
       "47  6ec2624cf5385595ec6f00cc98c4c66302918cd4   \n",
       "\n",
       "                    tags.mlflow.loggedArtifacts  \n",
       "0   [{\"path\": \"dataset.json\", \"type\": \"table\"}]  \n",
       "1   [{\"path\": \"dataset.json\", \"type\": \"table\"}]  \n",
       "2   [{\"path\": \"dataset.json\", \"type\": \"table\"}]  \n",
       "3   [{\"path\": \"dataset.json\", \"type\": \"table\"}]  \n",
       "4   [{\"path\": \"dataset.json\", \"type\": \"table\"}]  \n",
       "5   [{\"path\": \"dataset.json\", \"type\": \"table\"}]  \n",
       "6   [{\"path\": \"dataset.json\", \"type\": \"table\"}]  \n",
       "7   [{\"path\": \"dataset.json\", \"type\": \"table\"}]  \n",
       "8   [{\"path\": \"dataset.json\", \"type\": \"table\"}]  \n",
       "9   [{\"path\": \"dataset.json\", \"type\": \"table\"}]  \n",
       "10  [{\"path\": \"dataset.json\", \"type\": \"table\"}]  \n",
       "11  [{\"path\": \"dataset.json\", \"type\": \"table\"}]  \n",
       "12  [{\"path\": \"dataset.json\", \"type\": \"table\"}]  \n",
       "13  [{\"path\": \"dataset.json\", \"type\": \"table\"}]  \n",
       "14  [{\"path\": \"dataset.json\", \"type\": \"table\"}]  \n",
       "15  [{\"path\": \"dataset.json\", \"type\": \"table\"}]  \n",
       "16  [{\"path\": \"dataset.json\", \"type\": \"table\"}]  \n",
       "17  [{\"path\": \"dataset.json\", \"type\": \"table\"}]  \n",
       "18  [{\"path\": \"dataset.json\", \"type\": \"table\"}]  \n",
       "19  [{\"path\": \"dataset.json\", \"type\": \"table\"}]  \n",
       "20  [{\"path\": \"dataset.json\", \"type\": \"table\"}]  \n",
       "21  [{\"path\": \"dataset.json\", \"type\": \"table\"}]  \n",
       "22  [{\"path\": \"dataset.json\", \"type\": \"table\"}]  \n",
       "23  [{\"path\": \"dataset.json\", \"type\": \"table\"}]  \n",
       "24  [{\"path\": \"dataset.json\", \"type\": \"table\"}]  \n",
       "25  [{\"path\": \"dataset.json\", \"type\": \"table\"}]  \n",
       "26  [{\"path\": \"dataset.json\", \"type\": \"table\"}]  \n",
       "27  [{\"path\": \"dataset.json\", \"type\": \"table\"}]  \n",
       "28  [{\"path\": \"dataset.json\", \"type\": \"table\"}]  \n",
       "29  [{\"path\": \"dataset.json\", \"type\": \"table\"}]  \n",
       "30  [{\"path\": \"dataset.json\", \"type\": \"table\"}]  \n",
       "31  [{\"path\": \"dataset.json\", \"type\": \"table\"}]  \n",
       "32  [{\"path\": \"dataset.json\", \"type\": \"table\"}]  \n",
       "33  [{\"path\": \"dataset.json\", \"type\": \"table\"}]  \n",
       "34  [{\"path\": \"dataset.json\", \"type\": \"table\"}]  \n",
       "35  [{\"path\": \"dataset.json\", \"type\": \"table\"}]  \n",
       "36  [{\"path\": \"dataset.json\", \"type\": \"table\"}]  \n",
       "37  [{\"path\": \"dataset.json\", \"type\": \"table\"}]  \n",
       "38  [{\"path\": \"dataset.json\", \"type\": \"table\"}]  \n",
       "39  [{\"path\": \"dataset.json\", \"type\": \"table\"}]  \n",
       "40  [{\"path\": \"dataset.json\", \"type\": \"table\"}]  \n",
       "41  [{\"path\": \"dataset.json\", \"type\": \"table\"}]  \n",
       "42  [{\"path\": \"dataset.json\", \"type\": \"table\"}]  \n",
       "43  [{\"path\": \"dataset.json\", \"type\": \"table\"}]  \n",
       "44  [{\"path\": \"dataset.json\", \"type\": \"table\"}]  \n",
       "45  [{\"path\": \"dataset.json\", \"type\": \"table\"}]  \n",
       "46  [{\"path\": \"dataset.json\", \"type\": \"table\"}]  \n",
       "47  [{\"path\": \"dataset.json\", \"type\": \"table\"}]  \n",
       "\n",
       "[48 rows x 25 columns]"
      ]
     },
     "execution_count": 3,
     "metadata": {},
     "output_type": "execute_result"
    }
   ],
   "source": [
    "TSP_runs"
   ]
  },
  {
   "cell_type": "code",
   "execution_count": 4,
   "metadata": {},
   "outputs": [
    {
     "ename": "KeyError",
     "evalue": "'params.split'",
     "output_type": "error",
     "traceback": [
      "\u001b[0;31m---------------------------------------------------------------------------\u001b[0m",
      "\u001b[0;31mKeyError\u001b[0m                                  Traceback (most recent call last)",
      "File \u001b[0;32m~/Projects/LLM-Eval/.venv/lib/python3.12/site-packages/pandas/core/indexes/base.py:3802\u001b[0m, in \u001b[0;36mIndex.get_loc\u001b[0;34m(self, key)\u001b[0m\n\u001b[1;32m   3801\u001b[0m \u001b[38;5;28;01mtry\u001b[39;00m:\n\u001b[0;32m-> 3802\u001b[0m     \u001b[38;5;28;01mreturn\u001b[39;00m \u001b[38;5;28;43mself\u001b[39;49m\u001b[38;5;241;43m.\u001b[39;49m\u001b[43m_engine\u001b[49m\u001b[38;5;241;43m.\u001b[39;49m\u001b[43mget_loc\u001b[49m\u001b[43m(\u001b[49m\u001b[43mcasted_key\u001b[49m\u001b[43m)\u001b[49m\n\u001b[1;32m   3803\u001b[0m \u001b[38;5;28;01mexcept\u001b[39;00m \u001b[38;5;167;01mKeyError\u001b[39;00m \u001b[38;5;28;01mas\u001b[39;00m err:\n",
      "File \u001b[0;32mindex.pyx:153\u001b[0m, in \u001b[0;36mpandas._libs.index.IndexEngine.get_loc\u001b[0;34m()\u001b[0m\n",
      "File \u001b[0;32mindex.pyx:182\u001b[0m, in \u001b[0;36mpandas._libs.index.IndexEngine.get_loc\u001b[0;34m()\u001b[0m\n",
      "File \u001b[0;32mpandas/_libs/hashtable_class_helper.pxi:7081\u001b[0m, in \u001b[0;36mpandas._libs.hashtable.PyObjectHashTable.get_item\u001b[0;34m()\u001b[0m\n",
      "File \u001b[0;32mpandas/_libs/hashtable_class_helper.pxi:7089\u001b[0m, in \u001b[0;36mpandas._libs.hashtable.PyObjectHashTable.get_item\u001b[0;34m()\u001b[0m\n",
      "\u001b[0;31mKeyError\u001b[0m: 'params.split'",
      "\nThe above exception was the direct cause of the following exception:\n",
      "\u001b[0;31mKeyError\u001b[0m                                  Traceback (most recent call last)",
      "Cell \u001b[0;32mIn[4], line 1\u001b[0m\n\u001b[0;32m----> 1\u001b[0m \u001b[43mTSP_runs\u001b[49m\u001b[43m[\u001b[49m\u001b[43mTSP_runs\u001b[49m\u001b[43m[\u001b[49m\u001b[38;5;124;43m\"\u001b[39;49m\u001b[38;5;124;43mparams.model_name\u001b[39;49m\u001b[38;5;124;43m\"\u001b[39;49m\u001b[43m]\u001b[49m\u001b[43m \u001b[49m\u001b[38;5;241;43m==\u001b[39;49m\u001b[43m \u001b[49m\u001b[38;5;124;43m\"\u001b[39;49m\u001b[38;5;124;43manthropic/claude-2.1\u001b[39;49m\u001b[38;5;124;43m\"\u001b[39;49m\u001b[43m]\u001b[49m\u001b[43m[\u001b[49m\u001b[38;5;124;43m\"\u001b[39;49m\u001b[38;5;124;43mparams.split\u001b[39;49m\u001b[38;5;124;43m\"\u001b[39;49m\u001b[43m]\u001b[49m\n",
      "File \u001b[0;32m~/Projects/LLM-Eval/.venv/lib/python3.12/site-packages/pandas/core/frame.py:4090\u001b[0m, in \u001b[0;36mDataFrame.__getitem__\u001b[0;34m(self, key)\u001b[0m\n\u001b[1;32m   4088\u001b[0m \u001b[38;5;28;01mif\u001b[39;00m \u001b[38;5;28mself\u001b[39m\u001b[38;5;241m.\u001b[39mcolumns\u001b[38;5;241m.\u001b[39mnlevels \u001b[38;5;241m>\u001b[39m \u001b[38;5;241m1\u001b[39m:\n\u001b[1;32m   4089\u001b[0m     \u001b[38;5;28;01mreturn\u001b[39;00m \u001b[38;5;28mself\u001b[39m\u001b[38;5;241m.\u001b[39m_getitem_multilevel(key)\n\u001b[0;32m-> 4090\u001b[0m indexer \u001b[38;5;241m=\u001b[39m \u001b[38;5;28;43mself\u001b[39;49m\u001b[38;5;241;43m.\u001b[39;49m\u001b[43mcolumns\u001b[49m\u001b[38;5;241;43m.\u001b[39;49m\u001b[43mget_loc\u001b[49m\u001b[43m(\u001b[49m\u001b[43mkey\u001b[49m\u001b[43m)\u001b[49m\n\u001b[1;32m   4091\u001b[0m \u001b[38;5;28;01mif\u001b[39;00m is_integer(indexer):\n\u001b[1;32m   4092\u001b[0m     indexer \u001b[38;5;241m=\u001b[39m [indexer]\n",
      "File \u001b[0;32m~/Projects/LLM-Eval/.venv/lib/python3.12/site-packages/pandas/core/indexes/base.py:3809\u001b[0m, in \u001b[0;36mIndex.get_loc\u001b[0;34m(self, key)\u001b[0m\n\u001b[1;32m   3804\u001b[0m     \u001b[38;5;28;01mif\u001b[39;00m \u001b[38;5;28misinstance\u001b[39m(casted_key, \u001b[38;5;28mslice\u001b[39m) \u001b[38;5;129;01mor\u001b[39;00m (\n\u001b[1;32m   3805\u001b[0m         \u001b[38;5;28misinstance\u001b[39m(casted_key, abc\u001b[38;5;241m.\u001b[39mIterable)\n\u001b[1;32m   3806\u001b[0m         \u001b[38;5;129;01mand\u001b[39;00m \u001b[38;5;28many\u001b[39m(\u001b[38;5;28misinstance\u001b[39m(x, \u001b[38;5;28mslice\u001b[39m) \u001b[38;5;28;01mfor\u001b[39;00m x \u001b[38;5;129;01min\u001b[39;00m casted_key)\n\u001b[1;32m   3807\u001b[0m     ):\n\u001b[1;32m   3808\u001b[0m         \u001b[38;5;28;01mraise\u001b[39;00m InvalidIndexError(key)\n\u001b[0;32m-> 3809\u001b[0m     \u001b[38;5;28;01mraise\u001b[39;00m \u001b[38;5;167;01mKeyError\u001b[39;00m(key) \u001b[38;5;28;01mfrom\u001b[39;00m \u001b[38;5;21;01merr\u001b[39;00m\n\u001b[1;32m   3810\u001b[0m \u001b[38;5;28;01mexcept\u001b[39;00m \u001b[38;5;167;01mTypeError\u001b[39;00m:\n\u001b[1;32m   3811\u001b[0m     \u001b[38;5;66;03m# If we have a listlike key, _check_indexing_error will raise\u001b[39;00m\n\u001b[1;32m   3812\u001b[0m     \u001b[38;5;66;03m#  InvalidIndexError. Otherwise we fall through and re-raise\u001b[39;00m\n\u001b[1;32m   3813\u001b[0m     \u001b[38;5;66;03m#  the TypeError.\u001b[39;00m\n\u001b[1;32m   3814\u001b[0m     \u001b[38;5;28mself\u001b[39m\u001b[38;5;241m.\u001b[39m_check_indexing_error(key)\n",
      "\u001b[0;31mKeyError\u001b[0m: 'params.split'"
     ]
    }
   ],
   "source": [
    "TSP_runs[TSP_runs[\"params.model_name\"] == \"anthropic/claude-2.1\"][\"params.split\"]\n"
   ]
  },
  {
   "cell_type": "code",
   "execution_count": 15,
   "metadata": {},
   "outputs": [
    {
     "data": {
      "text/plain": [
       "0         Verbal\n",
       "1         Verbal\n",
       "2        Culture\n",
       "3        Culture\n",
       "4       Critical\n",
       "5       Critical\n",
       "6         Verbal\n",
       "7        Culture\n",
       "8       Critical\n",
       "9     Analytical\n",
       "10        Verbal\n",
       "11    Analytical\n",
       "12       Culture\n",
       "13    Analytical\n",
       "14      Critical\n",
       "15    Analytical\n",
       "16        Verbal\n",
       "17       Culture\n",
       "18      Critical\n",
       "19    Analytical\n",
       "20        Verbal\n",
       "21       Culture\n",
       "22      Critical\n",
       "23    Analytical\n",
       "24        Verbal\n",
       "25       Culture\n",
       "26      Critical\n",
       "27    Analytical\n",
       "28        Verbal\n",
       "29       Culture\n",
       "30      Critical\n",
       "31    Analytical\n",
       "32        Verbal\n",
       "33       Culture\n",
       "34      Critical\n",
       "35    Analytical\n",
       "36        Verbal\n",
       "37       Culture\n",
       "38      Critical\n",
       "39    Analytical\n",
       "40        Verbal\n",
       "41       Culture\n",
       "42      Critical\n",
       "43    Analytical\n",
       "44       Culture\n",
       "45        Verbal\n",
       "46      Critical\n",
       "47    Analytical\n",
       "Name: params.dataset_split, dtype: object"
      ]
     },
     "execution_count": 15,
     "metadata": {},
     "output_type": "execute_result"
    }
   ],
   "source": [
    "TSP_runs[\"params.dataset_split\"]"
   ]
  },
  {
   "cell_type": "code",
   "execution_count": 17,
   "metadata": {},
   "outputs": [],
   "source": [
    "## General table\n",
    "res = TSP_runs[[\"metrics.accuracy\", \"params.dataset_split\", \"params.model_name\"]].pivot_table(index=\"params.model_name\", columns=\"params.dataset_split\", values=\"metrics.accuracy\")\n",
    "\n",
    "# Rename the params.split to task\n",
    "res = res.rename(columns={\"Analytical\": \"analytical\", \"Critical\": \"critical\", \"Culture\": \"culture\", \"Verbal\": \"verbal\"})\n",
    "\n",
    "# Join with Klokan\n",
    "klokan = klokan_runs[[\"metrics.accuracy\", \"params.model_name\"]].pivot_table(index=\"params.model_name\", values=\"metrics.accuracy\")\n",
    "klokan.rename(columns={\"metrics.accuracy\": \"klokan\"}, inplace=True)\n",
    "\n",
    "joined = res.join(klokan)\n",
    "# Rename index params.models_name to model_name\n",
    "joined.index.rename('model_name', inplace=True)\n",
    "\n"
   ]
  },
  {
   "cell_type": "code",
   "execution_count": 18,
   "metadata": {},
   "outputs": [
    {
     "data": {
      "text/html": [
       "<div>\n",
       "<style scoped>\n",
       "    .dataframe tbody tr th:only-of-type {\n",
       "        vertical-align: middle;\n",
       "    }\n",
       "\n",
       "    .dataframe tbody tr th {\n",
       "        vertical-align: top;\n",
       "    }\n",
       "\n",
       "    .dataframe thead th {\n",
       "        text-align: right;\n",
       "    }\n",
       "</style>\n",
       "<table border=\"1\" class=\"dataframe\">\n",
       "  <thead>\n",
       "    <tr style=\"text-align: right;\">\n",
       "      <th></th>\n",
       "      <th>analytical</th>\n",
       "      <th>critical</th>\n",
       "      <th>culture</th>\n",
       "      <th>verbal</th>\n",
       "      <th>klokan</th>\n",
       "    </tr>\n",
       "    <tr>\n",
       "      <th>model_name</th>\n",
       "      <th></th>\n",
       "      <th></th>\n",
       "      <th></th>\n",
       "      <th></th>\n",
       "      <th></th>\n",
       "    </tr>\n",
       "  </thead>\n",
       "  <tbody>\n",
       "    <tr>\n",
       "      <th>anthropic/claude-2.1</th>\n",
       "      <td>0.380403</td>\n",
       "      <td>0.644991</td>\n",
       "      <td>0.798177</td>\n",
       "      <td>0.633634</td>\n",
       "      <td>0.382388</td>\n",
       "    </tr>\n",
       "    <tr>\n",
       "      <th>anthropic/claude-3-haiku</th>\n",
       "      <td>0.332373</td>\n",
       "      <td>0.604569</td>\n",
       "      <td>0.816406</td>\n",
       "      <td>0.624625</td>\n",
       "      <td>0.322263</td>\n",
       "    </tr>\n",
       "    <tr>\n",
       "      <th>anthropic/claude-3-opus</th>\n",
       "      <td>0.472622</td>\n",
       "      <td>0.764499</td>\n",
       "      <td>0.924479</td>\n",
       "      <td>0.801802</td>\n",
       "      <td>0.578106</td>\n",
       "    </tr>\n",
       "    <tr>\n",
       "      <th>anthropic/claude-3-sonnet</th>\n",
       "      <td>0.378482</td>\n",
       "      <td>0.688928</td>\n",
       "      <td>0.834635</td>\n",
       "      <td>0.612613</td>\n",
       "      <td>0.442804</td>\n",
       "    </tr>\n",
       "    <tr>\n",
       "      <th>cohere/command-r</th>\n",
       "      <td>0.278578</td>\n",
       "      <td>0.534271</td>\n",
       "      <td>0.704427</td>\n",
       "      <td>0.444444</td>\n",
       "      <td>0.248462</td>\n",
       "    </tr>\n",
       "    <tr>\n",
       "      <th>google/gemini-pro</th>\n",
       "      <td>0.289145</td>\n",
       "      <td>0.609842</td>\n",
       "      <td>0.807292</td>\n",
       "      <td>0.609610</td>\n",
       "      <td>0.286593</td>\n",
       "    </tr>\n",
       "    <tr>\n",
       "      <th>google/gemma-7b-it</th>\n",
       "      <td>0.221902</td>\n",
       "      <td>0.279438</td>\n",
       "      <td>0.229167</td>\n",
       "      <td>0.228228</td>\n",
       "      <td>0.169742</td>\n",
       "    </tr>\n",
       "    <tr>\n",
       "      <th>mistralai/mistral-large</th>\n",
       "      <td>0.385207</td>\n",
       "      <td>0.667838</td>\n",
       "      <td>0.859375</td>\n",
       "      <td>0.627628</td>\n",
       "      <td>0.410824</td>\n",
       "    </tr>\n",
       "    <tr>\n",
       "      <th>mistralai/mistral-medium</th>\n",
       "      <td>0.312200</td>\n",
       "      <td>0.595782</td>\n",
       "      <td>0.773438</td>\n",
       "      <td>0.504505</td>\n",
       "      <td>0.293973</td>\n",
       "    </tr>\n",
       "    <tr>\n",
       "      <th>mistralai/mixtral-8x7b-instruct</th>\n",
       "      <td>0.252642</td>\n",
       "      <td>0.511424</td>\n",
       "      <td>0.712240</td>\n",
       "      <td>0.435435</td>\n",
       "      <td>0.266913</td>\n",
       "    </tr>\n",
       "    <tr>\n",
       "      <th>openai/gpt-3.5-turbo</th>\n",
       "      <td>0.304515</td>\n",
       "      <td>0.499121</td>\n",
       "      <td>0.721354</td>\n",
       "      <td>0.447447</td>\n",
       "      <td>0.324723</td>\n",
       "    </tr>\n",
       "    <tr>\n",
       "      <th>openai/gpt-4-1106-preview</th>\n",
       "      <td>0.515850</td>\n",
       "      <td>0.706503</td>\n",
       "      <td>0.902344</td>\n",
       "      <td>0.726727</td>\n",
       "      <td>0.580566</td>\n",
       "    </tr>\n",
       "  </tbody>\n",
       "</table>\n",
       "</div>"
      ],
      "text/plain": [
       "                                 analytical  critical   culture    verbal  \\\n",
       "model_name                                                                  \n",
       "anthropic/claude-2.1               0.380403  0.644991  0.798177  0.633634   \n",
       "anthropic/claude-3-haiku           0.332373  0.604569  0.816406  0.624625   \n",
       "anthropic/claude-3-opus            0.472622  0.764499  0.924479  0.801802   \n",
       "anthropic/claude-3-sonnet          0.378482  0.688928  0.834635  0.612613   \n",
       "cohere/command-r                   0.278578  0.534271  0.704427  0.444444   \n",
       "google/gemini-pro                  0.289145  0.609842  0.807292  0.609610   \n",
       "google/gemma-7b-it                 0.221902  0.279438  0.229167  0.228228   \n",
       "mistralai/mistral-large            0.385207  0.667838  0.859375  0.627628   \n",
       "mistralai/mistral-medium           0.312200  0.595782  0.773438  0.504505   \n",
       "mistralai/mixtral-8x7b-instruct    0.252642  0.511424  0.712240  0.435435   \n",
       "openai/gpt-3.5-turbo               0.304515  0.499121  0.721354  0.447447   \n",
       "openai/gpt-4-1106-preview          0.515850  0.706503  0.902344  0.726727   \n",
       "\n",
       "                                   klokan  \n",
       "model_name                                 \n",
       "anthropic/claude-2.1             0.382388  \n",
       "anthropic/claude-3-haiku         0.322263  \n",
       "anthropic/claude-3-opus          0.578106  \n",
       "anthropic/claude-3-sonnet        0.442804  \n",
       "cohere/command-r                 0.248462  \n",
       "google/gemini-pro                0.286593  \n",
       "google/gemma-7b-it               0.169742  \n",
       "mistralai/mistral-large          0.410824  \n",
       "mistralai/mistral-medium         0.293973  \n",
       "mistralai/mixtral-8x7b-instruct  0.266913  \n",
       "openai/gpt-3.5-turbo             0.324723  \n",
       "openai/gpt-4-1106-preview        0.580566  "
      ]
     },
     "execution_count": 18,
     "metadata": {},
     "output_type": "execute_result"
    }
   ],
   "source": [
    "joined"
   ]
  },
  {
   "cell_type": "code",
   "execution_count": 19,
   "metadata": {},
   "outputs": [],
   "source": [
    "\n",
    "import os\n",
    "\n",
    "# Create the directory if it does not exist\n",
    "if not os.path.exists(\"leaderboard\"):\n",
    "    os.makedirs(\"leaderboard\")\n",
    "\n",
    "\n",
    "joined.to_csv(\"leaderboard/table.csv\")"
   ]
  },
  {
   "cell_type": "code",
   "execution_count": 43,
   "metadata": {},
   "outputs": [],
   "source": [
    "\n",
    "import pandas as pd\n",
    "\n",
    "# Klokan spider preparation\n",
    "\n",
    "# Function to process each artifact and calculate accuracy\n",
    "def process_artifact(artifact_info):\n",
    "    artifact_info = artifact_info.replace(\"file:\", \"\")\n",
    "    try:\n",
    "        dataset_path = Path(artifact_info)\n",
    "        if (dataset_path / \"dataset.json\").exists():\n",
    "            with open(dataset_path / \"dataset.json\", \"r\") as f:\n",
    "                x = pd.read_json(f, lines=True)\n",
    "        elif (dataset_path / \"dataset.csv\").exists():\n",
    "            x = pd.read_json(dataset_path / \"dataset.csv\", lines=True)\n",
    "        else:\n",
    "            print(f\"Neither dataset.json nor dataset.csv could be found in {dataset_path}\")\n",
    "            raise FileNotFoundError(\"Neither dataset.json nor dataset.csv could be found.\")\n",
    "    except:\n",
    "        return None\n",
    "    # Parse into a real DataFrame\n",
    "    real_df = pd.DataFrame.from_records(x[\"data\"][0], columns=x[\"columns\"][0])\n",
    "\n",
    "    # Add a column indicating whether the answer was correct\n",
    "    real_df[\"is_correct\"] = real_df.apply(lambda row: row[\"answer\"] == row[\"correct_answer\"], axis=1)\n",
    "\n",
    "    # Group by 'category' and calculate mean accuracy\n",
    "    category_accuracy = real_df.groupby(\"category\")[\"is_correct\"].mean()\n",
    "\n",
    "    return category_accuracy\n",
    "\n",
    "# Process each artifact and store the results\n",
    "all_category_accuracies = [(process_artifact(artifact[1][\"artifact_uri\"]), artifact[1].get(\"params.model_name\")) for artifact in klokan_runs.iterrows()]\n",
    "combined_accuracies = pd.concat([x[0].rename(x[1]) for x in all_category_accuracies], axis=1).T\n",
    "df = combined_accuracies\n",
    "df = df* 100\n",
    "\n",
    "# Rename the columns\n",
    "categories = [\n",
    "    \"Elementary 2-3\",\n",
    "    \"Elementary 4-5\",\n",
    "    \"Elementary 6-7\",\n",
    "    \"Elementary 8-9\",\n",
    "    \"High School 1-2\",\n",
    "    \"High School 3-4\"\n",
    "]\n",
    "\n",
    "df.columns = categories\n",
    "df.sort_index(inplace=True)\n",
    "\n",
    "df.to_csv(\"leaderboard/klokan.csv\")\n"
   ]
  },
  {
   "cell_type": "code",
   "execution_count": 41,
   "metadata": {},
   "outputs": [
    {
     "name": "stdout",
     "output_type": "stream",
     "text": [
      "Requirement already satisfied: plotly in /Users/hynky/Projects/LLM-Eval/.venv/lib/python3.12/site-packages (5.20.0)\n",
      "Collecting nbformat\n",
      "  Downloading nbformat-5.10.3-py3-none-any.whl.metadata (3.6 kB)\n",
      "Requirement already satisfied: tenacity>=6.2.0 in /Users/hynky/Projects/LLM-Eval/.venv/lib/python3.12/site-packages (from plotly) (8.2.3)\n",
      "Requirement already satisfied: packaging in /Users/hynky/Projects/LLM-Eval/.venv/lib/python3.12/site-packages (from plotly) (23.2)\n",
      "Collecting fastjsonschema (from nbformat)\n",
      "  Using cached fastjsonschema-2.19.1-py3-none-any.whl.metadata (2.1 kB)\n",
      "Collecting jsonschema>=2.6 (from nbformat)\n",
      "  Using cached jsonschema-4.21.1-py3-none-any.whl.metadata (7.8 kB)\n",
      "Requirement already satisfied: jupyter-core in /Users/hynky/Projects/LLM-Eval/.venv/lib/python3.12/site-packages (from nbformat) (5.7.1)\n",
      "Requirement already satisfied: traitlets>=5.1 in /Users/hynky/Projects/LLM-Eval/.venv/lib/python3.12/site-packages (from nbformat) (5.14.1)\n",
      "Requirement already satisfied: attrs>=22.2.0 in /Users/hynky/Projects/LLM-Eval/.venv/lib/python3.12/site-packages (from jsonschema>=2.6->nbformat) (23.2.0)\n",
      "Collecting jsonschema-specifications>=2023.03.6 (from jsonschema>=2.6->nbformat)\n",
      "  Using cached jsonschema_specifications-2023.12.1-py3-none-any.whl.metadata (3.0 kB)\n",
      "Collecting referencing>=0.28.4 (from jsonschema>=2.6->nbformat)\n",
      "  Downloading referencing-0.34.0-py3-none-any.whl.metadata (2.8 kB)\n",
      "Collecting rpds-py>=0.7.1 (from jsonschema>=2.6->nbformat)\n",
      "  Using cached rpds_py-0.18.0-cp312-cp312-macosx_11_0_arm64.whl.metadata (4.1 kB)\n",
      "Requirement already satisfied: platformdirs>=2.5 in /Users/hynky/Projects/LLM-Eval/.venv/lib/python3.12/site-packages (from jupyter-core->nbformat) (4.2.0)\n",
      "Downloading nbformat-5.10.3-py3-none-any.whl (78 kB)\n",
      "\u001b[2K   \u001b[90m━━━━━━━━━━━━━━━━━━━━━━━━━━━━━━━━━━━━━━━━\u001b[0m \u001b[32m78.4/78.4 kB\u001b[0m \u001b[31m1.8 MB/s\u001b[0m eta \u001b[36m0:00:00\u001b[0ma \u001b[36m0:00:01\u001b[0m\n",
      "\u001b[?25hUsing cached jsonschema-4.21.1-py3-none-any.whl (85 kB)\n",
      "Using cached fastjsonschema-2.19.1-py3-none-any.whl (23 kB)\n",
      "Using cached jsonschema_specifications-2023.12.1-py3-none-any.whl (18 kB)\n",
      "Downloading referencing-0.34.0-py3-none-any.whl (26 kB)\n",
      "Using cached rpds_py-0.18.0-cp312-cp312-macosx_11_0_arm64.whl (332 kB)\n",
      "Installing collected packages: fastjsonschema, rpds-py, referencing, jsonschema-specifications, jsonschema, nbformat\n",
      "Successfully installed fastjsonschema-2.19.1 jsonschema-4.21.1 jsonschema-specifications-2023.12.1 nbformat-5.10.3 referencing-0.34.0 rpds-py-0.18.0\n"
     ]
    }
   ],
   "source": [
    "!pip install plotly nbformat"
   ]
  },
  {
   "cell_type": "code",
   "execution_count": 44,
   "metadata": {},
   "outputs": [
    {
     "name": "stderr",
     "output_type": "stream",
     "text": [
      "/var/folders/cj/cyw80lln0mz_9hlly0x3qvf80000gn/T/ipykernel_29817/2967686727.py:43: FutureWarning:\n",
      "\n",
      "Series.__getitem__ treating keys as positions is deprecated. In a future version, integer keys will always be treated as labels (consistent with DataFrame behavior). To access a value by position, use `ser.iloc[pos]`\n",
      "\n"
     ]
    },
    {
     "ename": "ValueError",
     "evalue": "Mime type rendering requires nbformat>=4.2.0 but it is not installed",
     "output_type": "error",
     "traceback": [
      "\u001b[0;31m---------------------------------------------------------------------------\u001b[0m",
      "\u001b[0;31mValueError\u001b[0m                                Traceback (most recent call last)",
      "File \u001b[0;32m~/Projects/LLM-Eval/.venv/lib/python3.12/site-packages/IPython/core/formatters.py:922\u001b[0m, in \u001b[0;36mIPythonDisplayFormatter.__call__\u001b[0;34m(self, obj)\u001b[0m\n\u001b[1;32m    920\u001b[0m method \u001b[38;5;241m=\u001b[39m get_real_method(obj, \u001b[38;5;28mself\u001b[39m\u001b[38;5;241m.\u001b[39mprint_method)\n\u001b[1;32m    921\u001b[0m \u001b[38;5;28;01mif\u001b[39;00m method \u001b[38;5;129;01mis\u001b[39;00m \u001b[38;5;129;01mnot\u001b[39;00m \u001b[38;5;28;01mNone\u001b[39;00m:\n\u001b[0;32m--> 922\u001b[0m     \u001b[43mmethod\u001b[49m\u001b[43m(\u001b[49m\u001b[43m)\u001b[49m\n\u001b[1;32m    923\u001b[0m     \u001b[38;5;28;01mreturn\u001b[39;00m \u001b[38;5;28;01mTrue\u001b[39;00m\n",
      "File \u001b[0;32m~/Projects/LLM-Eval/.venv/lib/python3.12/site-packages/plotly/basedatatypes.py:832\u001b[0m, in \u001b[0;36mBaseFigure._ipython_display_\u001b[0;34m(self)\u001b[0m\n\u001b[1;32m    829\u001b[0m \u001b[38;5;28;01mimport\u001b[39;00m \u001b[38;5;21;01mplotly\u001b[39;00m\u001b[38;5;21;01m.\u001b[39;00m\u001b[38;5;21;01mio\u001b[39;00m \u001b[38;5;28;01mas\u001b[39;00m \u001b[38;5;21;01mpio\u001b[39;00m\n\u001b[1;32m    831\u001b[0m \u001b[38;5;28;01mif\u001b[39;00m pio\u001b[38;5;241m.\u001b[39mrenderers\u001b[38;5;241m.\u001b[39mrender_on_display \u001b[38;5;129;01mand\u001b[39;00m pio\u001b[38;5;241m.\u001b[39mrenderers\u001b[38;5;241m.\u001b[39mdefault:\n\u001b[0;32m--> 832\u001b[0m     \u001b[43mpio\u001b[49m\u001b[38;5;241;43m.\u001b[39;49m\u001b[43mshow\u001b[49m\u001b[43m(\u001b[49m\u001b[38;5;28;43mself\u001b[39;49m\u001b[43m)\u001b[49m\n\u001b[1;32m    833\u001b[0m \u001b[38;5;28;01melse\u001b[39;00m:\n\u001b[1;32m    834\u001b[0m     \u001b[38;5;28mprint\u001b[39m(\u001b[38;5;28mrepr\u001b[39m(\u001b[38;5;28mself\u001b[39m))\n",
      "File \u001b[0;32m~/Projects/LLM-Eval/.venv/lib/python3.12/site-packages/plotly/io/_renderers.py:394\u001b[0m, in \u001b[0;36mshow\u001b[0;34m(fig, renderer, validate, **kwargs)\u001b[0m\n\u001b[1;32m    389\u001b[0m         \u001b[38;5;28;01mraise\u001b[39;00m \u001b[38;5;167;01mValueError\u001b[39;00m(\n\u001b[1;32m    390\u001b[0m             \u001b[38;5;124m\"\u001b[39m\u001b[38;5;124mMime type rendering requires ipython but it is not installed\u001b[39m\u001b[38;5;124m\"\u001b[39m\n\u001b[1;32m    391\u001b[0m         )\n\u001b[1;32m    393\u001b[0m     \u001b[38;5;28;01mif\u001b[39;00m \u001b[38;5;129;01mnot\u001b[39;00m nbformat \u001b[38;5;129;01mor\u001b[39;00m Version(nbformat\u001b[38;5;241m.\u001b[39m__version__) \u001b[38;5;241m<\u001b[39m Version(\u001b[38;5;124m\"\u001b[39m\u001b[38;5;124m4.2.0\u001b[39m\u001b[38;5;124m\"\u001b[39m):\n\u001b[0;32m--> 394\u001b[0m         \u001b[38;5;28;01mraise\u001b[39;00m \u001b[38;5;167;01mValueError\u001b[39;00m(\n\u001b[1;32m    395\u001b[0m             \u001b[38;5;124m\"\u001b[39m\u001b[38;5;124mMime type rendering requires nbformat>=4.2.0 but it is not installed\u001b[39m\u001b[38;5;124m\"\u001b[39m\n\u001b[1;32m    396\u001b[0m         )\n\u001b[1;32m    398\u001b[0m     ipython_display\u001b[38;5;241m.\u001b[39mdisplay(bundle, raw\u001b[38;5;241m=\u001b[39m\u001b[38;5;28;01mTrue\u001b[39;00m)\n\u001b[1;32m    400\u001b[0m \u001b[38;5;66;03m# external renderers\u001b[39;00m\n",
      "\u001b[0;31mValueError\u001b[0m: Mime type rendering requires nbformat>=4.2.0 but it is not installed"
     ]
    },
    {
     "data": {
      "application/vnd.plotly.v1+json": {
       "config": {
        "plotlyServerURL": "https://plot.ly"
       },
       "data": [
        {
         "line": {
          "color": "#1f77b4",
          "width": 4
         },
         "name": "anthropic/claude-2.1",
         "opacity": 0.4,
         "r": [
          43.96551724137931,
          50.35971223021583,
          39.87730061349693,
          39.75155279503105,
          33.33333333333333,
          14.772727272727273,
          43.96551724137931
         ],
         "theta": [
          "Elementary 2-3",
          "Elementary 4-5",
          "Elementary 6-7",
          "Elementary 8-9",
          "High School 1-2",
          "High School 3-4",
          "Elementary 2-3"
         ],
         "type": "scatterpolar"
        },
        {
         "line": {
          "color": "#ff7f0e",
          "width": 4
         },
         "name": "anthropic/claude-3-haiku",
         "opacity": 0.4,
         "r": [
          37.5,
          38.405797101449274,
          27.160493827160494,
          31.25,
          32.70440251572327,
          25.609756097560975,
          37.5
         ],
         "theta": [
          "Elementary 2-3",
          "Elementary 4-5",
          "Elementary 6-7",
          "Elementary 8-9",
          "High School 1-2",
          "High School 3-4",
          "Elementary 2-3"
         ],
         "type": "scatterpolar"
        },
        {
         "line": {
          "color": "#2ca02c",
          "width": 4
         },
         "name": "anthropic/claude-3-opus",
         "opacity": 0.4,
         "r": [
          78.57142857142857,
          65.94202898550725,
          61.111111111111114,
          50,
          45.28301886792453,
          48.78048780487805,
          78.57142857142857
         ],
         "theta": [
          "Elementary 2-3",
          "Elementary 4-5",
          "Elementary 6-7",
          "Elementary 8-9",
          "High School 1-2",
          "High School 3-4",
          "Elementary 2-3"
         ],
         "type": "scatterpolar"
        },
        {
         "line": {
          "color": "#d62728",
          "width": 4
         },
         "name": "anthropic/claude-3-sonnet",
         "opacity": 0.4,
         "r": [
          59.82142857142857,
          60.86956521739131,
          38.2716049382716,
          45,
          33.9622641509434,
          25.609756097560975,
          59.82142857142857
         ],
         "theta": [
          "Elementary 2-3",
          "Elementary 4-5",
          "Elementary 6-7",
          "Elementary 8-9",
          "High School 1-2",
          "High School 3-4",
          "Elementary 2-3"
         ],
         "type": "scatterpolar"
        },
        {
         "line": {
          "color": "#9467bd",
          "width": 4
         },
         "name": "cohere/command-r",
         "opacity": 0.4,
         "r": [
          24.107142857142858,
          28.26086956521739,
          29.01234567901235,
          21.875,
          24.528301886792452,
          18.29268292682927,
          24.107142857142858
         ],
         "theta": [
          "Elementary 2-3",
          "Elementary 4-5",
          "Elementary 6-7",
          "Elementary 8-9",
          "High School 1-2",
          "High School 3-4",
          "Elementary 2-3"
         ],
         "type": "scatterpolar"
        },
        {
         "line": {
          "color": "#8c564b",
          "width": 4
         },
         "name": "google/gemini-pro",
         "opacity": 0.4,
         "r": [
          33.92857142857143,
          28.985507246376812,
          26.543209876543212,
          28.125,
          30.18867924528302,
          23.170731707317074,
          33.92857142857143
         ],
         "theta": [
          "Elementary 2-3",
          "Elementary 4-5",
          "Elementary 6-7",
          "Elementary 8-9",
          "High School 1-2",
          "High School 3-4",
          "Elementary 2-3"
         ],
         "type": "scatterpolar"
        },
        {
         "line": {
          "color": "#e377c2",
          "width": 4
         },
         "name": "google/gemma-7b-it",
         "opacity": 0.4,
         "r": [
          16.964285714285715,
          15.942028985507244,
          16.666666666666664,
          12.5,
          20.125786163522015,
          21.951219512195124,
          16.964285714285715
         ],
         "theta": [
          "Elementary 2-3",
          "Elementary 4-5",
          "Elementary 6-7",
          "Elementary 8-9",
          "High School 1-2",
          "High School 3-4",
          "Elementary 2-3"
         ],
         "type": "scatterpolar"
        },
        {
         "line": {
          "color": "#7f7f7f",
          "width": 4
         },
         "name": "mistralai/mistral-large",
         "opacity": 0.4,
         "r": [
          51.78571428571429,
          53.62318840579711,
          41.358024691358025,
          37.5,
          35.22012578616352,
          23.170731707317074,
          51.78571428571429
         ],
         "theta": [
          "Elementary 2-3",
          "Elementary 4-5",
          "Elementary 6-7",
          "Elementary 8-9",
          "High School 1-2",
          "High School 3-4",
          "Elementary 2-3"
         ],
         "type": "scatterpolar"
        },
        {
         "line": {
          "color": "#bcbd22",
          "width": 4
         },
         "name": "mistralai/mistral-medium",
         "opacity": 0.4,
         "r": [
          39.285714285714285,
          34.78260869565217,
          28.39506172839506,
          24.375,
          27.67295597484277,
          21.951219512195124,
          39.285714285714285
         ],
         "theta": [
          "Elementary 2-3",
          "Elementary 4-5",
          "Elementary 6-7",
          "Elementary 8-9",
          "High School 1-2",
          "High School 3-4",
          "Elementary 2-3"
         ],
         "type": "scatterpolar"
        },
        {
         "line": {
          "color": "#17becf",
          "width": 4
         },
         "name": "mistralai/mixtral-8x7b-instruct",
         "opacity": 0.4,
         "r": [
          30.357142857142854,
          34.05797101449276,
          28.39506172839506,
          22.5,
          22.0125786163522,
          23.170731707317074,
          30.357142857142854
         ],
         "theta": [
          "Elementary 2-3",
          "Elementary 4-5",
          "Elementary 6-7",
          "Elementary 8-9",
          "High School 1-2",
          "High School 3-4",
          "Elementary 2-3"
         ],
         "type": "scatterpolar"
        },
        {
         "line": {
          "color": "#f7b6d2",
          "width": 4
         },
         "name": "openai/gpt-3.5-turbo",
         "opacity": 0.4,
         "r": [
          40.17857142857143,
          39.85507246376812,
          33.95061728395062,
          31.874999999999996,
          26.41509433962264,
          19.51219512195122,
          40.17857142857143
         ],
         "theta": [
          "Elementary 2-3",
          "Elementary 4-5",
          "Elementary 6-7",
          "Elementary 8-9",
          "High School 1-2",
          "High School 3-4",
          "Elementary 2-3"
         ],
         "type": "scatterpolar"
        },
        {
         "line": {
          "color": "#bcbd22",
          "width": 4
         },
         "name": "openai/gpt-4-1106-preview",
         "opacity": 0.4,
         "r": [
          71.42857142857143,
          69.56521739130434,
          59.876543209876544,
          52.5,
          50.314465408805034,
          42.68292682926829,
          71.42857142857143
         ],
         "theta": [
          "Elementary 2-3",
          "Elementary 4-5",
          "Elementary 6-7",
          "Elementary 8-9",
          "High School 1-2",
          "High School 3-4",
          "Elementary 2-3"
         ],
         "type": "scatterpolar"
        }
       ],
       "layout": {
        "font": {
         "color": "#333333",
         "family": "Arial",
         "size": 16
        },
        "height": 950,
        "legend": {
         "orientation": "h",
         "x": 0.5,
         "xanchor": "center",
         "y": -0.45,
         "yanchor": "bottom"
        },
        "polar": {
         "angularaxis": {
          "direction": "clockwise",
          "gridwidth": 2,
          "rotation": 90
         },
         "radialaxis": {
          "angle": 45,
          "range": [
           0,
           100
          ],
          "tickangle": 45,
          "ticktext": [
           "0%",
           "25%",
           "50%",
           "75%",
           "100%"
          ],
          "tickvals": [
           0,
           25,
           50,
           75,
           100
          ],
          "visible": true
         }
        },
        "template": {
         "data": {
          "bar": [
           {
            "error_x": {
             "color": "#2a3f5f"
            },
            "error_y": {
             "color": "#2a3f5f"
            },
            "marker": {
             "line": {
              "color": "#E5ECF6",
              "width": 0.5
             },
             "pattern": {
              "fillmode": "overlay",
              "size": 10,
              "solidity": 0.2
             }
            },
            "type": "bar"
           }
          ],
          "barpolar": [
           {
            "marker": {
             "line": {
              "color": "#E5ECF6",
              "width": 0.5
             },
             "pattern": {
              "fillmode": "overlay",
              "size": 10,
              "solidity": 0.2
             }
            },
            "type": "barpolar"
           }
          ],
          "carpet": [
           {
            "aaxis": {
             "endlinecolor": "#2a3f5f",
             "gridcolor": "white",
             "linecolor": "white",
             "minorgridcolor": "white",
             "startlinecolor": "#2a3f5f"
            },
            "baxis": {
             "endlinecolor": "#2a3f5f",
             "gridcolor": "white",
             "linecolor": "white",
             "minorgridcolor": "white",
             "startlinecolor": "#2a3f5f"
            },
            "type": "carpet"
           }
          ],
          "choropleth": [
           {
            "colorbar": {
             "outlinewidth": 0,
             "ticks": ""
            },
            "type": "choropleth"
           }
          ],
          "contour": [
           {
            "colorbar": {
             "outlinewidth": 0,
             "ticks": ""
            },
            "colorscale": [
             [
              0,
              "#0d0887"
             ],
             [
              0.1111111111111111,
              "#46039f"
             ],
             [
              0.2222222222222222,
              "#7201a8"
             ],
             [
              0.3333333333333333,
              "#9c179e"
             ],
             [
              0.4444444444444444,
              "#bd3786"
             ],
             [
              0.5555555555555556,
              "#d8576b"
             ],
             [
              0.6666666666666666,
              "#ed7953"
             ],
             [
              0.7777777777777778,
              "#fb9f3a"
             ],
             [
              0.8888888888888888,
              "#fdca26"
             ],
             [
              1,
              "#f0f921"
             ]
            ],
            "type": "contour"
           }
          ],
          "contourcarpet": [
           {
            "colorbar": {
             "outlinewidth": 0,
             "ticks": ""
            },
            "type": "contourcarpet"
           }
          ],
          "heatmap": [
           {
            "colorbar": {
             "outlinewidth": 0,
             "ticks": ""
            },
            "colorscale": [
             [
              0,
              "#0d0887"
             ],
             [
              0.1111111111111111,
              "#46039f"
             ],
             [
              0.2222222222222222,
              "#7201a8"
             ],
             [
              0.3333333333333333,
              "#9c179e"
             ],
             [
              0.4444444444444444,
              "#bd3786"
             ],
             [
              0.5555555555555556,
              "#d8576b"
             ],
             [
              0.6666666666666666,
              "#ed7953"
             ],
             [
              0.7777777777777778,
              "#fb9f3a"
             ],
             [
              0.8888888888888888,
              "#fdca26"
             ],
             [
              1,
              "#f0f921"
             ]
            ],
            "type": "heatmap"
           }
          ],
          "heatmapgl": [
           {
            "colorbar": {
             "outlinewidth": 0,
             "ticks": ""
            },
            "colorscale": [
             [
              0,
              "#0d0887"
             ],
             [
              0.1111111111111111,
              "#46039f"
             ],
             [
              0.2222222222222222,
              "#7201a8"
             ],
             [
              0.3333333333333333,
              "#9c179e"
             ],
             [
              0.4444444444444444,
              "#bd3786"
             ],
             [
              0.5555555555555556,
              "#d8576b"
             ],
             [
              0.6666666666666666,
              "#ed7953"
             ],
             [
              0.7777777777777778,
              "#fb9f3a"
             ],
             [
              0.8888888888888888,
              "#fdca26"
             ],
             [
              1,
              "#f0f921"
             ]
            ],
            "type": "heatmapgl"
           }
          ],
          "histogram": [
           {
            "marker": {
             "pattern": {
              "fillmode": "overlay",
              "size": 10,
              "solidity": 0.2
             }
            },
            "type": "histogram"
           }
          ],
          "histogram2d": [
           {
            "colorbar": {
             "outlinewidth": 0,
             "ticks": ""
            },
            "colorscale": [
             [
              0,
              "#0d0887"
             ],
             [
              0.1111111111111111,
              "#46039f"
             ],
             [
              0.2222222222222222,
              "#7201a8"
             ],
             [
              0.3333333333333333,
              "#9c179e"
             ],
             [
              0.4444444444444444,
              "#bd3786"
             ],
             [
              0.5555555555555556,
              "#d8576b"
             ],
             [
              0.6666666666666666,
              "#ed7953"
             ],
             [
              0.7777777777777778,
              "#fb9f3a"
             ],
             [
              0.8888888888888888,
              "#fdca26"
             ],
             [
              1,
              "#f0f921"
             ]
            ],
            "type": "histogram2d"
           }
          ],
          "histogram2dcontour": [
           {
            "colorbar": {
             "outlinewidth": 0,
             "ticks": ""
            },
            "colorscale": [
             [
              0,
              "#0d0887"
             ],
             [
              0.1111111111111111,
              "#46039f"
             ],
             [
              0.2222222222222222,
              "#7201a8"
             ],
             [
              0.3333333333333333,
              "#9c179e"
             ],
             [
              0.4444444444444444,
              "#bd3786"
             ],
             [
              0.5555555555555556,
              "#d8576b"
             ],
             [
              0.6666666666666666,
              "#ed7953"
             ],
             [
              0.7777777777777778,
              "#fb9f3a"
             ],
             [
              0.8888888888888888,
              "#fdca26"
             ],
             [
              1,
              "#f0f921"
             ]
            ],
            "type": "histogram2dcontour"
           }
          ],
          "mesh3d": [
           {
            "colorbar": {
             "outlinewidth": 0,
             "ticks": ""
            },
            "type": "mesh3d"
           }
          ],
          "parcoords": [
           {
            "line": {
             "colorbar": {
              "outlinewidth": 0,
              "ticks": ""
             }
            },
            "type": "parcoords"
           }
          ],
          "pie": [
           {
            "automargin": true,
            "type": "pie"
           }
          ],
          "scatter": [
           {
            "fillpattern": {
             "fillmode": "overlay",
             "size": 10,
             "solidity": 0.2
            },
            "type": "scatter"
           }
          ],
          "scatter3d": [
           {
            "line": {
             "colorbar": {
              "outlinewidth": 0,
              "ticks": ""
             }
            },
            "marker": {
             "colorbar": {
              "outlinewidth": 0,
              "ticks": ""
             }
            },
            "type": "scatter3d"
           }
          ],
          "scattercarpet": [
           {
            "marker": {
             "colorbar": {
              "outlinewidth": 0,
              "ticks": ""
             }
            },
            "type": "scattercarpet"
           }
          ],
          "scattergeo": [
           {
            "marker": {
             "colorbar": {
              "outlinewidth": 0,
              "ticks": ""
             }
            },
            "type": "scattergeo"
           }
          ],
          "scattergl": [
           {
            "marker": {
             "colorbar": {
              "outlinewidth": 0,
              "ticks": ""
             }
            },
            "type": "scattergl"
           }
          ],
          "scattermapbox": [
           {
            "marker": {
             "colorbar": {
              "outlinewidth": 0,
              "ticks": ""
             }
            },
            "type": "scattermapbox"
           }
          ],
          "scatterpolar": [
           {
            "marker": {
             "colorbar": {
              "outlinewidth": 0,
              "ticks": ""
             }
            },
            "type": "scatterpolar"
           }
          ],
          "scatterpolargl": [
           {
            "marker": {
             "colorbar": {
              "outlinewidth": 0,
              "ticks": ""
             }
            },
            "type": "scatterpolargl"
           }
          ],
          "scatterternary": [
           {
            "marker": {
             "colorbar": {
              "outlinewidth": 0,
              "ticks": ""
             }
            },
            "type": "scatterternary"
           }
          ],
          "surface": [
           {
            "colorbar": {
             "outlinewidth": 0,
             "ticks": ""
            },
            "colorscale": [
             [
              0,
              "#0d0887"
             ],
             [
              0.1111111111111111,
              "#46039f"
             ],
             [
              0.2222222222222222,
              "#7201a8"
             ],
             [
              0.3333333333333333,
              "#9c179e"
             ],
             [
              0.4444444444444444,
              "#bd3786"
             ],
             [
              0.5555555555555556,
              "#d8576b"
             ],
             [
              0.6666666666666666,
              "#ed7953"
             ],
             [
              0.7777777777777778,
              "#fb9f3a"
             ],
             [
              0.8888888888888888,
              "#fdca26"
             ],
             [
              1,
              "#f0f921"
             ]
            ],
            "type": "surface"
           }
          ],
          "table": [
           {
            "cells": {
             "fill": {
              "color": "#EBF0F8"
             },
             "line": {
              "color": "white"
             }
            },
            "header": {
             "fill": {
              "color": "#C8D4E3"
             },
             "line": {
              "color": "white"
             }
            },
            "type": "table"
           }
          ]
         },
         "layout": {
          "annotationdefaults": {
           "arrowcolor": "#2a3f5f",
           "arrowhead": 0,
           "arrowwidth": 1
          },
          "autotypenumbers": "strict",
          "coloraxis": {
           "colorbar": {
            "outlinewidth": 0,
            "ticks": ""
           }
          },
          "colorscale": {
           "diverging": [
            [
             0,
             "#8e0152"
            ],
            [
             0.1,
             "#c51b7d"
            ],
            [
             0.2,
             "#de77ae"
            ],
            [
             0.3,
             "#f1b6da"
            ],
            [
             0.4,
             "#fde0ef"
            ],
            [
             0.5,
             "#f7f7f7"
            ],
            [
             0.6,
             "#e6f5d0"
            ],
            [
             0.7,
             "#b8e186"
            ],
            [
             0.8,
             "#7fbc41"
            ],
            [
             0.9,
             "#4d9221"
            ],
            [
             1,
             "#276419"
            ]
           ],
           "sequential": [
            [
             0,
             "#0d0887"
            ],
            [
             0.1111111111111111,
             "#46039f"
            ],
            [
             0.2222222222222222,
             "#7201a8"
            ],
            [
             0.3333333333333333,
             "#9c179e"
            ],
            [
             0.4444444444444444,
             "#bd3786"
            ],
            [
             0.5555555555555556,
             "#d8576b"
            ],
            [
             0.6666666666666666,
             "#ed7953"
            ],
            [
             0.7777777777777778,
             "#fb9f3a"
            ],
            [
             0.8888888888888888,
             "#fdca26"
            ],
            [
             1,
             "#f0f921"
            ]
           ],
           "sequentialminus": [
            [
             0,
             "#0d0887"
            ],
            [
             0.1111111111111111,
             "#46039f"
            ],
            [
             0.2222222222222222,
             "#7201a8"
            ],
            [
             0.3333333333333333,
             "#9c179e"
            ],
            [
             0.4444444444444444,
             "#bd3786"
            ],
            [
             0.5555555555555556,
             "#d8576b"
            ],
            [
             0.6666666666666666,
             "#ed7953"
            ],
            [
             0.7777777777777778,
             "#fb9f3a"
            ],
            [
             0.8888888888888888,
             "#fdca26"
            ],
            [
             1,
             "#f0f921"
            ]
           ]
          },
          "colorway": [
           "#636efa",
           "#EF553B",
           "#00cc96",
           "#ab63fa",
           "#FFA15A",
           "#19d3f3",
           "#FF6692",
           "#B6E880",
           "#FF97FF",
           "#FECB52"
          ],
          "font": {
           "color": "#2a3f5f"
          },
          "geo": {
           "bgcolor": "white",
           "lakecolor": "white",
           "landcolor": "#E5ECF6",
           "showlakes": true,
           "showland": true,
           "subunitcolor": "white"
          },
          "hoverlabel": {
           "align": "left"
          },
          "hovermode": "closest",
          "mapbox": {
           "style": "light"
          },
          "paper_bgcolor": "white",
          "plot_bgcolor": "#E5ECF6",
          "polar": {
           "angularaxis": {
            "gridcolor": "white",
            "linecolor": "white",
            "ticks": ""
           },
           "bgcolor": "#E5ECF6",
           "radialaxis": {
            "gridcolor": "white",
            "linecolor": "white",
            "ticks": ""
           }
          },
          "scene": {
           "xaxis": {
            "backgroundcolor": "#E5ECF6",
            "gridcolor": "white",
            "gridwidth": 2,
            "linecolor": "white",
            "showbackground": true,
            "ticks": "",
            "zerolinecolor": "white"
           },
           "yaxis": {
            "backgroundcolor": "#E5ECF6",
            "gridcolor": "white",
            "gridwidth": 2,
            "linecolor": "white",
            "showbackground": true,
            "ticks": "",
            "zerolinecolor": "white"
           },
           "zaxis": {
            "backgroundcolor": "#E5ECF6",
            "gridcolor": "white",
            "gridwidth": 2,
            "linecolor": "white",
            "showbackground": true,
            "ticks": "",
            "zerolinecolor": "white"
           }
          },
          "shapedefaults": {
           "line": {
            "color": "#2a3f5f"
           }
          },
          "ternary": {
           "aaxis": {
            "gridcolor": "white",
            "linecolor": "white",
            "ticks": ""
           },
           "baxis": {
            "gridcolor": "white",
            "linecolor": "white",
            "ticks": ""
           },
           "bgcolor": "#E5ECF6",
           "caxis": {
            "gridcolor": "white",
            "linecolor": "white",
            "ticks": ""
           }
          },
          "title": {
           "x": 0.05
          },
          "xaxis": {
           "automargin": true,
           "gridcolor": "white",
           "linecolor": "white",
           "ticks": "",
           "title": {
            "standoff": 15
           },
           "zerolinecolor": "white",
           "zerolinewidth": 2
          },
          "yaxis": {
           "automargin": true,
           "gridcolor": "white",
           "linecolor": "white",
           "ticks": "",
           "title": {
            "standoff": 15
           },
           "zerolinecolor": "white",
           "zerolinewidth": 2
          }
         }
        },
        "title": {
         "font": {
          "color": "#333333",
          "size": 24
         },
         "text": "Klokan-QA - Accuracy",
         "x": 0.5,
         "xanchor": "center",
         "y": 0.97,
         "yanchor": "top"
        },
        "width": 600
       }
      },
      "text/html": [
       "<div>                        <script type=\"text/javascript\">window.PlotlyConfig = {MathJaxConfig: 'local'};</script>\n",
       "        <script charset=\"utf-8\" src=\"https://cdn.plot.ly/plotly-2.30.0.min.js\"></script>                <div id=\"6e81279d-74bd-463e-b3e9-ffd9c1a7d3bc\" class=\"plotly-graph-div\" style=\"height:950px; width:600px;\"></div>            <script type=\"text/javascript\">                                    window.PLOTLYENV=window.PLOTLYENV || {};                                    if (document.getElementById(\"6e81279d-74bd-463e-b3e9-ffd9c1a7d3bc\")) {                    Plotly.newPlot(                        \"6e81279d-74bd-463e-b3e9-ffd9c1a7d3bc\",                        [{\"line\":{\"color\":\"#1f77b4\",\"width\":4},\"name\":\"anthropic\\u002fclaude-2.1\",\"opacity\":0.4,\"r\":[43.96551724137931,50.35971223021583,39.87730061349693,39.75155279503105,33.33333333333333,14.772727272727273,43.96551724137931],\"theta\":[\"Elementary 2-3\",\"Elementary 4-5\",\"Elementary 6-7\",\"Elementary 8-9\",\"High School 1-2\",\"High School 3-4\",\"Elementary 2-3\"],\"type\":\"scatterpolar\"},{\"line\":{\"color\":\"#ff7f0e\",\"width\":4},\"name\":\"anthropic\\u002fclaude-3-haiku\",\"opacity\":0.4,\"r\":[37.5,38.405797101449274,27.160493827160494,31.25,32.70440251572327,25.609756097560975,37.5],\"theta\":[\"Elementary 2-3\",\"Elementary 4-5\",\"Elementary 6-7\",\"Elementary 8-9\",\"High School 1-2\",\"High School 3-4\",\"Elementary 2-3\"],\"type\":\"scatterpolar\"},{\"line\":{\"color\":\"#2ca02c\",\"width\":4},\"name\":\"anthropic\\u002fclaude-3-opus\",\"opacity\":0.4,\"r\":[78.57142857142857,65.94202898550725,61.111111111111114,50.0,45.28301886792453,48.78048780487805,78.57142857142857],\"theta\":[\"Elementary 2-3\",\"Elementary 4-5\",\"Elementary 6-7\",\"Elementary 8-9\",\"High School 1-2\",\"High School 3-4\",\"Elementary 2-3\"],\"type\":\"scatterpolar\"},{\"line\":{\"color\":\"#d62728\",\"width\":4},\"name\":\"anthropic\\u002fclaude-3-sonnet\",\"opacity\":0.4,\"r\":[59.82142857142857,60.86956521739131,38.2716049382716,45.0,33.9622641509434,25.609756097560975,59.82142857142857],\"theta\":[\"Elementary 2-3\",\"Elementary 4-5\",\"Elementary 6-7\",\"Elementary 8-9\",\"High School 1-2\",\"High School 3-4\",\"Elementary 2-3\"],\"type\":\"scatterpolar\"},{\"line\":{\"color\":\"#9467bd\",\"width\":4},\"name\":\"cohere\\u002fcommand-r\",\"opacity\":0.4,\"r\":[24.107142857142858,28.26086956521739,29.01234567901235,21.875,24.528301886792452,18.29268292682927,24.107142857142858],\"theta\":[\"Elementary 2-3\",\"Elementary 4-5\",\"Elementary 6-7\",\"Elementary 8-9\",\"High School 1-2\",\"High School 3-4\",\"Elementary 2-3\"],\"type\":\"scatterpolar\"},{\"line\":{\"color\":\"#8c564b\",\"width\":4},\"name\":\"google\\u002fgemini-pro\",\"opacity\":0.4,\"r\":[33.92857142857143,28.985507246376812,26.543209876543212,28.125,30.18867924528302,23.170731707317074,33.92857142857143],\"theta\":[\"Elementary 2-3\",\"Elementary 4-5\",\"Elementary 6-7\",\"Elementary 8-9\",\"High School 1-2\",\"High School 3-4\",\"Elementary 2-3\"],\"type\":\"scatterpolar\"},{\"line\":{\"color\":\"#e377c2\",\"width\":4},\"name\":\"google\\u002fgemma-7b-it\",\"opacity\":0.4,\"r\":[16.964285714285715,15.942028985507244,16.666666666666664,12.5,20.125786163522015,21.951219512195124,16.964285714285715],\"theta\":[\"Elementary 2-3\",\"Elementary 4-5\",\"Elementary 6-7\",\"Elementary 8-9\",\"High School 1-2\",\"High School 3-4\",\"Elementary 2-3\"],\"type\":\"scatterpolar\"},{\"line\":{\"color\":\"#7f7f7f\",\"width\":4},\"name\":\"mistralai\\u002fmistral-large\",\"opacity\":0.4,\"r\":[51.78571428571429,53.62318840579711,41.358024691358025,37.5,35.22012578616352,23.170731707317074,51.78571428571429],\"theta\":[\"Elementary 2-3\",\"Elementary 4-5\",\"Elementary 6-7\",\"Elementary 8-9\",\"High School 1-2\",\"High School 3-4\",\"Elementary 2-3\"],\"type\":\"scatterpolar\"},{\"line\":{\"color\":\"#bcbd22\",\"width\":4},\"name\":\"mistralai\\u002fmistral-medium\",\"opacity\":0.4,\"r\":[39.285714285714285,34.78260869565217,28.39506172839506,24.375,27.67295597484277,21.951219512195124,39.285714285714285],\"theta\":[\"Elementary 2-3\",\"Elementary 4-5\",\"Elementary 6-7\",\"Elementary 8-9\",\"High School 1-2\",\"High School 3-4\",\"Elementary 2-3\"],\"type\":\"scatterpolar\"},{\"line\":{\"color\":\"#17becf\",\"width\":4},\"name\":\"mistralai\\u002fmixtral-8x7b-instruct\",\"opacity\":0.4,\"r\":[30.357142857142854,34.05797101449276,28.39506172839506,22.5,22.0125786163522,23.170731707317074,30.357142857142854],\"theta\":[\"Elementary 2-3\",\"Elementary 4-5\",\"Elementary 6-7\",\"Elementary 8-9\",\"High School 1-2\",\"High School 3-4\",\"Elementary 2-3\"],\"type\":\"scatterpolar\"},{\"line\":{\"color\":\"#f7b6d2\",\"width\":4},\"name\":\"openai\\u002fgpt-3.5-turbo\",\"opacity\":0.4,\"r\":[40.17857142857143,39.85507246376812,33.95061728395062,31.874999999999996,26.41509433962264,19.51219512195122,40.17857142857143],\"theta\":[\"Elementary 2-3\",\"Elementary 4-5\",\"Elementary 6-7\",\"Elementary 8-9\",\"High School 1-2\",\"High School 3-4\",\"Elementary 2-3\"],\"type\":\"scatterpolar\"},{\"line\":{\"color\":\"#bcbd22\",\"width\":4},\"name\":\"openai\\u002fgpt-4-1106-preview\",\"opacity\":0.4,\"r\":[71.42857142857143,69.56521739130434,59.876543209876544,52.5,50.314465408805034,42.68292682926829,71.42857142857143],\"theta\":[\"Elementary 2-3\",\"Elementary 4-5\",\"Elementary 6-7\",\"Elementary 8-9\",\"High School 1-2\",\"High School 3-4\",\"Elementary 2-3\"],\"type\":\"scatterpolar\"}],                        {\"template\":{\"data\":{\"histogram2dcontour\":[{\"type\":\"histogram2dcontour\",\"colorbar\":{\"outlinewidth\":0,\"ticks\":\"\"},\"colorscale\":[[0.0,\"#0d0887\"],[0.1111111111111111,\"#46039f\"],[0.2222222222222222,\"#7201a8\"],[0.3333333333333333,\"#9c179e\"],[0.4444444444444444,\"#bd3786\"],[0.5555555555555556,\"#d8576b\"],[0.6666666666666666,\"#ed7953\"],[0.7777777777777778,\"#fb9f3a\"],[0.8888888888888888,\"#fdca26\"],[1.0,\"#f0f921\"]]}],\"choropleth\":[{\"type\":\"choropleth\",\"colorbar\":{\"outlinewidth\":0,\"ticks\":\"\"}}],\"histogram2d\":[{\"type\":\"histogram2d\",\"colorbar\":{\"outlinewidth\":0,\"ticks\":\"\"},\"colorscale\":[[0.0,\"#0d0887\"],[0.1111111111111111,\"#46039f\"],[0.2222222222222222,\"#7201a8\"],[0.3333333333333333,\"#9c179e\"],[0.4444444444444444,\"#bd3786\"],[0.5555555555555556,\"#d8576b\"],[0.6666666666666666,\"#ed7953\"],[0.7777777777777778,\"#fb9f3a\"],[0.8888888888888888,\"#fdca26\"],[1.0,\"#f0f921\"]]}],\"heatmap\":[{\"type\":\"heatmap\",\"colorbar\":{\"outlinewidth\":0,\"ticks\":\"\"},\"colorscale\":[[0.0,\"#0d0887\"],[0.1111111111111111,\"#46039f\"],[0.2222222222222222,\"#7201a8\"],[0.3333333333333333,\"#9c179e\"],[0.4444444444444444,\"#bd3786\"],[0.5555555555555556,\"#d8576b\"],[0.6666666666666666,\"#ed7953\"],[0.7777777777777778,\"#fb9f3a\"],[0.8888888888888888,\"#fdca26\"],[1.0,\"#f0f921\"]]}],\"heatmapgl\":[{\"type\":\"heatmapgl\",\"colorbar\":{\"outlinewidth\":0,\"ticks\":\"\"},\"colorscale\":[[0.0,\"#0d0887\"],[0.1111111111111111,\"#46039f\"],[0.2222222222222222,\"#7201a8\"],[0.3333333333333333,\"#9c179e\"],[0.4444444444444444,\"#bd3786\"],[0.5555555555555556,\"#d8576b\"],[0.6666666666666666,\"#ed7953\"],[0.7777777777777778,\"#fb9f3a\"],[0.8888888888888888,\"#fdca26\"],[1.0,\"#f0f921\"]]}],\"contourcarpet\":[{\"type\":\"contourcarpet\",\"colorbar\":{\"outlinewidth\":0,\"ticks\":\"\"}}],\"contour\":[{\"type\":\"contour\",\"colorbar\":{\"outlinewidth\":0,\"ticks\":\"\"},\"colorscale\":[[0.0,\"#0d0887\"],[0.1111111111111111,\"#46039f\"],[0.2222222222222222,\"#7201a8\"],[0.3333333333333333,\"#9c179e\"],[0.4444444444444444,\"#bd3786\"],[0.5555555555555556,\"#d8576b\"],[0.6666666666666666,\"#ed7953\"],[0.7777777777777778,\"#fb9f3a\"],[0.8888888888888888,\"#fdca26\"],[1.0,\"#f0f921\"]]}],\"surface\":[{\"type\":\"surface\",\"colorbar\":{\"outlinewidth\":0,\"ticks\":\"\"},\"colorscale\":[[0.0,\"#0d0887\"],[0.1111111111111111,\"#46039f\"],[0.2222222222222222,\"#7201a8\"],[0.3333333333333333,\"#9c179e\"],[0.4444444444444444,\"#bd3786\"],[0.5555555555555556,\"#d8576b\"],[0.6666666666666666,\"#ed7953\"],[0.7777777777777778,\"#fb9f3a\"],[0.8888888888888888,\"#fdca26\"],[1.0,\"#f0f921\"]]}],\"mesh3d\":[{\"type\":\"mesh3d\",\"colorbar\":{\"outlinewidth\":0,\"ticks\":\"\"}}],\"scatter\":[{\"fillpattern\":{\"fillmode\":\"overlay\",\"size\":10,\"solidity\":0.2},\"type\":\"scatter\"}],\"parcoords\":[{\"type\":\"parcoords\",\"line\":{\"colorbar\":{\"outlinewidth\":0,\"ticks\":\"\"}}}],\"scatterpolargl\":[{\"type\":\"scatterpolargl\",\"marker\":{\"colorbar\":{\"outlinewidth\":0,\"ticks\":\"\"}}}],\"bar\":[{\"error_x\":{\"color\":\"#2a3f5f\"},\"error_y\":{\"color\":\"#2a3f5f\"},\"marker\":{\"line\":{\"color\":\"#E5ECF6\",\"width\":0.5},\"pattern\":{\"fillmode\":\"overlay\",\"size\":10,\"solidity\":0.2}},\"type\":\"bar\"}],\"scattergeo\":[{\"type\":\"scattergeo\",\"marker\":{\"colorbar\":{\"outlinewidth\":0,\"ticks\":\"\"}}}],\"scatterpolar\":[{\"type\":\"scatterpolar\",\"marker\":{\"colorbar\":{\"outlinewidth\":0,\"ticks\":\"\"}}}],\"histogram\":[{\"marker\":{\"pattern\":{\"fillmode\":\"overlay\",\"size\":10,\"solidity\":0.2}},\"type\":\"histogram\"}],\"scattergl\":[{\"type\":\"scattergl\",\"marker\":{\"colorbar\":{\"outlinewidth\":0,\"ticks\":\"\"}}}],\"scatter3d\":[{\"type\":\"scatter3d\",\"line\":{\"colorbar\":{\"outlinewidth\":0,\"ticks\":\"\"}},\"marker\":{\"colorbar\":{\"outlinewidth\":0,\"ticks\":\"\"}}}],\"scattermapbox\":[{\"type\":\"scattermapbox\",\"marker\":{\"colorbar\":{\"outlinewidth\":0,\"ticks\":\"\"}}}],\"scatterternary\":[{\"type\":\"scatterternary\",\"marker\":{\"colorbar\":{\"outlinewidth\":0,\"ticks\":\"\"}}}],\"scattercarpet\":[{\"type\":\"scattercarpet\",\"marker\":{\"colorbar\":{\"outlinewidth\":0,\"ticks\":\"\"}}}],\"carpet\":[{\"aaxis\":{\"endlinecolor\":\"#2a3f5f\",\"gridcolor\":\"white\",\"linecolor\":\"white\",\"minorgridcolor\":\"white\",\"startlinecolor\":\"#2a3f5f\"},\"baxis\":{\"endlinecolor\":\"#2a3f5f\",\"gridcolor\":\"white\",\"linecolor\":\"white\",\"minorgridcolor\":\"white\",\"startlinecolor\":\"#2a3f5f\"},\"type\":\"carpet\"}],\"table\":[{\"cells\":{\"fill\":{\"color\":\"#EBF0F8\"},\"line\":{\"color\":\"white\"}},\"header\":{\"fill\":{\"color\":\"#C8D4E3\"},\"line\":{\"color\":\"white\"}},\"type\":\"table\"}],\"barpolar\":[{\"marker\":{\"line\":{\"color\":\"#E5ECF6\",\"width\":0.5},\"pattern\":{\"fillmode\":\"overlay\",\"size\":10,\"solidity\":0.2}},\"type\":\"barpolar\"}],\"pie\":[{\"automargin\":true,\"type\":\"pie\"}]},\"layout\":{\"autotypenumbers\":\"strict\",\"colorway\":[\"#636efa\",\"#EF553B\",\"#00cc96\",\"#ab63fa\",\"#FFA15A\",\"#19d3f3\",\"#FF6692\",\"#B6E880\",\"#FF97FF\",\"#FECB52\"],\"font\":{\"color\":\"#2a3f5f\"},\"hovermode\":\"closest\",\"hoverlabel\":{\"align\":\"left\"},\"paper_bgcolor\":\"white\",\"plot_bgcolor\":\"#E5ECF6\",\"polar\":{\"bgcolor\":\"#E5ECF6\",\"angularaxis\":{\"gridcolor\":\"white\",\"linecolor\":\"white\",\"ticks\":\"\"},\"radialaxis\":{\"gridcolor\":\"white\",\"linecolor\":\"white\",\"ticks\":\"\"}},\"ternary\":{\"bgcolor\":\"#E5ECF6\",\"aaxis\":{\"gridcolor\":\"white\",\"linecolor\":\"white\",\"ticks\":\"\"},\"baxis\":{\"gridcolor\":\"white\",\"linecolor\":\"white\",\"ticks\":\"\"},\"caxis\":{\"gridcolor\":\"white\",\"linecolor\":\"white\",\"ticks\":\"\"}},\"coloraxis\":{\"colorbar\":{\"outlinewidth\":0,\"ticks\":\"\"}},\"colorscale\":{\"sequential\":[[0.0,\"#0d0887\"],[0.1111111111111111,\"#46039f\"],[0.2222222222222222,\"#7201a8\"],[0.3333333333333333,\"#9c179e\"],[0.4444444444444444,\"#bd3786\"],[0.5555555555555556,\"#d8576b\"],[0.6666666666666666,\"#ed7953\"],[0.7777777777777778,\"#fb9f3a\"],[0.8888888888888888,\"#fdca26\"],[1.0,\"#f0f921\"]],\"sequentialminus\":[[0.0,\"#0d0887\"],[0.1111111111111111,\"#46039f\"],[0.2222222222222222,\"#7201a8\"],[0.3333333333333333,\"#9c179e\"],[0.4444444444444444,\"#bd3786\"],[0.5555555555555556,\"#d8576b\"],[0.6666666666666666,\"#ed7953\"],[0.7777777777777778,\"#fb9f3a\"],[0.8888888888888888,\"#fdca26\"],[1.0,\"#f0f921\"]],\"diverging\":[[0,\"#8e0152\"],[0.1,\"#c51b7d\"],[0.2,\"#de77ae\"],[0.3,\"#f1b6da\"],[0.4,\"#fde0ef\"],[0.5,\"#f7f7f7\"],[0.6,\"#e6f5d0\"],[0.7,\"#b8e186\"],[0.8,\"#7fbc41\"],[0.9,\"#4d9221\"],[1,\"#276419\"]]},\"xaxis\":{\"gridcolor\":\"white\",\"linecolor\":\"white\",\"ticks\":\"\",\"title\":{\"standoff\":15},\"zerolinecolor\":\"white\",\"automargin\":true,\"zerolinewidth\":2},\"yaxis\":{\"gridcolor\":\"white\",\"linecolor\":\"white\",\"ticks\":\"\",\"title\":{\"standoff\":15},\"zerolinecolor\":\"white\",\"automargin\":true,\"zerolinewidth\":2},\"scene\":{\"xaxis\":{\"backgroundcolor\":\"#E5ECF6\",\"gridcolor\":\"white\",\"linecolor\":\"white\",\"showbackground\":true,\"ticks\":\"\",\"zerolinecolor\":\"white\",\"gridwidth\":2},\"yaxis\":{\"backgroundcolor\":\"#E5ECF6\",\"gridcolor\":\"white\",\"linecolor\":\"white\",\"showbackground\":true,\"ticks\":\"\",\"zerolinecolor\":\"white\",\"gridwidth\":2},\"zaxis\":{\"backgroundcolor\":\"#E5ECF6\",\"gridcolor\":\"white\",\"linecolor\":\"white\",\"showbackground\":true,\"ticks\":\"\",\"zerolinecolor\":\"white\",\"gridwidth\":2}},\"shapedefaults\":{\"line\":{\"color\":\"#2a3f5f\"}},\"annotationdefaults\":{\"arrowcolor\":\"#2a3f5f\",\"arrowhead\":0,\"arrowwidth\":1},\"geo\":{\"bgcolor\":\"white\",\"landcolor\":\"#E5ECF6\",\"subunitcolor\":\"white\",\"showland\":true,\"showlakes\":true,\"lakecolor\":\"white\"},\"title\":{\"x\":0.05},\"mapbox\":{\"style\":\"light\"}}},\"polar\":{\"angularaxis\":{\"gridwidth\":2,\"rotation\":90,\"direction\":\"clockwise\"},\"radialaxis\":{\"visible\":true,\"range\":[0,100],\"angle\":45,\"tickangle\":45,\"tickvals\":[0,25,50,75,100],\"ticktext\":[\"0%\",\"25%\",\"50%\",\"75%\",\"100%\"]}},\"title\":{\"font\":{\"size\":24,\"color\":\"#333333\"},\"text\":\"Klokan-QA - Accuracy\",\"x\":0.5,\"y\":0.97,\"xanchor\":\"center\",\"yanchor\":\"top\"},\"font\":{\"family\":\"Arial\",\"size\":16,\"color\":\"#333333\"},\"legend\":{\"orientation\":\"h\",\"yanchor\":\"bottom\",\"y\":-0.45,\"xanchor\":\"center\",\"x\":0.5},\"width\":600,\"height\":950},                        {\"responsive\": true}                    )                };                            </script>        </div>"
      ],
      "text/plain": [
       "Figure({\n",
       "    'data': [{'line': {'color': '#1f77b4', 'width': 4},\n",
       "              'name': 'anthropic/claude-2.1',\n",
       "              'opacity': 0.4,\n",
       "              'r': [43.96551724137931, 50.35971223021583, 39.87730061349693,\n",
       "                    39.75155279503105, 33.33333333333333, 14.772727272727273,\n",
       "                    43.96551724137931],\n",
       "              'theta': [Elementary 2-3, Elementary 4-5, Elementary 6-7, Elementary\n",
       "                        8-9, High School 1-2, High School 3-4, Elementary 2-3],\n",
       "              'type': 'scatterpolar'},\n",
       "             {'line': {'color': '#ff7f0e', 'width': 4},\n",
       "              'name': 'anthropic/claude-3-haiku',\n",
       "              'opacity': 0.4,\n",
       "              'r': [37.5, 38.405797101449274, 27.160493827160494, 31.25,\n",
       "                    32.70440251572327, 25.609756097560975, 37.5],\n",
       "              'theta': [Elementary 2-3, Elementary 4-5, Elementary 6-7, Elementary\n",
       "                        8-9, High School 1-2, High School 3-4, Elementary 2-3],\n",
       "              'type': 'scatterpolar'},\n",
       "             {'line': {'color': '#2ca02c', 'width': 4},\n",
       "              'name': 'anthropic/claude-3-opus',\n",
       "              'opacity': 0.4,\n",
       "              'r': [78.57142857142857, 65.94202898550725, 61.111111111111114,\n",
       "                    50.0, 45.28301886792453, 48.78048780487805, 78.57142857142857],\n",
       "              'theta': [Elementary 2-3, Elementary 4-5, Elementary 6-7, Elementary\n",
       "                        8-9, High School 1-2, High School 3-4, Elementary 2-3],\n",
       "              'type': 'scatterpolar'},\n",
       "             {'line': {'color': '#d62728', 'width': 4},\n",
       "              'name': 'anthropic/claude-3-sonnet',\n",
       "              'opacity': 0.4,\n",
       "              'r': [59.82142857142857, 60.86956521739131, 38.2716049382716, 45.0,\n",
       "                    33.9622641509434, 25.609756097560975, 59.82142857142857],\n",
       "              'theta': [Elementary 2-3, Elementary 4-5, Elementary 6-7, Elementary\n",
       "                        8-9, High School 1-2, High School 3-4, Elementary 2-3],\n",
       "              'type': 'scatterpolar'},\n",
       "             {'line': {'color': '#9467bd', 'width': 4},\n",
       "              'name': 'cohere/command-r',\n",
       "              'opacity': 0.4,\n",
       "              'r': [24.107142857142858, 28.26086956521739, 29.01234567901235,\n",
       "                    21.875, 24.528301886792452, 18.29268292682927,\n",
       "                    24.107142857142858],\n",
       "              'theta': [Elementary 2-3, Elementary 4-5, Elementary 6-7, Elementary\n",
       "                        8-9, High School 1-2, High School 3-4, Elementary 2-3],\n",
       "              'type': 'scatterpolar'},\n",
       "             {'line': {'color': '#8c564b', 'width': 4},\n",
       "              'name': 'google/gemini-pro',\n",
       "              'opacity': 0.4,\n",
       "              'r': [33.92857142857143, 28.985507246376812, 26.543209876543212,\n",
       "                    28.125, 30.18867924528302, 23.170731707317074,\n",
       "                    33.92857142857143],\n",
       "              'theta': [Elementary 2-3, Elementary 4-5, Elementary 6-7, Elementary\n",
       "                        8-9, High School 1-2, High School 3-4, Elementary 2-3],\n",
       "              'type': 'scatterpolar'},\n",
       "             {'line': {'color': '#e377c2', 'width': 4},\n",
       "              'name': 'google/gemma-7b-it',\n",
       "              'opacity': 0.4,\n",
       "              'r': [16.964285714285715, 15.942028985507244, 16.666666666666664,\n",
       "                    12.5, 20.125786163522015, 21.951219512195124,\n",
       "                    16.964285714285715],\n",
       "              'theta': [Elementary 2-3, Elementary 4-5, Elementary 6-7, Elementary\n",
       "                        8-9, High School 1-2, High School 3-4, Elementary 2-3],\n",
       "              'type': 'scatterpolar'},\n",
       "             {'line': {'color': '#7f7f7f', 'width': 4},\n",
       "              'name': 'mistralai/mistral-large',\n",
       "              'opacity': 0.4,\n",
       "              'r': [51.78571428571429, 53.62318840579711, 41.358024691358025,\n",
       "                    37.5, 35.22012578616352, 23.170731707317074, 51.78571428571429],\n",
       "              'theta': [Elementary 2-3, Elementary 4-5, Elementary 6-7, Elementary\n",
       "                        8-9, High School 1-2, High School 3-4, Elementary 2-3],\n",
       "              'type': 'scatterpolar'},\n",
       "             {'line': {'color': '#bcbd22', 'width': 4},\n",
       "              'name': 'mistralai/mistral-medium',\n",
       "              'opacity': 0.4,\n",
       "              'r': [39.285714285714285, 34.78260869565217, 28.39506172839506,\n",
       "                    24.375, 27.67295597484277, 21.951219512195124,\n",
       "                    39.285714285714285],\n",
       "              'theta': [Elementary 2-3, Elementary 4-5, Elementary 6-7, Elementary\n",
       "                        8-9, High School 1-2, High School 3-4, Elementary 2-3],\n",
       "              'type': 'scatterpolar'},\n",
       "             {'line': {'color': '#17becf', 'width': 4},\n",
       "              'name': 'mistralai/mixtral-8x7b-instruct',\n",
       "              'opacity': 0.4,\n",
       "              'r': [30.357142857142854, 34.05797101449276, 28.39506172839506,\n",
       "                    22.5, 22.0125786163522, 23.170731707317074, 30.357142857142854],\n",
       "              'theta': [Elementary 2-3, Elementary 4-5, Elementary 6-7, Elementary\n",
       "                        8-9, High School 1-2, High School 3-4, Elementary 2-3],\n",
       "              'type': 'scatterpolar'},\n",
       "             {'line': {'color': '#f7b6d2', 'width': 4},\n",
       "              'name': 'openai/gpt-3.5-turbo',\n",
       "              'opacity': 0.4,\n",
       "              'r': [40.17857142857143, 39.85507246376812, 33.95061728395062,\n",
       "                    31.874999999999996, 26.41509433962264, 19.51219512195122,\n",
       "                    40.17857142857143],\n",
       "              'theta': [Elementary 2-3, Elementary 4-5, Elementary 6-7, Elementary\n",
       "                        8-9, High School 1-2, High School 3-4, Elementary 2-3],\n",
       "              'type': 'scatterpolar'},\n",
       "             {'line': {'color': '#bcbd22', 'width': 4},\n",
       "              'name': 'openai/gpt-4-1106-preview',\n",
       "              'opacity': 0.4,\n",
       "              'r': [71.42857142857143, 69.56521739130434, 59.876543209876544,\n",
       "                    52.5, 50.314465408805034, 42.68292682926829, 71.42857142857143],\n",
       "              'theta': [Elementary 2-3, Elementary 4-5, Elementary 6-7, Elementary\n",
       "                        8-9, High School 1-2, High School 3-4, Elementary 2-3],\n",
       "              'type': 'scatterpolar'}],\n",
       "    'layout': {'font': {'color': '#333333', 'family': 'Arial', 'size': 16},\n",
       "               'height': 950,\n",
       "               'legend': {'orientation': 'h', 'x': 0.5, 'xanchor': 'center', 'y': -0.45, 'yanchor': 'bottom'},\n",
       "               'polar': {'angularaxis': {'direction': 'clockwise', 'gridwidth': 2, 'rotation': 90},\n",
       "                         'radialaxis': {'angle': 45,\n",
       "                                        'range': [0, 100],\n",
       "                                        'tickangle': 45,\n",
       "                                        'ticktext': [0%, 25%, 50%, 75%, 100%],\n",
       "                                        'tickvals': [0, 25, 50, 75, 100],\n",
       "                                        'visible': True}},\n",
       "               'template': '...',\n",
       "               'title': {'font': {'color': '#333333', 'size': 24},\n",
       "                         'text': 'Klokan-QA - Accuracy',\n",
       "                         'x': 0.5,\n",
       "                         'xanchor': 'center',\n",
       "                         'y': 0.97,\n",
       "                         'yanchor': 'top'},\n",
       "               'width': 600}\n",
       "})"
      ]
     },
     "execution_count": 44,
     "metadata": {},
     "output_type": "execute_result"
    }
   ],
   "source": [
    "import pandas as pd\n",
    "import plotly.graph_objects as go\n",
    "import pandas as pd\n",
    "\n",
    "import matplotlib.pyplot as plt\n",
    "\n",
    "# Combine all category accuracies into a single DataFrame\n",
    "\n",
    "\n",
    "categories = df.columns.tolist()\n",
    "categories = [*categories, categories[0]]  # Ensure the graph is circular by appending the start to the end\n",
    "colors = [\n",
    "    '#1f77b4',  # muted blue\n",
    "    '#ff7f0e',  # safety orange\n",
    "    '#2ca02c',  # cooked asparagus green\n",
    "    '#d62728',  # brick red\n",
    "    '#9467bd',  # muted purple\n",
    "    '#8c564b',  # chestnut brown\n",
    "    '#e377c2',  # raspberry yogurt pink\n",
    "    '#7f7f7f',  # middle gray\n",
    "    '#bcbd22',  # curry yellow-green\n",
    "    '#17becf',   # blue-teal\n",
    "    '#f7b6d2',  # pastel pink\n",
    "    '#bcbd22',  # faded green\n",
    "    '#dbdb8d',  # light olive\n",
    "    '#17becf',  # soft blue\n",
    "    '#9edae5',  # light blue\n",
    "    '#c5b0d5',  # soft purple\n",
    "    '#c49c94',  # dusty rose\n",
    "    '#f7b6d2',  # pastel pink\n",
    "    '#bcbd22',  # faded green\n",
    "    '#dbdb8d',  # light olive\n",
    "    '#17becf',  # soft blue\n",
    "    '#9edae5',  # light blue\n",
    "    '#c5b0d5',  # soft purple\n",
    "    '#c49c94',  # dusty rose\n",
    "]\n",
    "\n",
    "# Setting for 1000x1000\n",
    "fig_1000 = go.Figure()\n",
    "\n",
    "for i, (idx, row) in enumerate(df.iterrows()):\n",
    "    row = row.tolist() + [row[0]]  # Ensure the graph is circular by appending the start to the end\n",
    "    color = colors[i]\n",
    "    fig_1000.add_trace(go.Scatterpolar(\n",
    "        r=row,\n",
    "        theta=categories,\n",
    "        opacity=0.4,\n",
    "        name=idx,\n",
    "        line=dict(color=color, width=4),  # Adjust line width for better visibility\n",
    "    ))\n",
    "\n",
    "fig_1000.update_layout(\n",
    "    width=600,\n",
    "    height=950,\n",
    "    polar=dict(\n",
    "        angularaxis=dict(\n",
    "            gridwidth=2,  # Increase line width for better visibility\n",
    "            rotation=90,\n",
    "        direction='clockwise',\n",
    "\n",
    "        ),\n",
    "        radialaxis=dict(\n",
    "\n",
    "            visible=True,\n",
    "            range=[0, 100],\n",
    "            angle=45,\n",
    "            tickangle=45,\n",
    "            tickvals=[0, 25, 50, 75, 100],\n",
    "            ticktext=[\"0%\", \"25%\", \"50%\", \"75%\", \"100%\"],\n",
    "        ),\n",
    "    ),\n",
    "    title_text='Klokan-QA - Accuracy',\n",
    "    title_x=0.5,\n",
    "    title_y=0.97,\n",
    "    title_xanchor='center',\n",
    "    title_yanchor='top',\n",
    "    title_font_size=24,\n",
    "    title_font_color='#333333',\n",
    "    font=dict(\n",
    "        family='Arial',\n",
    "        size=16,\n",
    "        color='#333333'\n",
    "    ),\n",
    "    legend=dict(\n",
    "        orientation=\"h\",\n",
    "        yanchor=\"bottom\",\n",
    "        y=-0.45,\n",
    "        xanchor=\"center\",\n",
    "        x=0.5\n",
    "    )\n",
    ")\n",
    "\n",
    "\n",
    "\n",
    "\n"
   ]
  },
  {
   "cell_type": "code",
   "execution_count": 27,
   "metadata": {},
   "outputs": [
    {
     "name": "stderr",
     "output_type": "stream",
     "text": [
      "/var/folders/cj/cyw80lln0mz_9hlly0x3qvf80000gn/T/ipykernel_29817/1679758744.py:2: FutureWarning:\n",
      "\n",
      "The provided callable <function mean at 0x113346660> is currently using DataFrameGroupBy.mean. In a future version of pandas, the provided callable will be used directly. To keep current behavior pass the string \"mean\" instead.\n",
      "\n"
     ]
    }
   ],
   "source": [
    "import numpy as np\n",
    "df = pd.pivot_table(TSP_runs, values='metrics.accuracy', index=['params.model_name'], columns=['params.dataset_split'], aggfunc=np.mean)\n",
    "# Convert the values to percentages\n",
    "df = df * 100\n",
    "\n",
    "# Rename splits Culture -> Cultural overview\n",
    "# Analytical -> Analytical thinking\n",
    "# Verbal -> Verbal thinking\n",
    "# Critical -> Critical thinking\n",
    "\n",
    "df.rename(columns={\n",
    "    'Culture': 'Cultural',\n",
    "}, inplace=True)\n",
    "\n",
    "# Sort the rows by alpah\n",
    "# Sort the DataFrame by model name in alphabetical order\n",
    "df.sort_index(inplace=True)\n",
    "df.index.name = \"\"\n",
    "df.to_csv(\"leaderboard/tsp.csv\")\n"
   ]
  },
  {
   "cell_type": "code",
   "execution_count": null,
   "metadata": {},
   "outputs": [],
   "source": []
  },
  {
   "cell_type": "code",
   "execution_count": 38,
   "metadata": {},
   "outputs": [
    {
     "name": "stderr",
     "output_type": "stream",
     "text": [
      "/var/folders/cj/cyw80lln0mz_9hlly0x3qvf80000gn/T/ipykernel_29817/413848649.py:38: FutureWarning:\n",
      "\n",
      "Series.__getitem__ treating keys as positions is deprecated. In a future version, integer keys will always be treated as labels (consistent with DataFrame behavior). To access a value by position, use `ser.iloc[pos]`\n",
      "\n"
     ]
    },
    {
     "ename": "ValueError",
     "evalue": "Mime type rendering requires nbformat>=4.2.0 but it is not installed",
     "output_type": "error",
     "traceback": [
      "\u001b[0;31m---------------------------------------------------------------------------\u001b[0m",
      "\u001b[0;31mValueError\u001b[0m                                Traceback (most recent call last)",
      "File \u001b[0;32m~/Projects/LLM-Eval/.venv/lib/python3.12/site-packages/IPython/core/formatters.py:922\u001b[0m, in \u001b[0;36mIPythonDisplayFormatter.__call__\u001b[0;34m(self, obj)\u001b[0m\n\u001b[1;32m    920\u001b[0m method \u001b[38;5;241m=\u001b[39m get_real_method(obj, \u001b[38;5;28mself\u001b[39m\u001b[38;5;241m.\u001b[39mprint_method)\n\u001b[1;32m    921\u001b[0m \u001b[38;5;28;01mif\u001b[39;00m method \u001b[38;5;129;01mis\u001b[39;00m \u001b[38;5;129;01mnot\u001b[39;00m \u001b[38;5;28;01mNone\u001b[39;00m:\n\u001b[0;32m--> 922\u001b[0m     \u001b[43mmethod\u001b[49m\u001b[43m(\u001b[49m\u001b[43m)\u001b[49m\n\u001b[1;32m    923\u001b[0m     \u001b[38;5;28;01mreturn\u001b[39;00m \u001b[38;5;28;01mTrue\u001b[39;00m\n",
      "File \u001b[0;32m~/Projects/LLM-Eval/.venv/lib/python3.12/site-packages/plotly/basedatatypes.py:832\u001b[0m, in \u001b[0;36mBaseFigure._ipython_display_\u001b[0;34m(self)\u001b[0m\n\u001b[1;32m    829\u001b[0m \u001b[38;5;28;01mimport\u001b[39;00m \u001b[38;5;21;01mplotly\u001b[39;00m\u001b[38;5;21;01m.\u001b[39;00m\u001b[38;5;21;01mio\u001b[39;00m \u001b[38;5;28;01mas\u001b[39;00m \u001b[38;5;21;01mpio\u001b[39;00m\n\u001b[1;32m    831\u001b[0m \u001b[38;5;28;01mif\u001b[39;00m pio\u001b[38;5;241m.\u001b[39mrenderers\u001b[38;5;241m.\u001b[39mrender_on_display \u001b[38;5;129;01mand\u001b[39;00m pio\u001b[38;5;241m.\u001b[39mrenderers\u001b[38;5;241m.\u001b[39mdefault:\n\u001b[0;32m--> 832\u001b[0m     \u001b[43mpio\u001b[49m\u001b[38;5;241;43m.\u001b[39;49m\u001b[43mshow\u001b[49m\u001b[43m(\u001b[49m\u001b[38;5;28;43mself\u001b[39;49m\u001b[43m)\u001b[49m\n\u001b[1;32m    833\u001b[0m \u001b[38;5;28;01melse\u001b[39;00m:\n\u001b[1;32m    834\u001b[0m     \u001b[38;5;28mprint\u001b[39m(\u001b[38;5;28mrepr\u001b[39m(\u001b[38;5;28mself\u001b[39m))\n",
      "File \u001b[0;32m~/Projects/LLM-Eval/.venv/lib/python3.12/site-packages/plotly/io/_renderers.py:394\u001b[0m, in \u001b[0;36mshow\u001b[0;34m(fig, renderer, validate, **kwargs)\u001b[0m\n\u001b[1;32m    389\u001b[0m         \u001b[38;5;28;01mraise\u001b[39;00m \u001b[38;5;167;01mValueError\u001b[39;00m(\n\u001b[1;32m    390\u001b[0m             \u001b[38;5;124m\"\u001b[39m\u001b[38;5;124mMime type rendering requires ipython but it is not installed\u001b[39m\u001b[38;5;124m\"\u001b[39m\n\u001b[1;32m    391\u001b[0m         )\n\u001b[1;32m    393\u001b[0m     \u001b[38;5;28;01mif\u001b[39;00m \u001b[38;5;129;01mnot\u001b[39;00m nbformat \u001b[38;5;129;01mor\u001b[39;00m Version(nbformat\u001b[38;5;241m.\u001b[39m__version__) \u001b[38;5;241m<\u001b[39m Version(\u001b[38;5;124m\"\u001b[39m\u001b[38;5;124m4.2.0\u001b[39m\u001b[38;5;124m\"\u001b[39m):\n\u001b[0;32m--> 394\u001b[0m         \u001b[38;5;28;01mraise\u001b[39;00m \u001b[38;5;167;01mValueError\u001b[39;00m(\n\u001b[1;32m    395\u001b[0m             \u001b[38;5;124m\"\u001b[39m\u001b[38;5;124mMime type rendering requires nbformat>=4.2.0 but it is not installed\u001b[39m\u001b[38;5;124m\"\u001b[39m\n\u001b[1;32m    396\u001b[0m         )\n\u001b[1;32m    398\u001b[0m     ipython_display\u001b[38;5;241m.\u001b[39mdisplay(bundle, raw\u001b[38;5;241m=\u001b[39m\u001b[38;5;28;01mTrue\u001b[39;00m)\n\u001b[1;32m    400\u001b[0m \u001b[38;5;66;03m# external renderers\u001b[39;00m\n",
      "\u001b[0;31mValueError\u001b[0m: Mime type rendering requires nbformat>=4.2.0 but it is not installed"
     ]
    },
    {
     "data": {
      "application/vnd.plotly.v1+json": {
       "config": {
        "plotlyServerURL": "https://plot.ly"
       },
       "data": [
        {
         "line": {
          "color": "#1f77b4",
          "width": 4
         },
         "name": "anthropic/claude-2.1",
         "opacity": 0.4,
         "r": [
          38.04034582132565,
          64.49912126537785,
          79.81770833333334,
          63.36336336336337,
          38.04034582132565
         ],
         "theta": [
          "Analytical",
          "Critical",
          "Cultural",
          "Verbal",
          "Analytical"
         ],
         "type": "scatterpolar"
        },
        {
         "line": {
          "color": "#ff7f0e",
          "width": 4
         },
         "name": "anthropic/claude-3-haiku",
         "opacity": 0.4,
         "r": [
          33.23727185398655,
          60.45694200351493,
          81.640625,
          62.46246246246246,
          33.23727185398655
         ],
         "theta": [
          "Analytical",
          "Critical",
          "Cultural",
          "Verbal",
          "Analytical"
         ],
         "type": "scatterpolar"
        },
        {
         "line": {
          "color": "#2ca02c",
          "width": 4
         },
         "name": "anthropic/claude-3-opus",
         "opacity": 0.4,
         "r": [
          47.262247838616716,
          76.44991212653778,
          92.44791666666666,
          80.18018018018019,
          47.262247838616716
         ],
         "theta": [
          "Analytical",
          "Critical",
          "Cultural",
          "Verbal",
          "Analytical"
         ],
         "type": "scatterpolar"
        },
        {
         "line": {
          "color": "#d62728",
          "width": 4
         },
         "name": "anthropic/claude-3-sonnet",
         "opacity": 0.4,
         "r": [
          37.848222862632085,
          68.89279437609842,
          83.46354166666666,
          61.261261261261254,
          37.848222862632085
         ],
         "theta": [
          "Analytical",
          "Critical",
          "Cultural",
          "Verbal",
          "Analytical"
         ],
         "type": "scatterpolar"
        },
        {
         "line": {
          "color": "#9467bd",
          "width": 4
         },
         "name": "cohere/command-r",
         "opacity": 0.4,
         "r": [
          27.857829010566764,
          53.427065026362044,
          70.44270833333334,
          44.44444444444444,
          27.857829010566764
         ],
         "theta": [
          "Analytical",
          "Critical",
          "Cultural",
          "Verbal",
          "Analytical"
         ],
         "type": "scatterpolar"
        },
        {
         "line": {
          "color": "#8c564b",
          "width": 4
         },
         "name": "google/gemini-pro",
         "opacity": 0.4,
         "r": [
          28.914505283381363,
          60.98418277680141,
          80.72916666666666,
          60.96096096096096,
          28.914505283381363
         ],
         "theta": [
          "Analytical",
          "Critical",
          "Cultural",
          "Verbal",
          "Analytical"
         ],
         "type": "scatterpolar"
        },
        {
         "line": {
          "color": "#e377c2",
          "width": 4
         },
         "name": "google/gemma-7b-it",
         "opacity": 0.4,
         "r": [
          22.19020172910663,
          27.943760984182774,
          22.916666666666664,
          22.822822822822822,
          22.19020172910663
         ],
         "theta": [
          "Analytical",
          "Critical",
          "Cultural",
          "Verbal",
          "Analytical"
         ],
         "type": "scatterpolar"
        },
        {
         "line": {
          "color": "#7f7f7f",
          "width": 4
         },
         "name": "mistralai/mistral-large",
         "opacity": 0.4,
         "r": [
          38.52065321805956,
          66.78383128295255,
          85.9375,
          62.76276276276276,
          38.52065321805956
         ],
         "theta": [
          "Analytical",
          "Critical",
          "Cultural",
          "Verbal",
          "Analytical"
         ],
         "type": "scatterpolar"
        },
        {
         "line": {
          "color": "#bcbd22",
          "width": 4
         },
         "name": "mistralai/mistral-medium",
         "opacity": 0.4,
         "r": [
          31.21998078770413,
          59.57820738137083,
          77.34375,
          50.45045045045045,
          31.21998078770413
         ],
         "theta": [
          "Analytical",
          "Critical",
          "Cultural",
          "Verbal",
          "Analytical"
         ],
         "type": "scatterpolar"
        },
        {
         "line": {
          "color": "#17becf",
          "width": 4
         },
         "name": "mistralai/mixtral-8x7b-instruct",
         "opacity": 0.4,
         "r": [
          25.26416906820365,
          51.14235500878734,
          71.22395833333334,
          43.54354354354354,
          25.26416906820365
         ],
         "theta": [
          "Analytical",
          "Critical",
          "Cultural",
          "Verbal",
          "Analytical"
         ],
         "type": "scatterpolar"
        },
        {
         "line": {
          "color": "#f7b6d2",
          "width": 4
         },
         "name": "openai/gpt-3.5-turbo",
         "opacity": 0.4,
         "r": [
          30.45148895292987,
          49.91212653778559,
          72.13541666666666,
          44.74474474474475,
          30.45148895292987
         ],
         "theta": [
          "Analytical",
          "Critical",
          "Cultural",
          "Verbal",
          "Analytical"
         ],
         "type": "scatterpolar"
        },
        {
         "line": {
          "color": "#bcbd22",
          "width": 4
         },
         "name": "openai/gpt-4-1106-preview",
         "opacity": 0.4,
         "r": [
          51.5850144092219,
          70.65026362038664,
          90.234375,
          72.67267267267268,
          51.5850144092219
         ],
         "theta": [
          "Analytical",
          "Critical",
          "Cultural",
          "Verbal",
          "Analytical"
         ],
         "type": "scatterpolar"
        }
       ],
       "layout": {
        "font": {
         "color": "#333333",
         "family": "Arial",
         "size": 16
        },
        "height": 950,
        "legend": {
         "orientation": "h",
         "x": 0.5,
         "xanchor": "center",
         "y": -0.45,
         "yanchor": "bottom"
        },
        "polar": {
         "angularaxis": {
          "gridwidth": 2
         },
         "radialaxis": {
          "angle": 45,
          "range": [
           0,
           100
          ],
          "tickangle": 45,
          "ticktext": [
           "0%",
           "25%",
           "50%",
           "75%",
           "100%"
          ],
          "tickvals": [
           0,
           25,
           50,
           75,
           100
          ],
          "visible": true
         }
        },
        "template": {
         "data": {
          "bar": [
           {
            "error_x": {
             "color": "#2a3f5f"
            },
            "error_y": {
             "color": "#2a3f5f"
            },
            "marker": {
             "line": {
              "color": "#E5ECF6",
              "width": 0.5
             },
             "pattern": {
              "fillmode": "overlay",
              "size": 10,
              "solidity": 0.2
             }
            },
            "type": "bar"
           }
          ],
          "barpolar": [
           {
            "marker": {
             "line": {
              "color": "#E5ECF6",
              "width": 0.5
             },
             "pattern": {
              "fillmode": "overlay",
              "size": 10,
              "solidity": 0.2
             }
            },
            "type": "barpolar"
           }
          ],
          "carpet": [
           {
            "aaxis": {
             "endlinecolor": "#2a3f5f",
             "gridcolor": "white",
             "linecolor": "white",
             "minorgridcolor": "white",
             "startlinecolor": "#2a3f5f"
            },
            "baxis": {
             "endlinecolor": "#2a3f5f",
             "gridcolor": "white",
             "linecolor": "white",
             "minorgridcolor": "white",
             "startlinecolor": "#2a3f5f"
            },
            "type": "carpet"
           }
          ],
          "choropleth": [
           {
            "colorbar": {
             "outlinewidth": 0,
             "ticks": ""
            },
            "type": "choropleth"
           }
          ],
          "contour": [
           {
            "colorbar": {
             "outlinewidth": 0,
             "ticks": ""
            },
            "colorscale": [
             [
              0,
              "#0d0887"
             ],
             [
              0.1111111111111111,
              "#46039f"
             ],
             [
              0.2222222222222222,
              "#7201a8"
             ],
             [
              0.3333333333333333,
              "#9c179e"
             ],
             [
              0.4444444444444444,
              "#bd3786"
             ],
             [
              0.5555555555555556,
              "#d8576b"
             ],
             [
              0.6666666666666666,
              "#ed7953"
             ],
             [
              0.7777777777777778,
              "#fb9f3a"
             ],
             [
              0.8888888888888888,
              "#fdca26"
             ],
             [
              1,
              "#f0f921"
             ]
            ],
            "type": "contour"
           }
          ],
          "contourcarpet": [
           {
            "colorbar": {
             "outlinewidth": 0,
             "ticks": ""
            },
            "type": "contourcarpet"
           }
          ],
          "heatmap": [
           {
            "colorbar": {
             "outlinewidth": 0,
             "ticks": ""
            },
            "colorscale": [
             [
              0,
              "#0d0887"
             ],
             [
              0.1111111111111111,
              "#46039f"
             ],
             [
              0.2222222222222222,
              "#7201a8"
             ],
             [
              0.3333333333333333,
              "#9c179e"
             ],
             [
              0.4444444444444444,
              "#bd3786"
             ],
             [
              0.5555555555555556,
              "#d8576b"
             ],
             [
              0.6666666666666666,
              "#ed7953"
             ],
             [
              0.7777777777777778,
              "#fb9f3a"
             ],
             [
              0.8888888888888888,
              "#fdca26"
             ],
             [
              1,
              "#f0f921"
             ]
            ],
            "type": "heatmap"
           }
          ],
          "heatmapgl": [
           {
            "colorbar": {
             "outlinewidth": 0,
             "ticks": ""
            },
            "colorscale": [
             [
              0,
              "#0d0887"
             ],
             [
              0.1111111111111111,
              "#46039f"
             ],
             [
              0.2222222222222222,
              "#7201a8"
             ],
             [
              0.3333333333333333,
              "#9c179e"
             ],
             [
              0.4444444444444444,
              "#bd3786"
             ],
             [
              0.5555555555555556,
              "#d8576b"
             ],
             [
              0.6666666666666666,
              "#ed7953"
             ],
             [
              0.7777777777777778,
              "#fb9f3a"
             ],
             [
              0.8888888888888888,
              "#fdca26"
             ],
             [
              1,
              "#f0f921"
             ]
            ],
            "type": "heatmapgl"
           }
          ],
          "histogram": [
           {
            "marker": {
             "pattern": {
              "fillmode": "overlay",
              "size": 10,
              "solidity": 0.2
             }
            },
            "type": "histogram"
           }
          ],
          "histogram2d": [
           {
            "colorbar": {
             "outlinewidth": 0,
             "ticks": ""
            },
            "colorscale": [
             [
              0,
              "#0d0887"
             ],
             [
              0.1111111111111111,
              "#46039f"
             ],
             [
              0.2222222222222222,
              "#7201a8"
             ],
             [
              0.3333333333333333,
              "#9c179e"
             ],
             [
              0.4444444444444444,
              "#bd3786"
             ],
             [
              0.5555555555555556,
              "#d8576b"
             ],
             [
              0.6666666666666666,
              "#ed7953"
             ],
             [
              0.7777777777777778,
              "#fb9f3a"
             ],
             [
              0.8888888888888888,
              "#fdca26"
             ],
             [
              1,
              "#f0f921"
             ]
            ],
            "type": "histogram2d"
           }
          ],
          "histogram2dcontour": [
           {
            "colorbar": {
             "outlinewidth": 0,
             "ticks": ""
            },
            "colorscale": [
             [
              0,
              "#0d0887"
             ],
             [
              0.1111111111111111,
              "#46039f"
             ],
             [
              0.2222222222222222,
              "#7201a8"
             ],
             [
              0.3333333333333333,
              "#9c179e"
             ],
             [
              0.4444444444444444,
              "#bd3786"
             ],
             [
              0.5555555555555556,
              "#d8576b"
             ],
             [
              0.6666666666666666,
              "#ed7953"
             ],
             [
              0.7777777777777778,
              "#fb9f3a"
             ],
             [
              0.8888888888888888,
              "#fdca26"
             ],
             [
              1,
              "#f0f921"
             ]
            ],
            "type": "histogram2dcontour"
           }
          ],
          "mesh3d": [
           {
            "colorbar": {
             "outlinewidth": 0,
             "ticks": ""
            },
            "type": "mesh3d"
           }
          ],
          "parcoords": [
           {
            "line": {
             "colorbar": {
              "outlinewidth": 0,
              "ticks": ""
             }
            },
            "type": "parcoords"
           }
          ],
          "pie": [
           {
            "automargin": true,
            "type": "pie"
           }
          ],
          "scatter": [
           {
            "fillpattern": {
             "fillmode": "overlay",
             "size": 10,
             "solidity": 0.2
            },
            "type": "scatter"
           }
          ],
          "scatter3d": [
           {
            "line": {
             "colorbar": {
              "outlinewidth": 0,
              "ticks": ""
             }
            },
            "marker": {
             "colorbar": {
              "outlinewidth": 0,
              "ticks": ""
             }
            },
            "type": "scatter3d"
           }
          ],
          "scattercarpet": [
           {
            "marker": {
             "colorbar": {
              "outlinewidth": 0,
              "ticks": ""
             }
            },
            "type": "scattercarpet"
           }
          ],
          "scattergeo": [
           {
            "marker": {
             "colorbar": {
              "outlinewidth": 0,
              "ticks": ""
             }
            },
            "type": "scattergeo"
           }
          ],
          "scattergl": [
           {
            "marker": {
             "colorbar": {
              "outlinewidth": 0,
              "ticks": ""
             }
            },
            "type": "scattergl"
           }
          ],
          "scattermapbox": [
           {
            "marker": {
             "colorbar": {
              "outlinewidth": 0,
              "ticks": ""
             }
            },
            "type": "scattermapbox"
           }
          ],
          "scatterpolar": [
           {
            "marker": {
             "colorbar": {
              "outlinewidth": 0,
              "ticks": ""
             }
            },
            "type": "scatterpolar"
           }
          ],
          "scatterpolargl": [
           {
            "marker": {
             "colorbar": {
              "outlinewidth": 0,
              "ticks": ""
             }
            },
            "type": "scatterpolargl"
           }
          ],
          "scatterternary": [
           {
            "marker": {
             "colorbar": {
              "outlinewidth": 0,
              "ticks": ""
             }
            },
            "type": "scatterternary"
           }
          ],
          "surface": [
           {
            "colorbar": {
             "outlinewidth": 0,
             "ticks": ""
            },
            "colorscale": [
             [
              0,
              "#0d0887"
             ],
             [
              0.1111111111111111,
              "#46039f"
             ],
             [
              0.2222222222222222,
              "#7201a8"
             ],
             [
              0.3333333333333333,
              "#9c179e"
             ],
             [
              0.4444444444444444,
              "#bd3786"
             ],
             [
              0.5555555555555556,
              "#d8576b"
             ],
             [
              0.6666666666666666,
              "#ed7953"
             ],
             [
              0.7777777777777778,
              "#fb9f3a"
             ],
             [
              0.8888888888888888,
              "#fdca26"
             ],
             [
              1,
              "#f0f921"
             ]
            ],
            "type": "surface"
           }
          ],
          "table": [
           {
            "cells": {
             "fill": {
              "color": "#EBF0F8"
             },
             "line": {
              "color": "white"
             }
            },
            "header": {
             "fill": {
              "color": "#C8D4E3"
             },
             "line": {
              "color": "white"
             }
            },
            "type": "table"
           }
          ]
         },
         "layout": {
          "annotationdefaults": {
           "arrowcolor": "#2a3f5f",
           "arrowhead": 0,
           "arrowwidth": 1
          },
          "autotypenumbers": "strict",
          "coloraxis": {
           "colorbar": {
            "outlinewidth": 0,
            "ticks": ""
           }
          },
          "colorscale": {
           "diverging": [
            [
             0,
             "#8e0152"
            ],
            [
             0.1,
             "#c51b7d"
            ],
            [
             0.2,
             "#de77ae"
            ],
            [
             0.3,
             "#f1b6da"
            ],
            [
             0.4,
             "#fde0ef"
            ],
            [
             0.5,
             "#f7f7f7"
            ],
            [
             0.6,
             "#e6f5d0"
            ],
            [
             0.7,
             "#b8e186"
            ],
            [
             0.8,
             "#7fbc41"
            ],
            [
             0.9,
             "#4d9221"
            ],
            [
             1,
             "#276419"
            ]
           ],
           "sequential": [
            [
             0,
             "#0d0887"
            ],
            [
             0.1111111111111111,
             "#46039f"
            ],
            [
             0.2222222222222222,
             "#7201a8"
            ],
            [
             0.3333333333333333,
             "#9c179e"
            ],
            [
             0.4444444444444444,
             "#bd3786"
            ],
            [
             0.5555555555555556,
             "#d8576b"
            ],
            [
             0.6666666666666666,
             "#ed7953"
            ],
            [
             0.7777777777777778,
             "#fb9f3a"
            ],
            [
             0.8888888888888888,
             "#fdca26"
            ],
            [
             1,
             "#f0f921"
            ]
           ],
           "sequentialminus": [
            [
             0,
             "#0d0887"
            ],
            [
             0.1111111111111111,
             "#46039f"
            ],
            [
             0.2222222222222222,
             "#7201a8"
            ],
            [
             0.3333333333333333,
             "#9c179e"
            ],
            [
             0.4444444444444444,
             "#bd3786"
            ],
            [
             0.5555555555555556,
             "#d8576b"
            ],
            [
             0.6666666666666666,
             "#ed7953"
            ],
            [
             0.7777777777777778,
             "#fb9f3a"
            ],
            [
             0.8888888888888888,
             "#fdca26"
            ],
            [
             1,
             "#f0f921"
            ]
           ]
          },
          "colorway": [
           "#636efa",
           "#EF553B",
           "#00cc96",
           "#ab63fa",
           "#FFA15A",
           "#19d3f3",
           "#FF6692",
           "#B6E880",
           "#FF97FF",
           "#FECB52"
          ],
          "font": {
           "color": "#2a3f5f"
          },
          "geo": {
           "bgcolor": "white",
           "lakecolor": "white",
           "landcolor": "#E5ECF6",
           "showlakes": true,
           "showland": true,
           "subunitcolor": "white"
          },
          "hoverlabel": {
           "align": "left"
          },
          "hovermode": "closest",
          "mapbox": {
           "style": "light"
          },
          "paper_bgcolor": "white",
          "plot_bgcolor": "#E5ECF6",
          "polar": {
           "angularaxis": {
            "gridcolor": "white",
            "linecolor": "white",
            "ticks": ""
           },
           "bgcolor": "#E5ECF6",
           "radialaxis": {
            "gridcolor": "white",
            "linecolor": "white",
            "ticks": ""
           }
          },
          "scene": {
           "xaxis": {
            "backgroundcolor": "#E5ECF6",
            "gridcolor": "white",
            "gridwidth": 2,
            "linecolor": "white",
            "showbackground": true,
            "ticks": "",
            "zerolinecolor": "white"
           },
           "yaxis": {
            "backgroundcolor": "#E5ECF6",
            "gridcolor": "white",
            "gridwidth": 2,
            "linecolor": "white",
            "showbackground": true,
            "ticks": "",
            "zerolinecolor": "white"
           },
           "zaxis": {
            "backgroundcolor": "#E5ECF6",
            "gridcolor": "white",
            "gridwidth": 2,
            "linecolor": "white",
            "showbackground": true,
            "ticks": "",
            "zerolinecolor": "white"
           }
          },
          "shapedefaults": {
           "line": {
            "color": "#2a3f5f"
           }
          },
          "ternary": {
           "aaxis": {
            "gridcolor": "white",
            "linecolor": "white",
            "ticks": ""
           },
           "baxis": {
            "gridcolor": "white",
            "linecolor": "white",
            "ticks": ""
           },
           "bgcolor": "#E5ECF6",
           "caxis": {
            "gridcolor": "white",
            "linecolor": "white",
            "ticks": ""
           }
          },
          "title": {
           "x": 0.05
          },
          "xaxis": {
           "automargin": true,
           "gridcolor": "white",
           "linecolor": "white",
           "ticks": "",
           "title": {
            "standoff": 15
           },
           "zerolinecolor": "white",
           "zerolinewidth": 2
          },
          "yaxis": {
           "automargin": true,
           "gridcolor": "white",
           "linecolor": "white",
           "ticks": "",
           "title": {
            "standoff": 15
           },
           "zerolinecolor": "white",
           "zerolinewidth": 2
          }
         }
        },
        "title": {
         "font": {
          "color": "#333333",
          "size": 24
         },
         "text": "TSP-QA - Accuracy",
         "x": 0.5,
         "xanchor": "center",
         "y": 0.97,
         "yanchor": "top"
        },
        "width": 600
       }
      },
      "text/html": [
       "<div>                        <script type=\"text/javascript\">window.PlotlyConfig = {MathJaxConfig: 'local'};</script>\n",
       "        <script charset=\"utf-8\" src=\"https://cdn.plot.ly/plotly-2.30.0.min.js\"></script>                <div id=\"b2d81cad-fd94-4c8e-a65f-6dbc0673fdb4\" class=\"plotly-graph-div\" style=\"height:950px; width:600px;\"></div>            <script type=\"text/javascript\">                                    window.PLOTLYENV=window.PLOTLYENV || {};                                    if (document.getElementById(\"b2d81cad-fd94-4c8e-a65f-6dbc0673fdb4\")) {                    Plotly.newPlot(                        \"b2d81cad-fd94-4c8e-a65f-6dbc0673fdb4\",                        [{\"line\":{\"color\":\"#1f77b4\",\"width\":4},\"name\":\"anthropic\\u002fclaude-2.1\",\"opacity\":0.4,\"r\":[38.04034582132565,64.49912126537785,79.81770833333334,63.36336336336337,38.04034582132565],\"theta\":[\"Analytical\",\"Critical\",\"Cultural\",\"Verbal\",\"Analytical\"],\"type\":\"scatterpolar\"},{\"line\":{\"color\":\"#ff7f0e\",\"width\":4},\"name\":\"anthropic\\u002fclaude-3-haiku\",\"opacity\":0.4,\"r\":[33.23727185398655,60.45694200351493,81.640625,62.46246246246246,33.23727185398655],\"theta\":[\"Analytical\",\"Critical\",\"Cultural\",\"Verbal\",\"Analytical\"],\"type\":\"scatterpolar\"},{\"line\":{\"color\":\"#2ca02c\",\"width\":4},\"name\":\"anthropic\\u002fclaude-3-opus\",\"opacity\":0.4,\"r\":[47.262247838616716,76.44991212653778,92.44791666666666,80.18018018018019,47.262247838616716],\"theta\":[\"Analytical\",\"Critical\",\"Cultural\",\"Verbal\",\"Analytical\"],\"type\":\"scatterpolar\"},{\"line\":{\"color\":\"#d62728\",\"width\":4},\"name\":\"anthropic\\u002fclaude-3-sonnet\",\"opacity\":0.4,\"r\":[37.848222862632085,68.89279437609842,83.46354166666666,61.261261261261254,37.848222862632085],\"theta\":[\"Analytical\",\"Critical\",\"Cultural\",\"Verbal\",\"Analytical\"],\"type\":\"scatterpolar\"},{\"line\":{\"color\":\"#9467bd\",\"width\":4},\"name\":\"cohere\\u002fcommand-r\",\"opacity\":0.4,\"r\":[27.857829010566764,53.427065026362044,70.44270833333334,44.44444444444444,27.857829010566764],\"theta\":[\"Analytical\",\"Critical\",\"Cultural\",\"Verbal\",\"Analytical\"],\"type\":\"scatterpolar\"},{\"line\":{\"color\":\"#8c564b\",\"width\":4},\"name\":\"google\\u002fgemini-pro\",\"opacity\":0.4,\"r\":[28.914505283381363,60.98418277680141,80.72916666666666,60.96096096096096,28.914505283381363],\"theta\":[\"Analytical\",\"Critical\",\"Cultural\",\"Verbal\",\"Analytical\"],\"type\":\"scatterpolar\"},{\"line\":{\"color\":\"#e377c2\",\"width\":4},\"name\":\"google\\u002fgemma-7b-it\",\"opacity\":0.4,\"r\":[22.19020172910663,27.943760984182774,22.916666666666664,22.822822822822822,22.19020172910663],\"theta\":[\"Analytical\",\"Critical\",\"Cultural\",\"Verbal\",\"Analytical\"],\"type\":\"scatterpolar\"},{\"line\":{\"color\":\"#7f7f7f\",\"width\":4},\"name\":\"mistralai\\u002fmistral-large\",\"opacity\":0.4,\"r\":[38.52065321805956,66.78383128295255,85.9375,62.76276276276276,38.52065321805956],\"theta\":[\"Analytical\",\"Critical\",\"Cultural\",\"Verbal\",\"Analytical\"],\"type\":\"scatterpolar\"},{\"line\":{\"color\":\"#bcbd22\",\"width\":4},\"name\":\"mistralai\\u002fmistral-medium\",\"opacity\":0.4,\"r\":[31.21998078770413,59.57820738137083,77.34375,50.45045045045045,31.21998078770413],\"theta\":[\"Analytical\",\"Critical\",\"Cultural\",\"Verbal\",\"Analytical\"],\"type\":\"scatterpolar\"},{\"line\":{\"color\":\"#17becf\",\"width\":4},\"name\":\"mistralai\\u002fmixtral-8x7b-instruct\",\"opacity\":0.4,\"r\":[25.26416906820365,51.14235500878734,71.22395833333334,43.54354354354354,25.26416906820365],\"theta\":[\"Analytical\",\"Critical\",\"Cultural\",\"Verbal\",\"Analytical\"],\"type\":\"scatterpolar\"},{\"line\":{\"color\":\"#f7b6d2\",\"width\":4},\"name\":\"openai\\u002fgpt-3.5-turbo\",\"opacity\":0.4,\"r\":[30.45148895292987,49.91212653778559,72.13541666666666,44.74474474474475,30.45148895292987],\"theta\":[\"Analytical\",\"Critical\",\"Cultural\",\"Verbal\",\"Analytical\"],\"type\":\"scatterpolar\"},{\"line\":{\"color\":\"#bcbd22\",\"width\":4},\"name\":\"openai\\u002fgpt-4-1106-preview\",\"opacity\":0.4,\"r\":[51.5850144092219,70.65026362038664,90.234375,72.67267267267268,51.5850144092219],\"theta\":[\"Analytical\",\"Critical\",\"Cultural\",\"Verbal\",\"Analytical\"],\"type\":\"scatterpolar\"}],                        {\"template\":{\"data\":{\"histogram2dcontour\":[{\"type\":\"histogram2dcontour\",\"colorbar\":{\"outlinewidth\":0,\"ticks\":\"\"},\"colorscale\":[[0.0,\"#0d0887\"],[0.1111111111111111,\"#46039f\"],[0.2222222222222222,\"#7201a8\"],[0.3333333333333333,\"#9c179e\"],[0.4444444444444444,\"#bd3786\"],[0.5555555555555556,\"#d8576b\"],[0.6666666666666666,\"#ed7953\"],[0.7777777777777778,\"#fb9f3a\"],[0.8888888888888888,\"#fdca26\"],[1.0,\"#f0f921\"]]}],\"choropleth\":[{\"type\":\"choropleth\",\"colorbar\":{\"outlinewidth\":0,\"ticks\":\"\"}}],\"histogram2d\":[{\"type\":\"histogram2d\",\"colorbar\":{\"outlinewidth\":0,\"ticks\":\"\"},\"colorscale\":[[0.0,\"#0d0887\"],[0.1111111111111111,\"#46039f\"],[0.2222222222222222,\"#7201a8\"],[0.3333333333333333,\"#9c179e\"],[0.4444444444444444,\"#bd3786\"],[0.5555555555555556,\"#d8576b\"],[0.6666666666666666,\"#ed7953\"],[0.7777777777777778,\"#fb9f3a\"],[0.8888888888888888,\"#fdca26\"],[1.0,\"#f0f921\"]]}],\"heatmap\":[{\"type\":\"heatmap\",\"colorbar\":{\"outlinewidth\":0,\"ticks\":\"\"},\"colorscale\":[[0.0,\"#0d0887\"],[0.1111111111111111,\"#46039f\"],[0.2222222222222222,\"#7201a8\"],[0.3333333333333333,\"#9c179e\"],[0.4444444444444444,\"#bd3786\"],[0.5555555555555556,\"#d8576b\"],[0.6666666666666666,\"#ed7953\"],[0.7777777777777778,\"#fb9f3a\"],[0.8888888888888888,\"#fdca26\"],[1.0,\"#f0f921\"]]}],\"heatmapgl\":[{\"type\":\"heatmapgl\",\"colorbar\":{\"outlinewidth\":0,\"ticks\":\"\"},\"colorscale\":[[0.0,\"#0d0887\"],[0.1111111111111111,\"#46039f\"],[0.2222222222222222,\"#7201a8\"],[0.3333333333333333,\"#9c179e\"],[0.4444444444444444,\"#bd3786\"],[0.5555555555555556,\"#d8576b\"],[0.6666666666666666,\"#ed7953\"],[0.7777777777777778,\"#fb9f3a\"],[0.8888888888888888,\"#fdca26\"],[1.0,\"#f0f921\"]]}],\"contourcarpet\":[{\"type\":\"contourcarpet\",\"colorbar\":{\"outlinewidth\":0,\"ticks\":\"\"}}],\"contour\":[{\"type\":\"contour\",\"colorbar\":{\"outlinewidth\":0,\"ticks\":\"\"},\"colorscale\":[[0.0,\"#0d0887\"],[0.1111111111111111,\"#46039f\"],[0.2222222222222222,\"#7201a8\"],[0.3333333333333333,\"#9c179e\"],[0.4444444444444444,\"#bd3786\"],[0.5555555555555556,\"#d8576b\"],[0.6666666666666666,\"#ed7953\"],[0.7777777777777778,\"#fb9f3a\"],[0.8888888888888888,\"#fdca26\"],[1.0,\"#f0f921\"]]}],\"surface\":[{\"type\":\"surface\",\"colorbar\":{\"outlinewidth\":0,\"ticks\":\"\"},\"colorscale\":[[0.0,\"#0d0887\"],[0.1111111111111111,\"#46039f\"],[0.2222222222222222,\"#7201a8\"],[0.3333333333333333,\"#9c179e\"],[0.4444444444444444,\"#bd3786\"],[0.5555555555555556,\"#d8576b\"],[0.6666666666666666,\"#ed7953\"],[0.7777777777777778,\"#fb9f3a\"],[0.8888888888888888,\"#fdca26\"],[1.0,\"#f0f921\"]]}],\"mesh3d\":[{\"type\":\"mesh3d\",\"colorbar\":{\"outlinewidth\":0,\"ticks\":\"\"}}],\"scatter\":[{\"fillpattern\":{\"fillmode\":\"overlay\",\"size\":10,\"solidity\":0.2},\"type\":\"scatter\"}],\"parcoords\":[{\"type\":\"parcoords\",\"line\":{\"colorbar\":{\"outlinewidth\":0,\"ticks\":\"\"}}}],\"scatterpolargl\":[{\"type\":\"scatterpolargl\",\"marker\":{\"colorbar\":{\"outlinewidth\":0,\"ticks\":\"\"}}}],\"bar\":[{\"error_x\":{\"color\":\"#2a3f5f\"},\"error_y\":{\"color\":\"#2a3f5f\"},\"marker\":{\"line\":{\"color\":\"#E5ECF6\",\"width\":0.5},\"pattern\":{\"fillmode\":\"overlay\",\"size\":10,\"solidity\":0.2}},\"type\":\"bar\"}],\"scattergeo\":[{\"type\":\"scattergeo\",\"marker\":{\"colorbar\":{\"outlinewidth\":0,\"ticks\":\"\"}}}],\"scatterpolar\":[{\"type\":\"scatterpolar\",\"marker\":{\"colorbar\":{\"outlinewidth\":0,\"ticks\":\"\"}}}],\"histogram\":[{\"marker\":{\"pattern\":{\"fillmode\":\"overlay\",\"size\":10,\"solidity\":0.2}},\"type\":\"histogram\"}],\"scattergl\":[{\"type\":\"scattergl\",\"marker\":{\"colorbar\":{\"outlinewidth\":0,\"ticks\":\"\"}}}],\"scatter3d\":[{\"type\":\"scatter3d\",\"line\":{\"colorbar\":{\"outlinewidth\":0,\"ticks\":\"\"}},\"marker\":{\"colorbar\":{\"outlinewidth\":0,\"ticks\":\"\"}}}],\"scattermapbox\":[{\"type\":\"scattermapbox\",\"marker\":{\"colorbar\":{\"outlinewidth\":0,\"ticks\":\"\"}}}],\"scatterternary\":[{\"type\":\"scatterternary\",\"marker\":{\"colorbar\":{\"outlinewidth\":0,\"ticks\":\"\"}}}],\"scattercarpet\":[{\"type\":\"scattercarpet\",\"marker\":{\"colorbar\":{\"outlinewidth\":0,\"ticks\":\"\"}}}],\"carpet\":[{\"aaxis\":{\"endlinecolor\":\"#2a3f5f\",\"gridcolor\":\"white\",\"linecolor\":\"white\",\"minorgridcolor\":\"white\",\"startlinecolor\":\"#2a3f5f\"},\"baxis\":{\"endlinecolor\":\"#2a3f5f\",\"gridcolor\":\"white\",\"linecolor\":\"white\",\"minorgridcolor\":\"white\",\"startlinecolor\":\"#2a3f5f\"},\"type\":\"carpet\"}],\"table\":[{\"cells\":{\"fill\":{\"color\":\"#EBF0F8\"},\"line\":{\"color\":\"white\"}},\"header\":{\"fill\":{\"color\":\"#C8D4E3\"},\"line\":{\"color\":\"white\"}},\"type\":\"table\"}],\"barpolar\":[{\"marker\":{\"line\":{\"color\":\"#E5ECF6\",\"width\":0.5},\"pattern\":{\"fillmode\":\"overlay\",\"size\":10,\"solidity\":0.2}},\"type\":\"barpolar\"}],\"pie\":[{\"automargin\":true,\"type\":\"pie\"}]},\"layout\":{\"autotypenumbers\":\"strict\",\"colorway\":[\"#636efa\",\"#EF553B\",\"#00cc96\",\"#ab63fa\",\"#FFA15A\",\"#19d3f3\",\"#FF6692\",\"#B6E880\",\"#FF97FF\",\"#FECB52\"],\"font\":{\"color\":\"#2a3f5f\"},\"hovermode\":\"closest\",\"hoverlabel\":{\"align\":\"left\"},\"paper_bgcolor\":\"white\",\"plot_bgcolor\":\"#E5ECF6\",\"polar\":{\"bgcolor\":\"#E5ECF6\",\"angularaxis\":{\"gridcolor\":\"white\",\"linecolor\":\"white\",\"ticks\":\"\"},\"radialaxis\":{\"gridcolor\":\"white\",\"linecolor\":\"white\",\"ticks\":\"\"}},\"ternary\":{\"bgcolor\":\"#E5ECF6\",\"aaxis\":{\"gridcolor\":\"white\",\"linecolor\":\"white\",\"ticks\":\"\"},\"baxis\":{\"gridcolor\":\"white\",\"linecolor\":\"white\",\"ticks\":\"\"},\"caxis\":{\"gridcolor\":\"white\",\"linecolor\":\"white\",\"ticks\":\"\"}},\"coloraxis\":{\"colorbar\":{\"outlinewidth\":0,\"ticks\":\"\"}},\"colorscale\":{\"sequential\":[[0.0,\"#0d0887\"],[0.1111111111111111,\"#46039f\"],[0.2222222222222222,\"#7201a8\"],[0.3333333333333333,\"#9c179e\"],[0.4444444444444444,\"#bd3786\"],[0.5555555555555556,\"#d8576b\"],[0.6666666666666666,\"#ed7953\"],[0.7777777777777778,\"#fb9f3a\"],[0.8888888888888888,\"#fdca26\"],[1.0,\"#f0f921\"]],\"sequentialminus\":[[0.0,\"#0d0887\"],[0.1111111111111111,\"#46039f\"],[0.2222222222222222,\"#7201a8\"],[0.3333333333333333,\"#9c179e\"],[0.4444444444444444,\"#bd3786\"],[0.5555555555555556,\"#d8576b\"],[0.6666666666666666,\"#ed7953\"],[0.7777777777777778,\"#fb9f3a\"],[0.8888888888888888,\"#fdca26\"],[1.0,\"#f0f921\"]],\"diverging\":[[0,\"#8e0152\"],[0.1,\"#c51b7d\"],[0.2,\"#de77ae\"],[0.3,\"#f1b6da\"],[0.4,\"#fde0ef\"],[0.5,\"#f7f7f7\"],[0.6,\"#e6f5d0\"],[0.7,\"#b8e186\"],[0.8,\"#7fbc41\"],[0.9,\"#4d9221\"],[1,\"#276419\"]]},\"xaxis\":{\"gridcolor\":\"white\",\"linecolor\":\"white\",\"ticks\":\"\",\"title\":{\"standoff\":15},\"zerolinecolor\":\"white\",\"automargin\":true,\"zerolinewidth\":2},\"yaxis\":{\"gridcolor\":\"white\",\"linecolor\":\"white\",\"ticks\":\"\",\"title\":{\"standoff\":15},\"zerolinecolor\":\"white\",\"automargin\":true,\"zerolinewidth\":2},\"scene\":{\"xaxis\":{\"backgroundcolor\":\"#E5ECF6\",\"gridcolor\":\"white\",\"linecolor\":\"white\",\"showbackground\":true,\"ticks\":\"\",\"zerolinecolor\":\"white\",\"gridwidth\":2},\"yaxis\":{\"backgroundcolor\":\"#E5ECF6\",\"gridcolor\":\"white\",\"linecolor\":\"white\",\"showbackground\":true,\"ticks\":\"\",\"zerolinecolor\":\"white\",\"gridwidth\":2},\"zaxis\":{\"backgroundcolor\":\"#E5ECF6\",\"gridcolor\":\"white\",\"linecolor\":\"white\",\"showbackground\":true,\"ticks\":\"\",\"zerolinecolor\":\"white\",\"gridwidth\":2}},\"shapedefaults\":{\"line\":{\"color\":\"#2a3f5f\"}},\"annotationdefaults\":{\"arrowcolor\":\"#2a3f5f\",\"arrowhead\":0,\"arrowwidth\":1},\"geo\":{\"bgcolor\":\"white\",\"landcolor\":\"#E5ECF6\",\"subunitcolor\":\"white\",\"showland\":true,\"showlakes\":true,\"lakecolor\":\"white\"},\"title\":{\"x\":0.05},\"mapbox\":{\"style\":\"light\"}}},\"polar\":{\"angularaxis\":{\"gridwidth\":2},\"radialaxis\":{\"visible\":true,\"range\":[0,100],\"angle\":45,\"tickangle\":45,\"tickvals\":[0,25,50,75,100],\"ticktext\":[\"0%\",\"25%\",\"50%\",\"75%\",\"100%\"]}},\"title\":{\"font\":{\"size\":24,\"color\":\"#333333\"},\"text\":\"TSP-QA - Accuracy\",\"x\":0.5,\"y\":0.97,\"xanchor\":\"center\",\"yanchor\":\"top\"},\"font\":{\"family\":\"Arial\",\"size\":16,\"color\":\"#333333\"},\"legend\":{\"orientation\":\"h\",\"yanchor\":\"bottom\",\"y\":-0.45,\"xanchor\":\"center\",\"x\":0.5},\"width\":600,\"height\":950},                        {\"responsive\": true}                    )                };                            </script>        </div>"
      ],
      "text/plain": [
       "Figure({\n",
       "    'data': [{'line': {'color': '#1f77b4', 'width': 4},\n",
       "              'name': 'anthropic/claude-2.1',\n",
       "              'opacity': 0.4,\n",
       "              'r': [38.04034582132565, 64.49912126537785, 79.81770833333334,\n",
       "                    63.36336336336337, 38.04034582132565],\n",
       "              'theta': [Analytical, Critical, Cultural, Verbal, Analytical],\n",
       "              'type': 'scatterpolar'},\n",
       "             {'line': {'color': '#ff7f0e', 'width': 4},\n",
       "              'name': 'anthropic/claude-3-haiku',\n",
       "              'opacity': 0.4,\n",
       "              'r': [33.23727185398655, 60.45694200351493, 81.640625,\n",
       "                    62.46246246246246, 33.23727185398655],\n",
       "              'theta': [Analytical, Critical, Cultural, Verbal, Analytical],\n",
       "              'type': 'scatterpolar'},\n",
       "             {'line': {'color': '#2ca02c', 'width': 4},\n",
       "              'name': 'anthropic/claude-3-opus',\n",
       "              'opacity': 0.4,\n",
       "              'r': [47.262247838616716, 76.44991212653778, 92.44791666666666,\n",
       "                    80.18018018018019, 47.262247838616716],\n",
       "              'theta': [Analytical, Critical, Cultural, Verbal, Analytical],\n",
       "              'type': 'scatterpolar'},\n",
       "             {'line': {'color': '#d62728', 'width': 4},\n",
       "              'name': 'anthropic/claude-3-sonnet',\n",
       "              'opacity': 0.4,\n",
       "              'r': [37.848222862632085, 68.89279437609842, 83.46354166666666,\n",
       "                    61.261261261261254, 37.848222862632085],\n",
       "              'theta': [Analytical, Critical, Cultural, Verbal, Analytical],\n",
       "              'type': 'scatterpolar'},\n",
       "             {'line': {'color': '#9467bd', 'width': 4},\n",
       "              'name': 'cohere/command-r',\n",
       "              'opacity': 0.4,\n",
       "              'r': [27.857829010566764, 53.427065026362044, 70.44270833333334,\n",
       "                    44.44444444444444, 27.857829010566764],\n",
       "              'theta': [Analytical, Critical, Cultural, Verbal, Analytical],\n",
       "              'type': 'scatterpolar'},\n",
       "             {'line': {'color': '#8c564b', 'width': 4},\n",
       "              'name': 'google/gemini-pro',\n",
       "              'opacity': 0.4,\n",
       "              'r': [28.914505283381363, 60.98418277680141, 80.72916666666666,\n",
       "                    60.96096096096096, 28.914505283381363],\n",
       "              'theta': [Analytical, Critical, Cultural, Verbal, Analytical],\n",
       "              'type': 'scatterpolar'},\n",
       "             {'line': {'color': '#e377c2', 'width': 4},\n",
       "              'name': 'google/gemma-7b-it',\n",
       "              'opacity': 0.4,\n",
       "              'r': [22.19020172910663, 27.943760984182774, 22.916666666666664,\n",
       "                    22.822822822822822, 22.19020172910663],\n",
       "              'theta': [Analytical, Critical, Cultural, Verbal, Analytical],\n",
       "              'type': 'scatterpolar'},\n",
       "             {'line': {'color': '#7f7f7f', 'width': 4},\n",
       "              'name': 'mistralai/mistral-large',\n",
       "              'opacity': 0.4,\n",
       "              'r': [38.52065321805956, 66.78383128295255, 85.9375,\n",
       "                    62.76276276276276, 38.52065321805956],\n",
       "              'theta': [Analytical, Critical, Cultural, Verbal, Analytical],\n",
       "              'type': 'scatterpolar'},\n",
       "             {'line': {'color': '#bcbd22', 'width': 4},\n",
       "              'name': 'mistralai/mistral-medium',\n",
       "              'opacity': 0.4,\n",
       "              'r': [31.21998078770413, 59.57820738137083, 77.34375,\n",
       "                    50.45045045045045, 31.21998078770413],\n",
       "              'theta': [Analytical, Critical, Cultural, Verbal, Analytical],\n",
       "              'type': 'scatterpolar'},\n",
       "             {'line': {'color': '#17becf', 'width': 4},\n",
       "              'name': 'mistralai/mixtral-8x7b-instruct',\n",
       "              'opacity': 0.4,\n",
       "              'r': [25.26416906820365, 51.14235500878734, 71.22395833333334,\n",
       "                    43.54354354354354, 25.26416906820365],\n",
       "              'theta': [Analytical, Critical, Cultural, Verbal, Analytical],\n",
       "              'type': 'scatterpolar'},\n",
       "             {'line': {'color': '#f7b6d2', 'width': 4},\n",
       "              'name': 'openai/gpt-3.5-turbo',\n",
       "              'opacity': 0.4,\n",
       "              'r': [30.45148895292987, 49.91212653778559, 72.13541666666666,\n",
       "                    44.74474474474475, 30.45148895292987],\n",
       "              'theta': [Analytical, Critical, Cultural, Verbal, Analytical],\n",
       "              'type': 'scatterpolar'},\n",
       "             {'line': {'color': '#bcbd22', 'width': 4},\n",
       "              'name': 'openai/gpt-4-1106-preview',\n",
       "              'opacity': 0.4,\n",
       "              'r': [51.5850144092219, 70.65026362038664, 90.234375,\n",
       "                    72.67267267267268, 51.5850144092219],\n",
       "              'theta': [Analytical, Critical, Cultural, Verbal, Analytical],\n",
       "              'type': 'scatterpolar'}],\n",
       "    'layout': {'font': {'color': '#333333', 'family': 'Arial', 'size': 16},\n",
       "               'height': 950,\n",
       "               'legend': {'orientation': 'h', 'x': 0.5, 'xanchor': 'center', 'y': -0.45, 'yanchor': 'bottom'},\n",
       "               'polar': {'angularaxis': {'gridwidth': 2},\n",
       "                         'radialaxis': {'angle': 45,\n",
       "                                        'range': [0, 100],\n",
       "                                        'tickangle': 45,\n",
       "                                        'ticktext': [0%, 25%, 50%, 75%, 100%],\n",
       "                                        'tickvals': [0, 25, 50, 75, 100],\n",
       "                                        'visible': True}},\n",
       "               'template': '...',\n",
       "               'title': {'font': {'color': '#333333', 'size': 24},\n",
       "                         'text': 'TSP-QA - Accuracy',\n",
       "                         'x': 0.5,\n",
       "                         'xanchor': 'center',\n",
       "                         'y': 0.97,\n",
       "                         'yanchor': 'top'},\n",
       "               'width': 600}\n",
       "})"
      ]
     },
     "execution_count": 38,
     "metadata": {},
     "output_type": "execute_result"
    }
   ],
   "source": [
    "import plotly.graph_objects as go\n",
    "import pandas as pd\n",
    "\n",
    "\n",
    "categories = df.columns.tolist()\n",
    "categories = [*categories, categories[0]]  # Ensure the graph is circular by appending the start to the end\n",
    "colors = [\n",
    "    '#1f77b4',  # muted blue\n",
    "    '#ff7f0e',  # safety orange\n",
    "    '#2ca02c',  # cooked asparagus green\n",
    "    '#d62728',  # brick red\n",
    "    '#9467bd',  # muted purple\n",
    "    '#8c564b',  # chestnut brown\n",
    "    '#e377c2',  # raspberry yogurt pink\n",
    "    '#7f7f7f',  # middle gray\n",
    "    '#bcbd22',  # curry yellow-green\n",
    "    '#17becf',   # blue-teal\n",
    "    '#f7b6d2',  # pastel pink\n",
    "    '#bcbd22',  # faded green\n",
    "    '#dbdb8d',  # light olive\n",
    "    '#17becf',  # soft blue\n",
    "    '#9edae5',  # light blue\n",
    "    '#c5b0d5',  # soft purple\n",
    "    '#c49c94',  # dusty rose\n",
    "    '#f7b6d2',  # pastel pink\n",
    "    '#bcbd22',  # faded green\n",
    "    '#dbdb8d',  # light olive\n",
    "    '#17becf',  # soft blue\n",
    "    '#9edae5',  # light blue\n",
    "    '#c5b0d5',  # soft purple\n",
    "    '#c49c94',  # dusty rose\n",
    "]\n",
    "\n",
    "# Setting for 1000x1000\n",
    "fig_1000 = go.Figure()\n",
    "\n",
    "for i, (idx, row) in enumerate(df.iterrows()):\n",
    "    row = row.tolist() + [row[0]]  # Ensure the graph is circular by appending the start to the end\n",
    "    color = colors[i]\n",
    "    fig_1000.add_trace(go.Scatterpolar(\n",
    "        r=row,\n",
    "        theta=categories,\n",
    "        opacity=0.4,\n",
    "        name=idx,\n",
    "        line=dict(color=color, width=4),  # Adjust line width for better visibility\n",
    "    ))\n",
    "\n",
    "fig_1000.update_layout(\n",
    "    width=600,\n",
    "    height=950,\n",
    "    polar=dict(\n",
    "        angularaxis=dict(\n",
    "            gridwidth=2,  # Increase line width for better visibility\n",
    "        ),\n",
    "        radialaxis=dict(\n",
    "            visible=True,\n",
    "            range=[0, 100],\n",
    "            angle=45,\n",
    "            tickangle=45,\n",
    "            tickvals=[0, 25, 50, 75, 100],\n",
    "            ticktext=[\"0%\", \"25%\", \"50%\", \"75%\", \"100%\"],\n",
    "        ),\n",
    "    ),\n",
    "    title_text='TSP-QA - Accuracy',\n",
    "    title_x=0.5,\n",
    "    title_y=0.97,\n",
    "    title_xanchor='center',\n",
    "    title_yanchor='top',\n",
    "    title_font_size=24,\n",
    "    title_font_color='#333333',\n",
    "    font=dict(\n",
    "        family='Arial',\n",
    "        size=16,\n",
    "        color='#333333'\n",
    "    ),\n",
    "    legend=dict(\n",
    "        orientation=\"h\",\n",
    "        yanchor=\"bottom\",\n",
    "        y=-0.45,\n",
    "        xanchor=\"center\",\n",
    "        x=0.5\n",
    "    )\n",
    ")\n",
    "\n"
   ]
  },
  {
   "cell_type": "code",
   "execution_count": 380,
   "metadata": {},
   "outputs": [],
   "source": [
    "from datasets import  load_dataset\n",
    "\n",
    "x = load_dataset(\"hynky/TSP\")"
   ]
  },
  {
   "cell_type": "code",
   "execution_count": 446,
   "metadata": {},
   "outputs": [],
   "source": [
    "q_names = []\n",
    "vals = []\n",
    "for dst in x.values():\n",
    "    lst = [\n",
    "        x+y for x,y in zip(dst[\"questionName\"], dst[\"file\"])\n",
    "    ]\n",
    "    q_names.extend(lst)\n",
    "    vals.extend(dst)\n",
    "\n"
   ]
  },
  {
   "cell_type": "code",
   "execution_count": 450,
   "metadata": {},
   "outputs": [
    {
     "name": "stdout",
     "output_type": "stream",
     "text": [
      "['TSP 2010 - varianta 03, otázka č. 4 / 70./Users/hynekkdylicek/Projects/MUNI-TSP/downloads/tsp2010_v03.qdefx', 'TSP 2010 - varianta 03, otázka č. 2 / 70./Users/hynekkdylicek/Projects/MUNI-TSP/downloads/tsp2010_v03.qdefx', 'TSP 2010 - varianta 03, otázka č. 3 / 70./Users/hynekkdylicek/Projects/MUNI-TSP/downloads/tsp2010_v03.qdefx']\n",
      "[1381, 1399, 1435, 1489, 1533, 1558]\n"
     ]
    }
   ],
   "source": [
    "import numpy as np\n",
    "\n",
    "# get non uniques ones\n",
    "\n",
    "from collections import Counter\n",
    "name_counts = Counter(q_names)\n",
    "non_unique_names = [name for name, count in name_counts.items() if count > 1]\n",
    "print(non_unique_names)\n",
    "\n",
    "# Get indexes of non unique names\n",
    "non_unique_indexes = [i for i, name in enumerate(q_names) if name in non_unique_names]\n",
    "print(non_unique_indexes)\n"
   ]
  },
  {
   "cell_type": "code",
   "execution_count": 469,
   "metadata": {},
   "outputs": [
    {
     "data": {
      "text/plain": [
       "{'question': 'Vyberte nesprávné tvrzení.',\n",
       " 'questionTopic': 'Kritické myšlení',\n",
       " 'questionName': 'TSP 2010 - varianta 03, otázka č. 2 / 70.',\n",
       " 'file': '/Users/hynekkdylicek/Projects/MUNI-TSP/downloads/tsp2010_v03.qdefx',\n",
       " 'correct_answer': 'A',\n",
       " 'answers.A': 'Z ustanovení vyplývá, že před výpovědí nájmu bez přivolení soudu musí pronajímatel doručit nájemci písemnou výstrahu.',\n",
       " 'answers.B': 'Z ustanovení vyplývá, že za okolností stanovených Občanským zákoníkem má nájemce při výpovědi z nájmu nárok na náhradní bydlení.',\n",
       " 'answers.C': 'Ustanovení připouští, že nájemce může dostat výpověď z nájmu bez přivolení soudu také v případě, že dluží platby za užívání bytu za leden, červenec a září.',\n",
       " 'answers.D': 'Ustanovení připouští, že občané mohou bez vážných důvodů užívat dva a více bytů.',\n",
       " 'answers.E': 'Ustanovení připouští, že výpověď z nájmu lze podat i z jiných než uvedených důvodů.',\n",
       " '__index_level_0__': 1869}"
      ]
     },
     "execution_count": 469,
     "metadata": {},
     "output_type": "execute_result"
    }
   ],
   "source": [
    "vals[1399]"
   ]
  },
  {
   "cell_type": "code",
   "execution_count": 468,
   "metadata": {},
   "outputs": [
    {
     "data": {
      "text/plain": [
       "{'question': 'Zpráva z Internetu o podpoře v nezaměstnanosti: „Do 50 let náleží nezaměstnanému podpora 6 měsíců, od 50 do 55 let pak 9 měsíců a starší 55 let mohou pobírat podporu až 12 měsíců. V prvních dvou měsících je vyplácena podpora 80 % z průměrného čistého výdělku, od třetího měsíce pak 55 % z průměrného čistého výdělku. Podpora v nezaměstnanosti má strop 13 307 Kč měsíčně.“ Vyberte správné tvrzení.',\n",
       " 'questionTopic': 'Kritické myšlení',\n",
       " 'questionName': 'TSP 2010 - varianta 03, otázka č. 2 / 70.',\n",
       " 'file': '/Users/hynekkdylicek/Projects/MUNI-TSP/downloads/tsp2010_v03.qdefx',\n",
       " 'correct_answer': 'D',\n",
       " 'answers.A': 'Maximální celková částka podpory vyplacená během nezaměstnanosti je pro všechny nezaměstnané stejná.',\n",
       " 'answers.B': 'Čím je věk občana nižší, tím nižší celková částka podpory mu bude v případě nezaměstnanosti vyplacena.',\n",
       " 'answers.C': 'Z ustanovení nelze činit závěry, neboť z něj není patrné, co přesně se rozumí průměrným čistým výdělkem.',\n",
       " 'answers.D': 'Dva občané s různým průměrným čistým výdělkem mohou v nezaměstnanosti každý měsíc pobírat stejnou podporu.',\n",
       " 'answers.E': 'Dvaapadesátiletý občan může být nezaměstnaným nejdéle po dobu třičtvrtě roku.',\n",
       " '__index_level_0__': 2639}"
      ]
     },
     "execution_count": 468,
     "metadata": {},
     "output_type": "execute_result"
    }
   ],
   "source": [
    "vals[1558]"
   ]
  }
 ],
 "metadata": {
  "kernelspec": {
   "display_name": "dev",
   "language": "python",
   "name": "python3"
  },
  "language_info": {
   "codemirror_mode": {
    "name": "ipython",
    "version": 3
   },
   "file_extension": ".py",
   "mimetype": "text/x-python",
   "name": "python",
   "nbconvert_exporter": "python",
   "pygments_lexer": "ipython3",
   "version": "3.12.2"
  }
 },
 "nbformat": 4,
 "nbformat_minor": 2
}
